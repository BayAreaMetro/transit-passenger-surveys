{
 "cells": [
  {
   "cell_type": "code",
   "execution_count": 1,
   "metadata": {},
   "outputs": [],
   "source": [
    "import os\n",
    "import pandas as pd"
   ]
  },
  {
   "cell_type": "code",
   "execution_count": 2,
   "metadata": {},
   "outputs": [
    {
     "name": "stderr",
     "output_type": "stream",
     "text": [
      "C:\\Users\\ywang\\Anaconda3\\lib\\site-packages\\IPython\\core\\interactiveshell.py:3063: DtypeWarning: Columns (119,120) have mixed types.Specify dtype option on import or set low_memory=False.\n",
      "  interactivity=interactivity, compiler=compiler, result=result)\n"
     ]
    }
   ],
   "source": [
    "# read survey data and standard variable dictionary\n",
    "survey_raw = pd.read_csv('test_actransit.csv')\n",
    "var_dict = pd.read_csv(r'C:\\Users\\ywang\\Documents\\GitHub\\onboard-surveys\\util\\dict_v1.csv')"
   ]
  },
  {
   "cell_type": "code",
   "execution_count": 3,
   "metadata": {},
   "outputs": [
    {
     "name": "stdout",
     "output_type": "stream",
     "text": [
      "Survey data contains 14678 records.\n"
     ]
    }
   ],
   "source": [
    "# check no duplicated records and no duplicated id\n",
    "\n",
    "survey_nodup = survey_raw.drop_duplicates()\n",
    "assert survey_nodup.shape[0] == survey_raw.shape[0], 'Survey data has duplicated records.'\n",
    "\n",
    "assert ('ID' in survey_nodup), \"Survey data is missing the 'ID' field.\"\n",
    "\n",
    "assert survey_nodup.shape[0] == len(survey_nodup.ID.unique()), 'ID is not identical.'\n",
    "\n",
    "print('Survey data contains {} records.'.format(survey_nodup.shape[0]))\n",
    "df = survey_nodup.copy()"
   ]
  },
  {
   "cell_type": "code",
   "execution_count": 4,
   "metadata": {},
   "outputs": [
    {
     "name": "stdout",
     "output_type": "stream",
     "text": [
      "Survey data has all required fields.\n"
     ]
    }
   ],
   "source": [
    "# check if the data contains all the required fields\n",
    "\n",
    "var_all = var_dict.generic_variable.unique()\n",
    "for i in var_all:\n",
    "    assert (i in list(df)), 'Survey data is missing field: {}'.format(i)\n",
    "\n",
    "print('Survey data has all required fields.')"
   ]
  },
  {
   "cell_type": "code",
   "execution_count": 5,
   "metadata": {},
   "outputs": [
    {
     "name": "stdout",
     "output_type": "stream",
     "text": [
      "21 records have missing data for variable \"orig_purp\"\n",
      "7 records have missing data for variable \"egress_mode\"\n",
      "13 records have missing data for variable \"dest_purp\"\n",
      "5479 records have missing data for variable \"at_work_prior_to_orig_purp\"\n",
      "5479 records have missing data for variable \"at_work_after_dest_purp\"\n",
      "10701 records have missing data for variable \"at_school_prior_to_orig_purp\"\n",
      "10701 records have missing data for variable \"at_school_after_dest_purp\"\n",
      "Variable \"fare_category\" has the following values that are not in the standard dictionary :\n",
      "['adult' 'youth' 'disabled' 'senior']\n",
      "Variable \"fare_medium\" has the following values that are not in the standard dictionary :\n",
      "['cash' 'clipper']\n",
      "117 records have missing data for variable \"gender\"\n",
      "3319 records have missing data for variable \"household_income\"\n",
      "10861 records have missing data for variable \"eng_proficient\"\n"
     ]
    }
   ],
   "source": [
    "# check if categoric variables have the valid values or too many missing data\n",
    "\n",
    "missing_pct = 0.1\n",
    "\n",
    "var_cat = var_dict.loc[var_dict.variable_type == 'categoric']['generic_variable'].unique()\n",
    "\n",
    "for i in var_cat:\n",
    "    #print(i)\n",
    "    df_sub = df[['ID', i]]\n",
    "    var_sub = var_dict.loc[var_dict.generic_variable == i][['generic_variable','valid_values_for_categoric_variables']]\n",
    "    \n",
    "    compare = df_sub.merge(var_sub, left_on=i, right_on='valid_values_for_categoric_variables', how='left')\n",
    "    #display(compare)\n",
    "    diff = compare.loc[compare.generic_variable.isnull()]\n",
    "    if diff.shape[0] > 0:\n",
    " \n",
    "        df_na = diff.loc[diff[i].isnull()]\n",
    "        df_na_count = df_na.shape[0]\n",
    "        if df_na_count > 0:\n",
    "            print('{} records have missing data for variable \"{}\"'.format(df_na_count, i))                \n",
    "            # na_pct = diff_na.shape[0] / df.shape[0]\n",
    "            # assert (na_pct <= missing_pct), 'Variable {} has too many missing data'.format(i)\n",
    "\n",
    "        df_non_na = diff.loc[diff[i].notnull()]\n",
    "        df_other_value = df_non_na[i].unique()\n",
    "        if df_non_na.shape[0] > 0:\n",
    "            print('Variable \"{}\" has the following values that are not in the standard dictionary :\\n{}'.format(i, df_other_value))\n"
   ]
  },
  {
   "cell_type": "code",
   "execution_count": 6,
   "metadata": {},
   "outputs": [
    {
     "name": "stdout",
     "output_type": "stream",
     "text": [
      "134 records are missing data in at least one of the following variables: \n",
      "['time_string', 'date_string', 'route', 'survey_alight_lat', 'survey_alight_lon', 'survey_board_lat', 'survey_board_lon', 'orig_purp', 'orig_lat', 'orig_lon', 'dest_purp', 'dest_lat', 'dest_lon', 'home_lat', 'home_lon']\n"
     ]
    }
   ],
   "source": [
    "# for non-categoric variables, check #missing data\n",
    "\n",
    "## variables that should have no missing data:\n",
    "\n",
    "no_na_variables =  ['time_string',\n",
    "                    'date_string',\n",
    "                    'route',\n",
    "                    'survey_alight_lat',\n",
    "                    'survey_alight_lon',\n",
    "                    'survey_board_lat',\n",
    "                    'survey_board_lon',\n",
    "                    'orig_purp',\n",
    "                    'orig_lat',\n",
    "                    'orig_lon',\n",
    "                    'dest_purp',\n",
    "                    'dest_lat',\n",
    "                    'dest_lon',\n",
    "                    'home_lat',\n",
    "                    'home_lon']\n",
    "df_chk_na = df[no_na_variables]\n",
    "\n",
    "df_no_na = df_chk_na.dropna(how='any')\n",
    "df_na_pct = 1 - df_no_na.shape[0]/df.shape[0]\n",
    "\n",
    "print('{} records are missing data in at least one of the following variables: \\n{}'.format(df.shape[0]-df_no_na.shape[0],\n",
    "                                                                                            no_na_variables))\n",
    "\n",
    "# assert (df_na_pct <= missing_pct), '{} records ({} of all records) are missing data \\\n",
    "#                                     in the following variables, \\\n",
    "#                                     exceeding the threshold {}: \\n{}'.format(df.shape[0]-df_no_na.shape[0],\n",
    "#                                                                              df_na_pct,\n",
    "#                                                                              missing_pct,\n",
    "#                                                                              no_na_variables)\n"
   ]
  },
  {
   "cell_type": "code",
   "execution_count": 7,
   "metadata": {},
   "outputs": [
    {
     "name": "stdout",
     "output_type": "stream",
     "text": [
      "171 students missing school_lat/lon\n"
     ]
    }
   ],
   "source": [
    "## workers should have workplace_lat/_lon; students should have school_lat/_lon\n",
    "workers = df.loc[df.work_status == 'full- or part-time']\n",
    "workers_lat_lon = workers.loc[(workers.workplace_lat.notnull()) & (workers.workplace_lon.notnull())]\n",
    "workers_missing_latlon = workers.shape[0] - workers_lat_lon.shape[0]\n",
    "if workers_missing_latlon > 0:\n",
    "    print('{} workers missing workplace_lat/lon'.format(workers_missing_latlon))\n",
    "# assert (workers.shape[0] == workers_lat_lon.shape[0]), 'workers missing workplace_lat/_lon'\n",
    "\n",
    "students = df.loc[df.student_status == 'full- or part-time']\n",
    "students_lat_lon = students.loc[(students.school_lat.notnull()) & (students.school_lon.notnull())]\n",
    "students_missing_latlon = students.shape[0] - students_lat_lon.shape[0]\n",
    "if students_missing_latlon > 0:\n",
    "    print('{} students missing school_lat/lon'.format(students_missing_latlon))\n",
    "# assert (students.shape[0] == students_lat_lon.shape[0]), 'students missing school_lat/_lon'"
   ]
  },
  {
   "cell_type": "code",
   "execution_count": 8,
   "metadata": {},
   "outputs": [],
   "source": [
    "# check transfer routes should have both operator and route number/name info?\n",
    "# access_mode / egress_mode more categories?\n",
    "# missing values - \"missing\" or NA?"
   ]
  },
  {
   "cell_type": "code",
   "execution_count": null,
   "metadata": {},
   "outputs": [],
   "source": []
  }
 ],
 "metadata": {
  "kernelspec": {
   "display_name": "Python 3",
   "language": "python",
   "name": "python3"
  },
  "language_info": {
   "codemirror_mode": {
    "name": "ipython",
    "version": 3
   },
   "file_extension": ".py",
   "mimetype": "text/x-python",
   "name": "python",
   "nbconvert_exporter": "python",
   "pygments_lexer": "ipython3",
   "version": "3.7.6"
  }
 },
 "nbformat": 4,
 "nbformat_minor": 4
}
