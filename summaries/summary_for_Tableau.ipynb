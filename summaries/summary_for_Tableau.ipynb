{
 "cells": [
  {
   "cell_type": "code",
   "execution_count": null,
   "metadata": {},
   "outputs": [],
   "source": [
    "import pandas as pd\n",
    "import numpy as np\n",
    "import os"
   ]
  },
  {
   "cell_type": "markdown",
   "metadata": {},
   "source": [
    "### Main trip-related and demographic information"
   ]
  },
  {
   "cell_type": "code",
   "execution_count": 2,
   "metadata": {},
   "outputs": [
    {
     "name": "stderr",
     "output_type": "stream",
     "text": [
      "C:\\Program Files\\ArcGIS\\Pro\\bin\\Python\\envs\\arcgispro-py3\\lib\\site-packages\\IPython\\core\\interactiveshell.py:3063: DtypeWarning: Columns (0,7,9,22,23,26,27,28,29,30,32,40,41,42,52,55,56) have mixed types.Specify dtype option on import or set low_memory=False.\n",
      "  interactivity=interactivity, compiler=compiler, result=result)\n"
     ]
    }
   ],
   "source": [
    "fname = 'survey_standard_2021-03-22.csv'\n",
    "\n",
    "df_raw = pd.read_csv(os.path.join('M:\\\\Data\\\\OnBoard\\\\Data and Reports\\\\_data Standardized', fname), encoding = 'ISO-8859-1')"
   ]
  },
  {
   "cell_type": "code",
   "execution_count": 3,
   "metadata": {},
   "outputs": [
    {
     "name": "stdout",
     "output_type": "stream",
     "text": [
      "Read 146457 rows from the data including the following surveys: \n",
      "['AC Transit - 2018', 'ACE - 2019', 'BART - 2015', 'Caltrain - 2014', 'Capitol Corridor - 2019', 'City Coach - 2017', 'County Connection - 2019', 'Delta Breeze - 2017', 'FAST - 2017', 'Golden Gate Transit - 2018', 'LAVTA - 2018', 'Marin Transit - 2017', 'Napa Vine - 2014', 'Napa Vine - 2019', 'Petaluma Transit - 2018', 'Santa Rosa CityBus - 2018', 'SF Muni - 2017', 'Soltrans - 2017', 'Sonoma-Marin Area Rail Transit - 2018', 'Sonoma County Transit - 2018', 'TriDelta - 2019', 'Union City Transit - 2017', 'VTA - 2017', 'WestCAT - 2017', 'WETA - 2019']\n"
     ]
    },
    {
     "data": {
      "text/html": [
       "<div>\n",
       "<style scoped>\n",
       "    .dataframe tbody tr th:only-of-type {\n",
       "        vertical-align: middle;\n",
       "    }\n",
       "\n",
       "    .dataframe tbody tr th {\n",
       "        vertical-align: top;\n",
       "    }\n",
       "\n",
       "    .dataframe thead th {\n",
       "        text-align: right;\n",
       "    }\n",
       "</style>\n",
       "<table border=\"1\" class=\"dataframe\">\n",
       "  <thead>\n",
       "    <tr style=\"text-align: right;\">\n",
       "      <th></th>\n",
       "      <th>ID</th>\n",
       "      <th>operator</th>\n",
       "      <th>survey_year</th>\n",
       "      <th>survey_tech</th>\n",
       "      <th>access_mode</th>\n",
       "      <th>alt_weight</th>\n",
       "      <th>depart_hour</th>\n",
       "      <th>depart_time</th>\n",
       "      <th>dest_purp</th>\n",
       "      <th>direction</th>\n",
       "      <th>...</th>\n",
       "      <th>home_maz</th>\n",
       "      <th>orig_maz</th>\n",
       "      <th>school_maz</th>\n",
       "      <th>workplace_maz</th>\n",
       "      <th>board_tap</th>\n",
       "      <th>alight_tap</th>\n",
       "      <th>trip_weight</th>\n",
       "      <th>field_language</th>\n",
       "      <th>survey_time</th>\n",
       "      <th>operator_survey_year</th>\n",
       "    </tr>\n",
       "  </thead>\n",
       "  <tbody>\n",
       "    <tr>\n",
       "      <th>0</th>\n",
       "      <td>1</td>\n",
       "      <td>AC Transit</td>\n",
       "      <td>2018</td>\n",
       "      <td>local bus</td>\n",
       "      <td>walk</td>\n",
       "      <td>NaN</td>\n",
       "      <td>NaN</td>\n",
       "      <td>NaN</td>\n",
       "      <td>work</td>\n",
       "      <td>NaN</td>\n",
       "      <td>...</td>\n",
       "      <td>11514.0</td>\n",
       "      <td>11514.0</td>\n",
       "      <td>NaN</td>\n",
       "      <td>425106.0</td>\n",
       "      <td>90131.0</td>\n",
       "      <td>490370.0</td>\n",
       "      <td>1.855557</td>\n",
       "      <td>ENGLISH</td>\n",
       "      <td>17:30:00</td>\n",
       "      <td>AC Transit - 2018</td>\n",
       "    </tr>\n",
       "    <tr>\n",
       "      <th>1</th>\n",
       "      <td>10</td>\n",
       "      <td>AC Transit</td>\n",
       "      <td>2018</td>\n",
       "      <td>local bus</td>\n",
       "      <td>walk</td>\n",
       "      <td>NaN</td>\n",
       "      <td>NaN</td>\n",
       "      <td>NaN</td>\n",
       "      <td>work</td>\n",
       "      <td>NaN</td>\n",
       "      <td>...</td>\n",
       "      <td>316876.0</td>\n",
       "      <td>316876.0</td>\n",
       "      <td>NaN</td>\n",
       "      <td>324992.0</td>\n",
       "      <td>390602.0</td>\n",
       "      <td>390316.0</td>\n",
       "      <td>4.847912</td>\n",
       "      <td>ENGLISH</td>\n",
       "      <td>07:30:00</td>\n",
       "      <td>AC Transit - 2018</td>\n",
       "    </tr>\n",
       "    <tr>\n",
       "      <th>2</th>\n",
       "      <td>100</td>\n",
       "      <td>AC Transit</td>\n",
       "      <td>2018</td>\n",
       "      <td>local bus</td>\n",
       "      <td>walk</td>\n",
       "      <td>NaN</td>\n",
       "      <td>NaN</td>\n",
       "      <td>NaN</td>\n",
       "      <td>home</td>\n",
       "      <td>NaN</td>\n",
       "      <td>...</td>\n",
       "      <td>318470.0</td>\n",
       "      <td>318567.0</td>\n",
       "      <td>NaN</td>\n",
       "      <td>318567.0</td>\n",
       "      <td>390526.0</td>\n",
       "      <td>390132.0</td>\n",
       "      <td>9.772444</td>\n",
       "      <td>ENGLISH</td>\n",
       "      <td>17:30:00</td>\n",
       "      <td>AC Transit - 2018</td>\n",
       "    </tr>\n",
       "    <tr>\n",
       "      <th>3</th>\n",
       "      <td>1000</td>\n",
       "      <td>AC Transit</td>\n",
       "      <td>2018</td>\n",
       "      <td>local bus</td>\n",
       "      <td>walk</td>\n",
       "      <td>NaN</td>\n",
       "      <td>NaN</td>\n",
       "      <td>NaN</td>\n",
       "      <td>work</td>\n",
       "      <td>NaN</td>\n",
       "      <td>...</td>\n",
       "      <td>327175.0</td>\n",
       "      <td>327175.0</td>\n",
       "      <td>NaN</td>\n",
       "      <td>325899.0</td>\n",
       "      <td>390316.0</td>\n",
       "      <td>390746.0</td>\n",
       "      <td>10.572424</td>\n",
       "      <td>ENGLISH</td>\n",
       "      <td>08:30:00</td>\n",
       "      <td>AC Transit - 2018</td>\n",
       "    </tr>\n",
       "    <tr>\n",
       "      <th>4</th>\n",
       "      <td>10000</td>\n",
       "      <td>AC Transit</td>\n",
       "      <td>2018</td>\n",
       "      <td>local bus</td>\n",
       "      <td>walk</td>\n",
       "      <td>NaN</td>\n",
       "      <td>7.0</td>\n",
       "      <td>NaN</td>\n",
       "      <td>work-related</td>\n",
       "      <td>NaN</td>\n",
       "      <td>...</td>\n",
       "      <td>324492.0</td>\n",
       "      <td>323825.0</td>\n",
       "      <td>NaN</td>\n",
       "      <td>311933.0</td>\n",
       "      <td>390086.0</td>\n",
       "      <td>390449.0</td>\n",
       "      <td>1.270000</td>\n",
       "      <td>ENGLISH</td>\n",
       "      <td>11:30:00</td>\n",
       "      <td>AC Transit - 2018</td>\n",
       "    </tr>\n",
       "  </tbody>\n",
       "</table>\n",
       "<p>5 rows × 91 columns</p>\n",
       "</div>"
      ],
      "text/plain": [
       "      ID    operator  survey_year survey_tech access_mode  alt_weight  \\\n",
       "0      1  AC Transit         2018   local bus        walk         NaN   \n",
       "1     10  AC Transit         2018   local bus        walk         NaN   \n",
       "2    100  AC Transit         2018   local bus        walk         NaN   \n",
       "3   1000  AC Transit         2018   local bus        walk         NaN   \n",
       "4  10000  AC Transit         2018   local bus        walk         NaN   \n",
       "\n",
       "   depart_hour depart_time     dest_purp direction  ...  home_maz  orig_maz  \\\n",
       "0          NaN         NaN          work       NaN  ...   11514.0   11514.0   \n",
       "1          NaN         NaN          work       NaN  ...  316876.0  316876.0   \n",
       "2          NaN         NaN          home       NaN  ...  318470.0  318567.0   \n",
       "3          NaN         NaN          work       NaN  ...  327175.0  327175.0   \n",
       "4          7.0         NaN  work-related       NaN  ...  324492.0  323825.0   \n",
       "\n",
       "  school_maz workplace_maz  board_tap  alight_tap trip_weight field_language  \\\n",
       "0        NaN      425106.0    90131.0    490370.0    1.855557        ENGLISH   \n",
       "1        NaN      324992.0   390602.0    390316.0    4.847912        ENGLISH   \n",
       "2        NaN      318567.0   390526.0    390132.0    9.772444        ENGLISH   \n",
       "3        NaN      325899.0   390316.0    390746.0   10.572424        ENGLISH   \n",
       "4        NaN      311933.0   390086.0    390449.0    1.270000        ENGLISH   \n",
       "\n",
       "  survey_time operator_survey_year  \n",
       "0    17:30:00    AC Transit - 2018  \n",
       "1    07:30:00    AC Transit - 2018  \n",
       "2    17:30:00    AC Transit - 2018  \n",
       "3    08:30:00    AC Transit - 2018  \n",
       "4    11:30:00    AC Transit - 2018  \n",
       "\n",
       "[5 rows x 91 columns]"
      ]
     },
     "metadata": {},
     "output_type": "display_data"
    }
   ],
   "source": [
    "df = df_raw.copy()\n",
    "df['operator_survey_year'] = df['operator'] + ' - ' + df['survey_year'].apply(lambda x: str(x))\n",
    "\n",
    "print('Read {} rows from the data including the following surveys: \\n{}'.format(df.shape[0],\n",
    "                                                                              list(df.operator_survey_year.unique())))\n",
    "\n",
    "display(df.head())"
   ]
  },
  {
   "cell_type": "code",
   "execution_count": 4,
   "metadata": {},
   "outputs": [
    {
     "name": "stdout",
     "output_type": "stream",
     "text": [
      "race has missing value in 0 rows, 0.0% of total\n",
      "hispanic has missing value in 4615 rows, 3.2% of total\n",
      "household_income has missing value in 30497 rows, 20.8% of total\n",
      "approximate_age has missing value in 7659 rows, 5.2% of total\n",
      "work_status has missing value in 16857 rows, 11.5% of total\n",
      "student_status has missing value in 9728 rows, 6.6% of total\n",
      "auto_suff has missing value in 7351 rows, 5.0% of total\n",
      "access_mode has missing value in 6120 rows, 4.2% of total\n",
      "egress_mode has missing value in 6128 rows, 4.2% of total\n",
      "boardings has missing value in 0 rows, 0.0% of total\n",
      "depart_hour has missing value in 86247 rows, 58.9% of total\n",
      "return_hour has missing value in 91904 rows, 62.8% of total\n",
      "tour_purp has missing value in 3390 rows, 2.3% of total\n",
      "weekpart has missing value in 27 rows, 0.0% of total\n",
      "day_part has missing value in 5907 rows, 4.0% of total\n",
      "fare_medium has missing value in 6348 rows, 4.3% of total\n",
      "fare_category has missing value in 5944 rows, 4.1% of total\n",
      "eng_proficient has missing value in 106019 rows, 72.4% of total\n",
      "persons has missing value in 4673 rows, 3.2% of total\n",
      "gender has missing value in 4778 rows, 3.3% of total\n",
      "worker_numeric_cat has missing value in 7320 rows, 5.0% of total\n",
      "vehicle_numeric_cat has missing value in 6938 rows, 4.7% of total\n"
     ]
    }
   ],
   "source": [
    "# consistently label 'missing' value for fields that should have a value\n",
    "missing_value_dict = {'missing': 'missing',\n",
    "                      'MISSING': 'missing',\n",
    "                      'Missing': 'missing'}\n",
    "\n",
    "for colname in ['race', 'hispanic', 'household_income', 'approximate_age', 'work_status', 'student_status', 'auto_suff',\n",
    "                'access_mode', 'egress_mode', 'boardings',  'depart_hour', 'return_hour',\n",
    "                'tour_purp', 'weekpart', 'day_part', \n",
    "                'fare_medium', 'fare_category', 'eng_proficient',\n",
    "                'persons', 'gender', 'worker_numeric_cat', 'vehicle_numeric_cat']:\n",
    "    df[colname+'_temp'] = df[colname].map(missing_value_dict)\n",
    "    df.loc[df[colname+'_temp'] == 'missing', colname] = 'missing'\n",
    "    df.loc[df[colname].isnull(), colname] = 'missing'\n",
    "\n",
    "    missing = df.loc[df[colname] == 'missing']\n",
    "    print('{} has missing value in {} rows, {:.1%} of total'.format(colname, missing.shape[0], missing.shape[0]/df.shape[0]))\n",
    "    \n",
    "    df.drop(columns = [colname+'_temp'], inplace=True)"
   ]
  },
  {
   "cell_type": "code",
   "execution_count": 5,
   "metadata": {},
   "outputs": [
    {
     "data": {
      "text/plain": [
       "walk at both ends           95236\n",
       "pnr at one end              18903\n",
       "knr at one end              13148\n",
       "missing at least one end     6242\n",
       "bike at both ends            4452\n",
       "pnr and knr                  2583\n",
       "pnr at both ends             1932\n",
       "knr at both ends             1567\n",
       "bike at one end              1505\n",
       "tnc at one end                595\n",
       "pnr and tnc                   161\n",
       "other                          85\n",
       "tnc at both ends               48\n",
       "Name: access_egress_modes, dtype: int64"
      ]
     },
     "metadata": {},
     "output_type": "display_data"
    }
   ],
   "source": [
    "# summarize access and egress modes\n",
    "df['access_egress_modes'] = df['access_mode'] + '-' + df['egress_mode']\n",
    "# display(df.access_egress_modes.value_counts())\n",
    "\n",
    "access_egress_mode_dict = {'walk-walk': 'walk at both ends',\n",
    "                           'pnr-walk': 'pnr at one end',\n",
    "                           'knr-walk': 'knr at one end',\n",
    "                           'walk-pnr': 'pnr at one end',\n",
    "                           'walk-knr': 'knr at one end',\n",
    "                           'bike-bike': 'bike at both ends',\n",
    "                           'missing-missing': 'missing at least one end',\n",
    "                           'pnr-pnr': 'pnr at both ends',\n",
    "                           'knr-knr': 'knr at both ends',\n",
    "                           'knr-pnr': 'pnr and knr',\n",
    "                           'pnr-knr': 'pnr and knr',\n",
    "                           'bike-walk': 'bike at one end',\n",
    "                           'walk-bike': 'bike at one end',\n",
    "                           'tnc-walk': 'tnc at one end',\n",
    "                           'walk-tnc': 'tnc at one end',\n",
    "                           'bike-pnr': 'pnr at one end',\n",
    "                           'pnr-bike': 'pnr at one end',\n",
    "                           'bike-knr': 'knr at one end',\n",
    "                           'knr-bike': 'knr at one end',\n",
    "                           'walk-missing': 'missing at least one end',\n",
    "                           'missing-walk': 'missing at least one end',\n",
    "                           'other-walk': 'other',\n",
    "                           'tnc-tnc': 'tnc at both ends',\n",
    "                           'pnr-tnc': 'pnr and tnc',\n",
    "                           'knr-tnc': 'pnr and tnc',\n",
    "                           'tnc-knr': 'pnr and tnc',\n",
    "                           'tnc-pnr': 'pnr and tnc',\n",
    "                           'walk-other': 'other',\n",
    "                           'missing-pnr': 'missing at least one end',\n",
    "                           'pnr-missing': 'missing at least one end',\n",
    "                           'missing-knr': 'missing at least one end',\n",
    "                           'bike-tnc': 'tnc at one end',\n",
    "                           'knr-missing': 'missing at least one end',\n",
    "                           'bike-missing': 'missing at least one end',\n",
    "                           'tnc-bike': 'tnc at one end',\n",
    "                           'knr-other': 'knr at one end',\n",
    "                           'other-other': 'other',\n",
    "                           'other-pnr': 'pnr at one end',\n",
    "                           'other-knr': 'knr at one end',\n",
    "                           'other-bike': 'bike at one end',\n",
    "                           'missing-tnc': 'missing at least one end',\n",
    "                           'missing-other':'missing at least one end',\n",
    "                           'tnc-missing': 'missing at least one end'}\n",
    "\n",
    "df['access_egress_modes'] = df['access_egress_modes'].map(access_egress_mode_dict)\n",
    "display(df.access_egress_modes.value_counts())"
   ]
  },
  {
   "cell_type": "code",
   "execution_count": 6,
   "metadata": {},
   "outputs": [
    {
     "data": {
      "text/plain": [
       "30 to 39         35700\n",
       "23 to 29         31616\n",
       "40 to 49         22629\n",
       "16 to 22         18328\n",
       "50 to 59         16404\n",
       "60 to 69          9653\n",
       "missing           7659\n",
       "Above 69          3703\n",
       "below than 16      765\n",
       "Name: age_group, dtype: int64"
      ]
     },
     "metadata": {},
     "output_type": "display_data"
    }
   ],
   "source": [
    "# create 'age_group' field\n",
    "\n",
    "df.loc[df.approximate_age == 'missing', 'approximate_age'] = np.nan\n",
    "df['approximate_age'] = df['approximate_age'].fillna(0)\n",
    "df['approximate_age'] = df['approximate_age'].apply(lambda x: int(x))\n",
    "df['age_group'] = 'missing'\n",
    "df.loc[(df.approximate_age > 0) & (df.approximate_age < 16), 'age_group'] = 'below than 16'\n",
    "df.loc[(df.approximate_age > 15) & (df.approximate_age < 23), 'age_group'] = '16 to 22'\n",
    "df.loc[(df.approximate_age > 22) & (df.approximate_age < 30), 'age_group'] = '23 to 29'\n",
    "df.loc[(df.approximate_age > 29) & (df.approximate_age < 40), 'age_group'] = '30 to 39'\n",
    "df.loc[(df.approximate_age > 39) & (df.approximate_age < 50), 'age_group'] = '40 to 49'\n",
    "df.loc[(df.approximate_age > 49) & (df.approximate_age < 60), 'age_group'] = '50 to 59'\n",
    "df.loc[(df.approximate_age > 59) & (df.approximate_age < 70), 'age_group'] = '60 to 69'\n",
    "df.loc[df.approximate_age > 69, 'age_group'] = 'Above 69'\n",
    "display(df.age_group.value_counts())"
   ]
  },
  {
   "cell_type": "code",
   "execution_count": 7,
   "metadata": {},
   "outputs": [
    {
     "data": {
      "text/plain": [
       "clipper (cash)    55944\n",
       "clipper (pass)    33499\n",
       "cash              21560\n",
       "ticket            19958\n",
       "pass               6977\n",
       "missing            6348\n",
       "e-ticket           1760\n",
       "other               399\n",
       "transfer             12\n",
       "Name: fare_medium_summary, dtype: int64"
      ]
     },
     "metadata": {},
     "output_type": "display_data"
    },
    {
     "data": {
      "text/plain": [
       "adult              124774\n",
       "missing              5944\n",
       "senior               5883\n",
       "youth                4085\n",
       "disabled             2582\n",
       "monthly               774\n",
       "one-way               664\n",
       "round-trip            651\n",
       "other discount        497\n",
       "other                 415\n",
       "senior/disabled       188\n",
       "Name: fare_category_summary, dtype: int64"
      ]
     },
     "metadata": {},
     "output_type": "display_data"
    }
   ],
   "source": [
    "# summarize fare medium and fare category\n",
    "\n",
    "# use standard value dictionary\n",
    "dict_df = pd.read_csv(r'C:\\Users\\ywang\\Documents\\GitHub\\onboard-surveys\\util\\standard_variable_dict.csv',\n",
    "                      usecols = ['generic_variable',\n",
    "                                 'valid_values_for_categoric_variables',\n",
    "                                 'standard_values_for_categoric_variables'])\n",
    "dict_df.columns = ['variable_name','value_details','value_summary']\n",
    "\n",
    "for colname in ['fare_medium', 'fare_category']:\n",
    "    df[colname] = df[colname].apply(lambda x: x.strip())\n",
    "    value_dict = dict_df.loc[dict_df.variable_name == colname]\n",
    "    df = df.merge(value_dict, left_on=colname, right_on='value_details', how='left')\n",
    "    df.rename(columns = {'value_summary': colname+'_summary'}, inplace=True)\n",
    "    display(df[colname+'_summary'].value_counts())"
   ]
  },
  {
   "cell_type": "code",
   "execution_count": 8,
   "metadata": {},
   "outputs": [],
   "source": [
    "# export needed fields\n",
    "basic_info = ['operator_survey_year', 'weekpart', 'day_part', 'trip_weight', 'weight']\n",
    "\n",
    "trip_info = ['access_egress_modes', 'access_mode', 'egress_mode', 'tour_purp', 'boardings',\n",
    "             'fare_category_summary', 'fare_medium_summary',\n",
    "             'commuter_rail_present', 'heavy_rail_present', 'ferry_present', 'light_rail_present', 'express_bus_present']\n",
    "\n",
    "demo_info = ['persons', 'work_status', 'student_status', 'age_group', 'gender', 'race', 'hispanic', 'eng_proficient', \n",
    "             'household_income', 'worker_numeric_cat', 'vehicle_numeric_cat', 'auto_suff']\n",
    "\n",
    "spatial_info = ['orig_taz', 'dest_taz', 'home_taz', 'workplace_taz', 'school_taz',\n",
    "#                 'orig_maz', 'dest_maz', 'home_maz', 'workplace_maz', 'school_maz',\n",
    "                'first_board_lat', 'first_board_lon', 'last_alight_lat', 'last_alight_lon']"
   ]
  },
  {
   "cell_type": "code",
   "execution_count": 9,
   "metadata": {},
   "outputs": [
    {
     "name": "stdout",
     "output_type": "stream",
     "text": [
      "column with missing: weekpart\n",
      "column with missing: day_part\n",
      "column with missing: access_mode\n",
      "column with missing: egress_mode\n",
      "column with missing: tour_purp\n"
     ]
    },
    {
     "name": "stderr",
     "output_type": "stream",
     "text": [
      "C:\\Program Files\\ArcGIS\\Pro\\bin\\Python\\envs\\arcgispro-py3\\lib\\site-packages\\ipykernel_launcher.py:7: FutureWarning: elementwise comparison failed; returning scalar instead, but in the future will perform elementwise comparison\n",
      "  import sys\n"
     ]
    },
    {
     "name": "stdout",
     "output_type": "stream",
     "text": [
      "column with missing: fare_category_summary\n",
      "column with missing: fare_medium_summary\n",
      "column with missing: persons\n",
      "column with missing: work_status\n",
      "column with missing: student_status\n",
      "column with missing: age_group\n",
      "column with missing: gender\n",
      "column with missing: hispanic\n",
      "column with missing: eng_proficient\n",
      "column with missing: household_income\n",
      "column with missing: worker_numeric_cat\n",
      "column with missing: vehicle_numeric_cat\n",
      "column with missing: auto_suff\n",
      "column with NA: orig_taz\n",
      "column with NA: dest_taz\n",
      "column with NA: home_taz\n",
      "column with NA: workplace_taz\n",
      "column with NA: school_taz\n",
      "column with NA: first_board_lat\n",
      "column with NA: first_board_lon\n",
      "column with NA: last_alight_lat\n",
      "column with NA: last_alight_lon\n"
     ]
    },
    {
     "name": "stderr",
     "output_type": "stream",
     "text": [
      "C:\\Program Files\\ArcGIS\\Pro\\bin\\Python\\envs\\arcgispro-py3\\lib\\site-packages\\pandas\\core\\indexing.py:966: SettingWithCopyWarning: \n",
      "A value is trying to be set on a copy of a slice from a DataFrame.\n",
      "Try using .loc[row_indexer,col_indexer] = value instead\n",
      "\n",
      "See the caveats in the documentation: https://pandas.pydata.org/pandas-docs/stable/user_guide/indexing.html#returning-a-view-versus-a-copy\n",
      "  self.obj[item] = s\n"
     ]
    }
   ],
   "source": [
    "df_summary = df[basic_info + trip_info + demo_info + spatial_info]\n",
    "\n",
    "# check NA in columns\n",
    "for i in list(df_summary):\n",
    "    if df_summary[i].isnull().values.any():\n",
    "        print('column with NA: {}'.format(i))\n",
    "    if 'missing' in (df_summary[i].unique()):\n",
    "        print('column with missing: {}'.format(i))\n",
    "\n",
    "for i in ['work_status', 'student_status']:\n",
    "    df_summary.loc[df[i] == 'missing', i] = np.nan\n",
    "    \n"
   ]
  },
  {
   "cell_type": "code",
   "execution_count": 10,
   "metadata": {
    "scrolled": false
   },
   "outputs": [
    {
     "name": "stderr",
     "output_type": "stream",
     "text": [
      "C:\\Program Files\\ArcGIS\\Pro\\bin\\Python\\envs\\arcgispro-py3\\lib\\site-packages\\ipykernel_launcher.py:3: SettingWithCopyWarning: \n",
      "A value is trying to be set on a copy of a slice from a DataFrame.\n",
      "Try using .loc[row_indexer,col_indexer] = value instead\n",
      "\n",
      "See the caveats in the documentation: https://pandas.pydata.org/pandas-docs/stable/user_guide/indexing.html#returning-a-view-versus-a-copy\n",
      "  This is separate from the ipykernel package so we can avoid doing imports until\n",
      "C:\\Program Files\\ArcGIS\\Pro\\bin\\Python\\envs\\arcgispro-py3\\lib\\site-packages\\ipykernel_launcher.py:4: SettingWithCopyWarning: \n",
      "A value is trying to be set on a copy of a slice from a DataFrame.\n",
      "Try using .loc[row_indexer,col_indexer] = value instead\n",
      "\n",
      "See the caveats in the documentation: https://pandas.pydata.org/pandas-docs/stable/user_guide/indexing.html#returning-a-view-versus-a-copy\n",
      "  after removing the cwd from sys.path.\n"
     ]
    }
   ],
   "source": [
    "# convert taz data to integer\n",
    "for i in ['orig_taz', 'dest_taz', 'home_taz', 'workplace_taz', 'school_taz']:\n",
    "    df_summary[i] = df_summary[i].fillna(0)\n",
    "    df_summary[i] = df_summary[i].apply(lambda x: int(x))"
   ]
  },
  {
   "cell_type": "code",
   "execution_count": 11,
   "metadata": {},
   "outputs": [],
   "source": [
    "# export\n",
    "new_fname = fname.split('.')[0] + '_forTableau.csv'\n",
    "df_summary.to_csv(os.path.join('M:\\\\Data\\\\OnBoard\\\\Data and Reports\\\\_data Standardized', new_fname), index=False)"
   ]
  },
  {
   "cell_type": "code",
   "execution_count": 12,
   "metadata": {},
   "outputs": [
    {
     "data": {
      "text/plain": [
       "BART - 2015                              4053\n",
       "Caltrain - 2014                           328\n",
       "Capitol Corridor - 2019                   189\n",
       "SF Muni - 2017                             27\n",
       "WestCAT - 2017                             23\n",
       "Golden Gate Transit - 2018                 15\n",
       "FAST - 2017                                 8\n",
       "Marin Transit - 2017                        7\n",
       "Soltrans - 2017                             6\n",
       "ACE - 2019                                  5\n",
       "Napa Vine - 2019                            3\n",
       "Sonoma-Marin Area Rail Transit - 2018       3\n",
       "City Coach - 2017                           3\n",
       "Sonoma County Transit - 2018                2\n",
       "Union City Transit - 2017                   1\n",
       "Name: operator_survey_year, dtype: int64"
      ]
     },
     "execution_count": 12,
     "metadata": {},
     "output_type": "execute_result"
    }
   ],
   "source": [
    "df_summary.loc[df_summary.persons=='missing'].operator_survey_year.value_counts()"
   ]
  },
  {
   "cell_type": "code",
   "execution_count": 13,
   "metadata": {},
   "outputs": [
    {
     "data": {
      "text/plain": [
       "BART - 2015                   4009\n",
       "Caltrain - 2014                328\n",
       "SF Muni - 2017                 121\n",
       "AC Transit - 2018              117\n",
       "Capitol Corridor - 2019        115\n",
       "Golden Gate Transit - 2018      36\n",
       "VTA - 2017                      27\n",
       "Marin Transit - 2017            20\n",
       "Soltrans - 2017                  4\n",
       "Petaluma Transit - 2018          1\n",
       "Name: operator_survey_year, dtype: int64"
      ]
     },
     "execution_count": 13,
     "metadata": {},
     "output_type": "execute_result"
    }
   ],
   "source": [
    "df_summary.loc[df_summary.gender=='missing'].operator_survey_year.value_counts()"
   ]
  },
  {
   "cell_type": "code",
   "execution_count": 14,
   "metadata": {},
   "outputs": [
    {
     "data": {
      "text/plain": [
       "BART - 2015                              4391\n",
       "Capitol Corridor - 2019                  2540\n",
       "Caltrain - 2014                           328\n",
       "SF Muni - 2017                             27\n",
       "WestCAT - 2017                             15\n",
       "Marin Transit - 2017                        8\n",
       "ACE - 2019                                  3\n",
       "Napa Vine - 2019                            3\n",
       "Sonoma-Marin Area Rail Transit - 2018       2\n",
       "Sonoma County Transit - 2018                2\n",
       "Union City Transit - 2017                   1\n",
       "Name: operator_survey_year, dtype: int64"
      ]
     },
     "execution_count": 14,
     "metadata": {},
     "output_type": "execute_result"
    }
   ],
   "source": [
    "df_summary.loc[df_summary.worker_numeric_cat=='missing'].operator_survey_year.value_counts()"
   ]
  },
  {
   "cell_type": "code",
   "execution_count": 15,
   "metadata": {},
   "outputs": [
    {
     "data": {
      "text/plain": [
       "BART - 2015                              4009\n",
       "Capitol Corridor - 2019                  2540\n",
       "Caltrain - 2014                           328\n",
       "SF Muni - 2017                             27\n",
       "Golden Gate Transit - 2018                 14\n",
       "WestCAT - 2017                             11\n",
       "ACE - 2019                                  3\n",
       "Marin Transit - 2017                        1\n",
       "Union City Transit - 2017                   1\n",
       "Napa Vine - 2019                            1\n",
       "Sonoma-Marin Area Rail Transit - 2018       1\n",
       "Sonoma County Transit - 2018                1\n",
       "WETA - 2019                                 1\n",
       "Name: operator_survey_year, dtype: int64"
      ]
     },
     "execution_count": 15,
     "metadata": {},
     "output_type": "execute_result"
    }
   ],
   "source": [
    "df_summary.loc[df_summary.vehicle_numeric_cat=='missing'].operator_survey_year.value_counts()"
   ]
  },
  {
   "cell_type": "code",
   "execution_count": 16,
   "metadata": {},
   "outputs": [
    {
     "data": {
      "text/plain": [
       "VTA - 2017                      8754\n",
       "BART - 2015                     3297\n",
       "Capitol Corridor - 2019         2540\n",
       "SF Muni - 2017                  1479\n",
       "Caltrain - 2014                  328\n",
       "Golden Gate Transit - 2018       258\n",
       "TriDelta - 2019                   84\n",
       "LAVTA - 2018                      55\n",
       "Petaluma Transit - 2018           30\n",
       "Marin Transit - 2017              28\n",
       "Sonoma County Transit - 2018       3\n",
       "WestCAT - 2017                     1\n",
       "Name: operator_survey_year, dtype: int64"
      ]
     },
     "execution_count": 16,
     "metadata": {},
     "output_type": "execute_result"
    }
   ],
   "source": [
    "df_summary.loc[df_summary.work_status.isnull()].operator_survey_year.value_counts()"
   ]
  },
  {
   "cell_type": "code",
   "execution_count": 17,
   "metadata": {},
   "outputs": [
    {
     "data": {
      "text/plain": [
       "BART - 2015                     4453\n",
       "Capitol Corridor - 2019         2540\n",
       "SF Muni - 2017                  1702\n",
       "VTA - 2017                       680\n",
       "Caltrain - 2014                  328\n",
       "Marin Transit - 2017              18\n",
       "Union City Transit - 2017          2\n",
       "Napa Vine - 2014                   2\n",
       "Sonoma County Transit - 2018       2\n",
       "Golden Gate Transit - 2018         1\n",
       "Name: operator_survey_year, dtype: int64"
      ]
     },
     "execution_count": 17,
     "metadata": {},
     "output_type": "execute_result"
    }
   ],
   "source": [
    "df_summary.loc[df_summary.student_status.isnull()].operator_survey_year.value_counts()"
   ]
  },
  {
   "cell_type": "code",
   "execution_count": 18,
   "metadata": {},
   "outputs": [
    {
     "data": {
      "text/plain": [
       "SF Muni - 2017                           48334\n",
       "BART - 2015                              46948\n",
       "VTA - 2017                               15394\n",
       "AC Transit - 2018                        14678\n",
       "Caltrain - 2014                           6032\n",
       "Golden Gate Transit - 2018                4103\n",
       "Capitol Corridor - 2019                   2540\n",
       "Marin Transit - 2017                      1216\n",
       "County Connection - 2019                  1188\n",
       "TriDelta - 2019                            742\n",
       "Santa Rosa CityBus - 2018                  674\n",
       "LAVTA - 2018                               554\n",
       "WETA - 2019                                550\n",
       "Napa Vine - 2014                           452\n",
       "Sonoma-Marin Area Rail Transit - 2018      411\n",
       "Soltrans - 2017                            398\n",
       "Sonoma County Transit - 2018               395\n",
       "WestCAT - 2017                             384\n",
       "Napa Vine - 2019                           338\n",
       "ACE - 2019                                 333\n",
       "Petaluma Transit - 2018                    286\n",
       "FAST - 2017                                252\n",
       "Union City Transit - 2017                  200\n",
       "City Coach - 2017                           47\n",
       "Delta Breeze - 2017                          8\n",
       "Name: operator_survey_year, dtype: int64"
      ]
     },
     "execution_count": 18,
     "metadata": {},
     "output_type": "execute_result"
    }
   ],
   "source": [
    "df_summary.operator_survey_year.value_counts()"
   ]
  },
  {
   "cell_type": "markdown",
   "metadata": {},
   "source": [
    "### Origin TAZ, Destination TAZ, Home TAZ, Workplace TAZ, School TAZ "
   ]
  },
  {
   "cell_type": "code",
   "execution_count": 19,
   "metadata": {},
   "outputs": [
    {
     "name": "stdout",
     "output_type": "stream",
     "text": [
      "(30172, 5)\n",
      "['operator_survey_year', 'weekpart', 'day_part', 'TM2_taz', 'trip_weight_by_orig_taz']\n",
      "(28927, 5)\n",
      "['operator_survey_year', 'weekpart', 'day_part', 'TM2_taz', 'trip_weight_by_dest_taz']\n",
      "(33206, 5)\n",
      "['operator_survey_year', 'weekpart', 'day_part', 'TM2_taz', 'trip_weight_by_home_taz']\n",
      "(19999, 5)\n",
      "['operator_survey_year', 'weekpart', 'day_part', 'TM2_taz', 'trip_weight_by_workplace_taz']\n",
      "(3735, 5)\n",
      "['operator_survey_year', 'weekpart', 'day_part', 'TM2_taz', 'trip_weight_by_school_taz']\n"
     ]
    }
   ],
   "source": [
    "orig_taz = df_summary.groupby(['operator_survey_year', 'weekpart', 'day_part', 'orig_taz'])['trip_weight'].sum().reset_index()\n",
    "orig_taz.rename(columns = {'trip_weight': 'trip_weight_by_orig_taz',\n",
    "                           'orig_taz': 'TM2_taz'}, inplace=True)\n",
    "print(orig_taz.shape)\n",
    "print(list(orig_taz))\n",
    "\n",
    "dest_taz = df_summary.groupby(['operator_survey_year', 'weekpart', 'day_part', 'dest_taz'])['trip_weight'].sum().reset_index()\n",
    "dest_taz.rename(columns = {'trip_weight': 'trip_weight_by_dest_taz',\n",
    "                           'dest_taz': 'TM2_taz'}, inplace=True)\n",
    "print(dest_taz.shape)\n",
    "print(list(dest_taz))\n",
    "\n",
    "home_taz = df_summary.groupby(['operator_survey_year', 'weekpart', 'day_part', 'home_taz'])['trip_weight'].sum().reset_index()\n",
    "home_taz.rename(columns = {'trip_weight': 'trip_weight_by_home_taz',\n",
    "                           'home_taz': 'TM2_taz'}, inplace=True)\n",
    "print(home_taz.shape)\n",
    "print(list(home_taz))\n",
    "\n",
    "workplace_taz = df_summary.groupby(['operator_survey_year', 'weekpart', 'day_part', 'workplace_taz'])['trip_weight'].sum().reset_index()\n",
    "workplace_taz.rename(columns = {'trip_weight': 'trip_weight_by_workplace_taz',\n",
    "                                'workplace_taz': 'TM2_taz'}, inplace=True)\n",
    "print(workplace_taz.shape)\n",
    "print(list(workplace_taz))\n",
    "\n",
    "school_taz = df_summary.groupby(['operator_survey_year', 'weekpart', 'day_part', 'school_taz'])['trip_weight'].sum().reset_index()\n",
    "school_taz.rename(columns = {'trip_weight': 'trip_weight_by_school_taz',\n",
    "                             'school_taz': 'TM2_taz'}, inplace=True)\n",
    "print(school_taz.shape)\n",
    "print(list(school_taz))\n"
   ]
  },
  {
   "cell_type": "code",
   "execution_count": 20,
   "metadata": {},
   "outputs": [],
   "source": [
    "TM2_taz_summary = orig_taz.merge(dest_taz,\n",
    "                                 on=['operator_survey_year', 'weekpart', 'day_part', 'TM2_taz'],\n",
    "                                 how='outer').merge(home_taz,\n",
    "                                                    on=['operator_survey_year', 'weekpart', 'day_part', 'TM2_taz'],\n",
    "                                                    how='outer').merge(workplace_taz,\n",
    "                                                                       on=['operator_survey_year', 'weekpart', 'day_part', 'TM2_taz'],\n",
    "                                                                       how='outer').merge(school_taz,\n",
    "                                                                                          on=['operator_survey_year', 'weekpart', 'day_part', 'TM2_taz'],\n",
    "                                                                                          how='outer')\n",
    "for i in ['trip_weight_by_orig_taz', 'trip_weight_by_dest_taz',\n",
    "          'trip_weight_by_home_taz', 'trip_weight_by_workplace_taz', 'trip_weight_by_school_taz']:\n",
    "    TM2_taz_summary[i] = TM2_taz_summary[i].fillna(0)"
   ]
  },
  {
   "cell_type": "code",
   "execution_count": 21,
   "metadata": {},
   "outputs": [],
   "source": [
    "taz_fname = fname.split('.')[0] + '_TM2_taz_summary.csv'\n",
    "TM2_taz_summary.to_csv((os.path.join('M:\\\\Data\\\\OnBoard\\\\Data and Reports\\\\_data Standardized', taz_fname)), index=False)"
   ]
  },
  {
   "cell_type": "code",
   "execution_count": 22,
   "metadata": {},
   "outputs": [
    {
     "data": {
      "text/html": [
       "<div>\n",
       "<style scoped>\n",
       "    .dataframe tbody tr th:only-of-type {\n",
       "        vertical-align: middle;\n",
       "    }\n",
       "\n",
       "    .dataframe tbody tr th {\n",
       "        vertical-align: top;\n",
       "    }\n",
       "\n",
       "    .dataframe thead th {\n",
       "        text-align: right;\n",
       "    }\n",
       "</style>\n",
       "<table border=\"1\" class=\"dataframe\">\n",
       "  <thead>\n",
       "    <tr style=\"text-align: right;\">\n",
       "      <th></th>\n",
       "      <th>operator_survey_year</th>\n",
       "      <th>weekpart</th>\n",
       "      <th>TM2_taz</th>\n",
       "      <th>trip_weight_by_home_taz</th>\n",
       "    </tr>\n",
       "  </thead>\n",
       "  <tbody>\n",
       "    <tr>\n",
       "      <th>11923</th>\n",
       "      <td>SF Muni - 2017</td>\n",
       "      <td>WEEKDAY</td>\n",
       "      <td>71</td>\n",
       "      <td>3554.862125</td>\n",
       "    </tr>\n",
       "    <tr>\n",
       "      <th>12394</th>\n",
       "      <td>SF Muni - 2017</td>\n",
       "      <td>WEEKDAY</td>\n",
       "      <td>553</td>\n",
       "      <td>3493.818897</td>\n",
       "    </tr>\n",
       "    <tr>\n",
       "      <th>12397</th>\n",
       "      <td>SF Muni - 2017</td>\n",
       "      <td>WEEKDAY</td>\n",
       "      <td>556</td>\n",
       "      <td>3445.389347</td>\n",
       "    </tr>\n",
       "    <tr>\n",
       "      <th>12087</th>\n",
       "      <td>SF Muni - 2017</td>\n",
       "      <td>WEEKDAY</td>\n",
       "      <td>237</td>\n",
       "      <td>3395.492763</td>\n",
       "    </tr>\n",
       "    <tr>\n",
       "      <th>12425</th>\n",
       "      <td>SF Muni - 2017</td>\n",
       "      <td>WEEKDAY</td>\n",
       "      <td>586</td>\n",
       "      <td>3210.173972</td>\n",
       "    </tr>\n",
       "    <tr>\n",
       "      <th>...</th>\n",
       "      <td>...</td>\n",
       "      <td>...</td>\n",
       "      <td>...</td>\n",
       "      <td>...</td>\n",
       "    </tr>\n",
       "    <tr>\n",
       "      <th>10398</th>\n",
       "      <td>Golden Gate Transit - 2018</td>\n",
       "      <td>WEEKEND</td>\n",
       "      <td>700282</td>\n",
       "      <td>0.000000</td>\n",
       "    </tr>\n",
       "    <tr>\n",
       "      <th>10399</th>\n",
       "      <td>Golden Gate Transit - 2018</td>\n",
       "      <td>WEEKEND</td>\n",
       "      <td>700283</td>\n",
       "      <td>0.000000</td>\n",
       "    </tr>\n",
       "    <tr>\n",
       "      <th>10400</th>\n",
       "      <td>Golden Gate Transit - 2018</td>\n",
       "      <td>WEEKEND</td>\n",
       "      <td>700284</td>\n",
       "      <td>0.000000</td>\n",
       "    </tr>\n",
       "    <tr>\n",
       "      <th>10401</th>\n",
       "      <td>Golden Gate Transit - 2018</td>\n",
       "      <td>WEEKEND</td>\n",
       "      <td>700285</td>\n",
       "      <td>0.000000</td>\n",
       "    </tr>\n",
       "    <tr>\n",
       "      <th>19713</th>\n",
       "      <td>WestCAT - 2017</td>\n",
       "      <td>WEEKEND</td>\n",
       "      <td>400634</td>\n",
       "      <td>0.000000</td>\n",
       "    </tr>\n",
       "  </tbody>\n",
       "</table>\n",
       "<p>19714 rows × 4 columns</p>\n",
       "</div>"
      ],
      "text/plain": [
       "             operator_survey_year weekpart  TM2_taz  trip_weight_by_home_taz\n",
       "11923              SF Muni - 2017  WEEKDAY       71              3554.862125\n",
       "12394              SF Muni - 2017  WEEKDAY      553              3493.818897\n",
       "12397              SF Muni - 2017  WEEKDAY      556              3445.389347\n",
       "12087              SF Muni - 2017  WEEKDAY      237              3395.492763\n",
       "12425              SF Muni - 2017  WEEKDAY      586              3210.173972\n",
       "...                           ...      ...      ...                      ...\n",
       "10398  Golden Gate Transit - 2018  WEEKEND   700282                 0.000000\n",
       "10399  Golden Gate Transit - 2018  WEEKEND   700283                 0.000000\n",
       "10400  Golden Gate Transit - 2018  WEEKEND   700284                 0.000000\n",
       "10401  Golden Gate Transit - 2018  WEEKEND   700285                 0.000000\n",
       "19713              WestCAT - 2017  WEEKEND   400634                 0.000000\n",
       "\n",
       "[19714 rows x 4 columns]"
      ]
     },
     "execution_count": 22,
     "metadata": {},
     "output_type": "execute_result"
    }
   ],
   "source": [
    "TM2_taz_summary.loc[TM2_taz_summary.TM2_taz > 0].groupby(['operator_survey_year', 'weekpart', 'TM2_taz']).trip_weight_by_home_taz.sum().reset_index().sort_values(by='trip_weight_by_home_taz', ascending=False)"
   ]
  },
  {
   "cell_type": "code",
   "execution_count": 23,
   "metadata": {},
   "outputs": [
    {
     "data": {
      "text/html": [
       "<div>\n",
       "<style scoped>\n",
       "    .dataframe tbody tr th:only-of-type {\n",
       "        vertical-align: middle;\n",
       "    }\n",
       "\n",
       "    .dataframe tbody tr th {\n",
       "        vertical-align: top;\n",
       "    }\n",
       "\n",
       "    .dataframe thead th {\n",
       "        text-align: right;\n",
       "    }\n",
       "</style>\n",
       "<table border=\"1\" class=\"dataframe\">\n",
       "  <thead>\n",
       "    <tr style=\"text-align: right;\">\n",
       "      <th></th>\n",
       "      <th>operator_survey_year</th>\n",
       "      <th>weekpart</th>\n",
       "      <th>TM2_taz</th>\n",
       "      <th>trip_weight_by_workplace_taz</th>\n",
       "    </tr>\n",
       "  </thead>\n",
       "  <tbody>\n",
       "    <tr>\n",
       "      <th>12432</th>\n",
       "      <td>SF Muni - 2017</td>\n",
       "      <td>WEEKDAY</td>\n",
       "      <td>597</td>\n",
       "      <td>19534.432951</td>\n",
       "    </tr>\n",
       "    <tr>\n",
       "      <th>12426</th>\n",
       "      <td>SF Muni - 2017</td>\n",
       "      <td>WEEKDAY</td>\n",
       "      <td>588</td>\n",
       "      <td>18222.533085</td>\n",
       "    </tr>\n",
       "    <tr>\n",
       "      <th>3327</th>\n",
       "      <td>BART - 2015</td>\n",
       "      <td>WEEKDAY</td>\n",
       "      <td>588</td>\n",
       "      <td>18157.782493</td>\n",
       "    </tr>\n",
       "    <tr>\n",
       "      <th>12431</th>\n",
       "      <td>SF Muni - 2017</td>\n",
       "      <td>WEEKDAY</td>\n",
       "      <td>595</td>\n",
       "      <td>17133.279363</td>\n",
       "    </tr>\n",
       "    <tr>\n",
       "      <th>3157</th>\n",
       "      <td>BART - 2015</td>\n",
       "      <td>WEEKDAY</td>\n",
       "      <td>404</td>\n",
       "      <td>16658.923241</td>\n",
       "    </tr>\n",
       "    <tr>\n",
       "      <th>...</th>\n",
       "      <td>...</td>\n",
       "      <td>...</td>\n",
       "      <td>...</td>\n",
       "      <td>...</td>\n",
       "    </tr>\n",
       "    <tr>\n",
       "      <th>11042</th>\n",
       "      <td>Marin Transit - 2017</td>\n",
       "      <td>WEEKDAY</td>\n",
       "      <td>800111</td>\n",
       "      <td>0.000000</td>\n",
       "    </tr>\n",
       "    <tr>\n",
       "      <th>11043</th>\n",
       "      <td>Marin Transit - 2017</td>\n",
       "      <td>WEEKDAY</td>\n",
       "      <td>800113</td>\n",
       "      <td>0.000000</td>\n",
       "    </tr>\n",
       "    <tr>\n",
       "      <th>11044</th>\n",
       "      <td>Marin Transit - 2017</td>\n",
       "      <td>WEEKDAY</td>\n",
       "      <td>800115</td>\n",
       "      <td>0.000000</td>\n",
       "    </tr>\n",
       "    <tr>\n",
       "      <th>11045</th>\n",
       "      <td>Marin Transit - 2017</td>\n",
       "      <td>WEEKDAY</td>\n",
       "      <td>800116</td>\n",
       "      <td>0.000000</td>\n",
       "    </tr>\n",
       "    <tr>\n",
       "      <th>9857</th>\n",
       "      <td>Golden Gate Transit - 2018</td>\n",
       "      <td>WEEKDAY</td>\n",
       "      <td>800056</td>\n",
       "      <td>0.000000</td>\n",
       "    </tr>\n",
       "  </tbody>\n",
       "</table>\n",
       "<p>19714 rows × 4 columns</p>\n",
       "</div>"
      ],
      "text/plain": [
       "             operator_survey_year weekpart  TM2_taz  \\\n",
       "12432              SF Muni - 2017  WEEKDAY      597   \n",
       "12426              SF Muni - 2017  WEEKDAY      588   \n",
       "3327                  BART - 2015  WEEKDAY      588   \n",
       "12431              SF Muni - 2017  WEEKDAY      595   \n",
       "3157                  BART - 2015  WEEKDAY      404   \n",
       "...                           ...      ...      ...   \n",
       "11042        Marin Transit - 2017  WEEKDAY   800111   \n",
       "11043        Marin Transit - 2017  WEEKDAY   800113   \n",
       "11044        Marin Transit - 2017  WEEKDAY   800115   \n",
       "11045        Marin Transit - 2017  WEEKDAY   800116   \n",
       "9857   Golden Gate Transit - 2018  WEEKDAY   800056   \n",
       "\n",
       "       trip_weight_by_workplace_taz  \n",
       "12432                  19534.432951  \n",
       "12426                  18222.533085  \n",
       "3327                   18157.782493  \n",
       "12431                  17133.279363  \n",
       "3157                   16658.923241  \n",
       "...                             ...  \n",
       "11042                      0.000000  \n",
       "11043                      0.000000  \n",
       "11044                      0.000000  \n",
       "11045                      0.000000  \n",
       "9857                       0.000000  \n",
       "\n",
       "[19714 rows x 4 columns]"
      ]
     },
     "execution_count": 23,
     "metadata": {},
     "output_type": "execute_result"
    }
   ],
   "source": [
    "TM2_taz_summary.loc[TM2_taz_summary.TM2_taz > 0].groupby(['operator_survey_year','weekpart', 'TM2_taz']).trip_weight_by_workplace_taz.sum().reset_index().sort_values(by='trip_weight_by_workplace_taz', ascending=False)"
   ]
  },
  {
   "cell_type": "code",
   "execution_count": 24,
   "metadata": {},
   "outputs": [
    {
     "data": {
      "text/html": [
       "<div>\n",
       "<style scoped>\n",
       "    .dataframe tbody tr th:only-of-type {\n",
       "        vertical-align: middle;\n",
       "    }\n",
       "\n",
       "    .dataframe tbody tr th {\n",
       "        vertical-align: top;\n",
       "    }\n",
       "\n",
       "    .dataframe thead th {\n",
       "        text-align: right;\n",
       "    }\n",
       "</style>\n",
       "<table border=\"1\" class=\"dataframe\">\n",
       "  <thead>\n",
       "    <tr style=\"text-align: right;\">\n",
       "      <th></th>\n",
       "      <th>operator_survey_year</th>\n",
       "      <th>weekpart</th>\n",
       "      <th>TM2_taz</th>\n",
       "      <th>trip_weight_by_school_taz</th>\n",
       "    </tr>\n",
       "  </thead>\n",
       "  <tbody>\n",
       "    <tr>\n",
       "      <th>12475</th>\n",
       "      <td>SF Muni - 2017</td>\n",
       "      <td>WEEKDAY</td>\n",
       "      <td>640</td>\n",
       "      <td>11610.023648</td>\n",
       "    </tr>\n",
       "    <tr>\n",
       "      <th>17806</th>\n",
       "      <td>VTA - 2017</td>\n",
       "      <td>WEEKDAY</td>\n",
       "      <td>200920</td>\n",
       "      <td>10711.554800</td>\n",
       "    </tr>\n",
       "    <tr>\n",
       "      <th>1410</th>\n",
       "      <td>AC Transit - 2018</td>\n",
       "      <td>WEEKDAY</td>\n",
       "      <td>301060</td>\n",
       "      <td>7343.068707</td>\n",
       "    </tr>\n",
       "    <tr>\n",
       "      <th>2907</th>\n",
       "      <td>BART - 2015</td>\n",
       "      <td>WEEKDAY</td>\n",
       "      <td>133</td>\n",
       "      <td>6799.663125</td>\n",
       "    </tr>\n",
       "    <tr>\n",
       "      <th>5163</th>\n",
       "      <td>BART - 2015</td>\n",
       "      <td>WEEKDAY</td>\n",
       "      <td>301060</td>\n",
       "      <td>6714.003049</td>\n",
       "    </tr>\n",
       "    <tr>\n",
       "      <th>...</th>\n",
       "      <td>...</td>\n",
       "      <td>...</td>\n",
       "      <td>...</td>\n",
       "      <td>...</td>\n",
       "    </tr>\n",
       "    <tr>\n",
       "      <th>7075</th>\n",
       "      <td>Caltrain - 2014</td>\n",
       "      <td>WEEKDAY</td>\n",
       "      <td>200334</td>\n",
       "      <td>0.000000</td>\n",
       "    </tr>\n",
       "    <tr>\n",
       "      <th>7074</th>\n",
       "      <td>Caltrain - 2014</td>\n",
       "      <td>WEEKDAY</td>\n",
       "      <td>200331</td>\n",
       "      <td>0.000000</td>\n",
       "    </tr>\n",
       "    <tr>\n",
       "      <th>7073</th>\n",
       "      <td>Caltrain - 2014</td>\n",
       "      <td>WEEKDAY</td>\n",
       "      <td>200326</td>\n",
       "      <td>0.000000</td>\n",
       "    </tr>\n",
       "    <tr>\n",
       "      <th>7072</th>\n",
       "      <td>Caltrain - 2014</td>\n",
       "      <td>WEEKDAY</td>\n",
       "      <td>200325</td>\n",
       "      <td>0.000000</td>\n",
       "    </tr>\n",
       "    <tr>\n",
       "      <th>19713</th>\n",
       "      <td>WestCAT - 2017</td>\n",
       "      <td>WEEKEND</td>\n",
       "      <td>400634</td>\n",
       "      <td>0.000000</td>\n",
       "    </tr>\n",
       "  </tbody>\n",
       "</table>\n",
       "<p>19714 rows × 4 columns</p>\n",
       "</div>"
      ],
      "text/plain": [
       "      operator_survey_year weekpart  TM2_taz  trip_weight_by_school_taz\n",
       "12475       SF Muni - 2017  WEEKDAY      640               11610.023648\n",
       "17806           VTA - 2017  WEEKDAY   200920               10711.554800\n",
       "1410     AC Transit - 2018  WEEKDAY   301060                7343.068707\n",
       "2907           BART - 2015  WEEKDAY      133                6799.663125\n",
       "5163           BART - 2015  WEEKDAY   301060                6714.003049\n",
       "...                    ...      ...      ...                        ...\n",
       "7075       Caltrain - 2014  WEEKDAY   200334                   0.000000\n",
       "7074       Caltrain - 2014  WEEKDAY   200331                   0.000000\n",
       "7073       Caltrain - 2014  WEEKDAY   200326                   0.000000\n",
       "7072       Caltrain - 2014  WEEKDAY   200325                   0.000000\n",
       "19713       WestCAT - 2017  WEEKEND   400634                   0.000000\n",
       "\n",
       "[19714 rows x 4 columns]"
      ]
     },
     "execution_count": 24,
     "metadata": {},
     "output_type": "execute_result"
    }
   ],
   "source": [
    "TM2_taz_summary.loc[TM2_taz_summary.TM2_taz > 0].groupby(['operator_survey_year','weekpart', 'TM2_taz']).trip_weight_by_school_taz.sum().reset_index().sort_values(by='trip_weight_by_school_taz', ascending=False)"
   ]
  }
 ],
 "metadata": {
  "kernelspec": {
   "display_name": "Python 3",
   "language": "python",
   "name": "python3"
  },
  "language_info": {
   "codemirror_mode": {
    "name": "ipython",
    "version": 3
   },
   "file_extension": ".py",
   "mimetype": "text/x-python",
   "name": "python",
   "nbconvert_exporter": "python",
   "pygments_lexer": "ipython3",
   "version": "3.6.10"
  }
 },
 "nbformat": 4,
 "nbformat_minor": 5
}
