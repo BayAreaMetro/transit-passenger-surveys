{
 "cells": [
  {
   "cell_type": "code",
   "execution_count": 5,
   "id": "conditional-wallpaper",
   "metadata": {},
   "outputs": [],
   "source": [
    "import pandas as pd"
   ]
  },
  {
   "cell_type": "code",
   "execution_count": 6,
   "id": "numerical-bidding",
   "metadata": {},
   "outputs": [
    {
     "name": "stdout",
     "output_type": "stream",
     "text": [
      "['ID', 'Survey_date', 'Survey_route', 'Daypart', 'Daypart_center', 'Direction', 'ACE_Boarding', 'ACE_Alighting', 'Origin', 'Origin_other', 'Origin_final', 'Origin_lat', 'Origin_lon', 'Origin_address', 'Destination', 'Destination_other', 'Destination_final', 'Destination_lat', 'Destination_lon', 'Destination_address', 'Access_mode', 'Access_mode_other', 'Access_mode_final', 'Access_minutes', 'Access_miles', 'Transfer_from_amount', 'Transfer_from_1st', 'Agency_transfer_from_1st', 'Route_transfer_from_1st', 'Agency_route_transfer_from_1st', 'Transfer_from_1st_lat', 'Transfer_from_1st_lon', 'Transfer_from_1st_address', 'Transfer_from_2nd', 'Agency_transfer_from_2nd', 'Route_transfer_from_2nd', 'Agency_route_transfer_from_2nd', 'Transfer_from_2nd_lat', 'Transfer_from_2nd_lon', 'Transfer_from_2nd_address', 'Transfer_from_3rd', 'Agency_transfer_from_3rd', 'Route_transfer_from_3rd', 'Agency_route_transfer_from_3rd', 'Transfer_from_3rd_lat', 'Transfer_from_3rd_lon', 'Transfer_from_3rd_Address', 'Survey_route_boarding_lat', 'Survey_route_boarding_lon', 'Survey_route_boarding_address', 'Survey_route_alighting_lat', 'Survey_route_alighting_lon', 'Survey_route_alighting_address', 'Transfer_to_amount', 'Transfer_to_1st', 'Agency_transfer_to_1st', 'Route_transfer_to_1st', 'Agency_route_transfer_to_1st', 'Transfer_to_1st_lat', 'Transfer_to_1st_lon', 'Transfer_to_1st_address', 'Transfer_to_2nd', 'Agency_transfer_to_2nd', 'Route_transfer_to_2nd', 'Agency_route_transfer_to_2nd', 'Transfer_to_2nd_lat', 'Transfer_to_2nd_lon', 'Transfer_to_2nd_address', 'Transfer_to_3rd', 'Agency_transfer_to_3rd', 'Route_transfer_to_3rd', 'Agency_route_transfer_to_3rd', 'Transfer_to_3rd_lat', 'Transfer_to_3rd_lon', 'Transfer_to_3rd_address', 'Egress_mode', 'Egress_mode_other', 'Egress_mode_final', 'Egress_minutes', 'Egress_miles', 'Employment_status', 'Work_before_trip', 'Work_after_trip', 'Work_lat', 'Work_lon', 'Work_address', 'Student_status', 'Been_2school_today', 'Will_go2school_today', 'School_type', 'School_lat', 'School_lon', 'School_address', 'Home_lat', 'Home_lon', 'Home_address', 'Came_from_home', 'Time_left_home', 'Will_return_home', 'Time_return_home', 'Same_trip_opposite_direction', 'Time_same_trip_opposite_direction', 'Rate_overall', 'Rate_value', 'Rate_station', 'Rate_conductors', 'Rate_schedules', 'Pay_mode', 'Pay_mode_other', 'Fare_type', 'Fare_type_other', 'License_status', 'Persons_HH', 'Persons_HH_other', 'Workers_HH', 'Workers_HH_other', 'Vehicles_HH', 'Vehicles_HH_other', 'Year_born', 'Hispanic', 'Race', 'Race_other', 'Lang_other_than_english', 'Other_lang_spoken_at_home', 'Other_lang_spoken_at_home_other', 'English_fluency', 'HH_income', 'Gender', 'Weight']\n"
     ]
    }
   ],
   "source": [
    "df = pd.read_csv(r'M:\\Data\\OnBoard\\Data and Reports\\ACE\\2019\\ACE19_Final Data_AddCols_NO POUND OR SINGLE QUOTE.csv')\n",
    "print(list(df))"
   ]
  },
  {
   "cell_type": "code",
   "execution_count": 8,
   "id": "backed-certification",
   "metadata": {},
   "outputs": [
    {
     "name": "stdout",
     "output_type": "stream",
     "text": [
      "[3 6 5 7 2 8 4]\n",
      "['4' '7' '6' '8' '3' '10' '5']\n"
     ]
    }
   ],
   "source": [
    "# map 'survey_route' to actual values (so that it is a noncategorical variable)\n",
    "\n",
    "route_dict = {'1': '1',\n",
    "              '2': '3',\n",
    "              '3': '4',\n",
    "              '4': '5',\n",
    "              '5': '6',\n",
    "              '6': '7',\n",
    "              '7': '8',\n",
    "              '8': '10'}\n",
    "\n",
    "print(df.Survey_route.unique())\n",
    "df['Survey_route'] = df['Survey_route'].apply(lambda x: str(x))\n",
    "df['Survey_route_recode'] = df['Survey_route'].map(route_dict)\n",
    "print(df.Survey_route_recode.unique())"
   ]
  },
  {
   "cell_type": "code",
   "execution_count": 9,
   "id": "individual-juice",
   "metadata": {},
   "outputs": [],
   "source": [
    "df.to_csv(r'M:\\Data\\OnBoard\\Data and Reports\\ACE\\2019\\ACE19_Final Data_AddCols_RecodeRoute_NO POUND OR SINGLE QUOTE.csv', index=False)"
   ]
  },
  {
   "cell_type": "code",
   "execution_count": null,
   "id": "funky-carroll",
   "metadata": {},
   "outputs": [],
   "source": []
  }
 ],
 "metadata": {
  "kernelspec": {
   "display_name": "Python 3",
   "language": "python",
   "name": "python3"
  },
  "language_info": {
   "codemirror_mode": {
    "name": "ipython",
    "version": 3
   },
   "file_extension": ".py",
   "mimetype": "text/x-python",
   "name": "python",
   "nbconvert_exporter": "python",
   "pygments_lexer": "ipython3",
   "version": "3.7.6"
  }
 },
 "nbformat": 4,
 "nbformat_minor": 5
}
