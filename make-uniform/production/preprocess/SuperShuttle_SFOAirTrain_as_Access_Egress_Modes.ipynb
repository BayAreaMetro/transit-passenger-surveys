{
 "cells": [
  {
   "cell_type": "markdown",
   "id": "literary-eleven",
   "metadata": {},
   "source": [
    "\"SuperShuttle\" and \"SFO AirTrain\" are treated as a transfer leg in the raw survey data. However, they should be considered as an access/egress mode - \"SuperShuttle\" as \"TNC/taxi\" and \"SFO AirTrain\" as \"Walk\". This script modifies the input survey data to remove them as transfer legs and update the access/egress modes accordingly."
   ]
  },
  {
   "cell_type": "code",
   "execution_count": 1,
   "id": "brilliant-estimate",
   "metadata": {},
   "outputs": [],
   "source": [
    "import pandas as pd"
   ]
  },
  {
   "cell_type": "markdown",
   "id": "offensive-burst",
   "metadata": {},
   "source": [
    "#### Golden Gate Transit (2018) survey contains 'SuperShuttle' as a transfer leg"
   ]
  },
  {
   "cell_type": "code",
   "execution_count": 2,
   "id": "pressing-declaration",
   "metadata": {},
   "outputs": [
    {
     "name": "stdout",
     "output_type": "stream",
     "text": [
      "read 4103 rows of Golden Gate Transit survey data with 4103 unique IDs\n"
     ]
    },
    {
     "name": "stderr",
     "output_type": "stream",
     "text": [
      "C:\\Users\\ywang\\Anaconda3\\lib\\site-packages\\IPython\\core\\interactiveshell.py:3147: DtypeWarning: Columns (7,12,16,17,18,22,23,24,27,29,32,34,40,44,56,59,60,61,63,64,65,66,67,68,71,72,73,74,79,82,84,97,102,104,110,126,131,133,136,137,138,141,142,143,144,148,149,150,153,155,158,160,166,173,174,176,183,184,186,191,195,196,199,203,204,207,211,212,215,219,220,223,227,228,236,239,243,244,247,251,252,255,259,260,263,267,268,280,283,286,289,320,340,343,350,372,373,374,375,377,381,382,389,390,394,395,396,398,399) have mixed types.Specify dtype option on import or set low_memory=False.\n",
      "  interactivity=interactivity, compiler=compiler, result=result)\n"
     ]
    }
   ],
   "source": [
    "df_ggtransit = pd.read_csv(r'M:\\Data\\OnBoard\\Data and Reports\\Golden Gate Transit\\2018\\As CSV\\20180907_OD_GoldenGate_allDays_addCols_NO POUND OR SINGLE QUOTE.csv')\n",
    "print('read {} rows of Golden Gate Transit survey data with {} unique IDs'.format(\n",
    "    df_ggtransit.shape[0],\n",
    "    len(df_ggtransit.id.unique())))"
   ]
  },
  {
   "cell_type": "code",
   "execution_count": 3,
   "id": "increasing-piece",
   "metadata": {},
   "outputs": [
    {
     "name": "stdout",
     "output_type": "stream",
     "text": [
      "final_first_route_before_survey_board_comb\n"
     ]
    }
   ],
   "source": [
    "# check which leg has 'Supershuttle'\n",
    "for i in ['final_first_route_before_survey_board_comb', 'final_second_route_before_survey_board_comb',\n",
    "          'final_third_route_before_survey_board', 'final_first_route_after_survey_alight_comb', \n",
    "          'final_second_route_after_survey_alight_comb', 'final_third_route_after_survey_alight_comb']:\n",
    "    if 'Supershuttle' in list(df_ggtransit[i].unique()):\n",
    "        print(i)"
   ]
  },
  {
   "cell_type": "code",
   "execution_count": 4,
   "id": "supposed-potential",
   "metadata": {},
   "outputs": [
    {
     "data": {
      "text/html": [
       "<div>\n",
       "<style scoped>\n",
       "    .dataframe tbody tr th:only-of-type {\n",
       "        vertical-align: middle;\n",
       "    }\n",
       "\n",
       "    .dataframe tbody tr th {\n",
       "        vertical-align: top;\n",
       "    }\n",
       "\n",
       "    .dataframe thead th {\n",
       "        text-align: right;\n",
       "    }\n",
       "</style>\n",
       "<table border=\"1\" class=\"dataframe\">\n",
       "  <thead>\n",
       "    <tr style=\"text-align: right;\">\n",
       "      <th></th>\n",
       "      <th>3685</th>\n",
       "    </tr>\n",
       "  </thead>\n",
       "  <tbody>\n",
       "    <tr>\n",
       "      <th>id</th>\n",
       "      <td>37200</td>\n",
       "    </tr>\n",
       "    <tr>\n",
       "      <th>final_access_mode</th>\n",
       "      <td>Walked all the way</td>\n",
       "    </tr>\n",
       "    <tr>\n",
       "      <th>final_first_route_before_survey_board_comb</th>\n",
       "      <td>Supershuttle</td>\n",
       "    </tr>\n",
       "    <tr>\n",
       "      <th>final_second_route_before_survey_board_comb</th>\n",
       "      <td>NaN</td>\n",
       "    </tr>\n",
       "    <tr>\n",
       "      <th>final_third_route_before_survey_board</th>\n",
       "      <td>NaN</td>\n",
       "    </tr>\n",
       "    <tr>\n",
       "      <th>final_prev_transfers_code</th>\n",
       "      <td>1</td>\n",
       "    </tr>\n",
       "  </tbody>\n",
       "</table>\n",
       "</div>"
      ],
      "text/plain": [
       "                                                           3685\n",
       "id                                                        37200\n",
       "final_access_mode                            Walked all the way\n",
       "final_first_route_before_survey_board_comb         Supershuttle\n",
       "final_second_route_before_survey_board_comb                 NaN\n",
       "final_third_route_before_survey_board                       NaN\n",
       "final_prev_transfers_code                                     1"
      ]
     },
     "metadata": {},
     "output_type": "display_data"
    },
    {
     "data": {
      "text/html": [
       "<div>\n",
       "<style scoped>\n",
       "    .dataframe tbody tr th:only-of-type {\n",
       "        vertical-align: middle;\n",
       "    }\n",
       "\n",
       "    .dataframe tbody tr th {\n",
       "        vertical-align: top;\n",
       "    }\n",
       "\n",
       "    .dataframe thead th {\n",
       "        text-align: right;\n",
       "    }\n",
       "</style>\n",
       "<table border=\"1\" class=\"dataframe\">\n",
       "  <thead>\n",
       "    <tr style=\"text-align: right;\">\n",
       "      <th></th>\n",
       "      <th>3685</th>\n",
       "    </tr>\n",
       "  </thead>\n",
       "  <tbody>\n",
       "    <tr>\n",
       "      <th>id</th>\n",
       "      <td>37200</td>\n",
       "    </tr>\n",
       "    <tr>\n",
       "      <th>final_access_mode</th>\n",
       "      <td>Was dropped off using Uber, Lyft, or similar s...</td>\n",
       "    </tr>\n",
       "    <tr>\n",
       "      <th>final_first_route_before_survey_board_comb</th>\n",
       "      <td>NaN</td>\n",
       "    </tr>\n",
       "    <tr>\n",
       "      <th>final_second_route_before_survey_board_comb</th>\n",
       "      <td>NaN</td>\n",
       "    </tr>\n",
       "    <tr>\n",
       "      <th>final_third_route_before_survey_board</th>\n",
       "      <td>NaN</td>\n",
       "    </tr>\n",
       "    <tr>\n",
       "      <th>final_prev_transfers_code</th>\n",
       "      <td>0</td>\n",
       "    </tr>\n",
       "  </tbody>\n",
       "</table>\n",
       "</div>"
      ],
      "text/plain": [
       "                                                                                          3685\n",
       "id                                                                                       37200\n",
       "final_access_mode                            Was dropped off using Uber, Lyft, or similar s...\n",
       "final_first_route_before_survey_board_comb                                                 NaN\n",
       "final_second_route_before_survey_board_comb                                                NaN\n",
       "final_third_route_before_survey_board                                                      NaN\n",
       "final_prev_transfers_code                                                                    0"
      ]
     },
     "execution_count": 4,
     "metadata": {},
     "output_type": "execute_result"
    }
   ],
   "source": [
    "# check the relevant fields\n",
    "df_chg_idx = df_ggtransit.final_first_route_before_survey_board_comb == 'Supershuttle'\n",
    "display(df_ggtransit.loc[df_chg_idx][['id', 'final_access_mode',\n",
    "                                      'final_first_route_before_survey_board_comb',\n",
    "                                      'final_second_route_before_survey_board_comb',\n",
    "                                      'final_third_route_before_survey_board',\n",
    "                                      'final_prev_transfers_code']].transpose())\n",
    "\n",
    "# modify access_mode, before_transfer_num, and first before route\n",
    "df_ggtransit.loc[df_chg_idx, 'final_access_mode'] = 'Was dropped off using Uber, Lyft, or similar service'\n",
    "df_ggtransit.loc[df_chg_idx, 'final_first_route_before_survey_board_comb'] = df_ggtransit['final_second_route_before_survey_board_comb']\n",
    "df_ggtransit.loc[df_chg_idx, 'final_prev_transfers_code'] = 0\n",
    "\n",
    "# double check\n",
    "df_ggtransit.loc[df_chg_idx][['id', 'final_access_mode',\n",
    "                              'final_first_route_before_survey_board_comb',\n",
    "                              'final_second_route_before_survey_board_comb',\n",
    "                              'final_third_route_before_survey_board',\n",
    "                              'final_prev_transfers_code']].transpose()\n",
    "\n"
   ]
  },
  {
   "cell_type": "code",
   "execution_count": 5,
   "id": "foster-correlation",
   "metadata": {},
   "outputs": [
    {
     "name": "stdout",
     "output_type": "stream",
     "text": [
      "export 4103 rows of Golden Gate Transit survey data with 4103 unique IDs\n"
     ]
    }
   ],
   "source": [
    "# export to M\n",
    "print('export {} rows of Golden Gate Transit survey data with {} unique IDs'.format(\n",
    "    df_ggtransit.shape[0],\n",
    "    len(df_ggtransit.id.unique())))\n",
    "df_ggtransit.to_csv(r'M:\\Data\\OnBoard\\Data and Reports\\Golden Gate Transit\\2018\\As CSV\\20180907_OD_GoldenGate_allDays_addCols_modifyTransfer_NO POUND OR SINGLE QUOTE.csv',\n",
    "                    index=False)"
   ]
  },
  {
   "cell_type": "markdown",
   "id": "electrical-syria",
   "metadata": {},
   "source": [
    "#### BART (2015) survey contains 'AirTrain (SFO)' as a transfer leg"
   ]
  },
  {
   "cell_type": "code",
   "execution_count": 6,
   "id": "ignored-nerve",
   "metadata": {},
   "outputs": [
    {
     "name": "stderr",
     "output_type": "stream",
     "text": [
      "C:\\Users\\ywang\\Anaconda3\\lib\\site-packages\\IPython\\core\\interactiveshell.py:3147: DtypeWarning: Columns (4,13,17,26,32,33,36,38,39,40,51,53,55,59,72,78,79,82,83,85,86,87,102,109,115,126,128,130,138,140,146,159,160,161,162,163,164,165,166,167,168,169,170,171,172,177,207,208,212,214,215,216,217,218,219,220,221,222,223,224,230,231) have mixed types.Specify dtype option on import or set low_memory=False.\n",
      "  interactivity=interactivity, compiler=compiler, result=result)\n"
     ]
    },
    {
     "name": "stdout",
     "output_type": "stream",
     "text": [
      "read 46948 rows of BART survey data with 46948 unique IDs\n"
     ]
    }
   ],
   "source": [
    "df_bart = pd.read_csv(r'M:\\Data\\OnBoard\\Data and Reports\\BART\\As CSV\\BART_Final_Database_Mar18_SUBMITTED_with_station_xy_with_first_board_last_alight_fixColname NO POUND OR SINGLE QUOTE.csv')\n",
    "print('read {} rows of BART survey data with {} unique IDs'.format(\n",
    "    df_bart.shape[0],\n",
    "    len(df_bart.ID.unique())))"
   ]
  },
  {
   "cell_type": "code",
   "execution_count": 7,
   "id": "saving-picnic",
   "metadata": {},
   "outputs": [
    {
     "name": "stdout",
     "output_type": "stream",
     "text": [
      "ACCESSTRNSFR_LIST1\n",
      "EGRESS_TRNSFR_LIST1\n"
     ]
    }
   ],
   "source": [
    "# check which leg has 'AirTrain (SFO)'\n",
    "for i in ['ACCESSTRNSFR_LIST1', 'ACCESSTRNSFR_LIST2', 'ACCESSTRSNFR_LIST3',\n",
    "          'EGRESS_TRNSFR_LIST1', 'EGRESS_TRNSFR_LIST2', 'EGRESSTRNSFR_LIST3']:\n",
    "    if 'AirTrain (SF Airport)' in list(df_bart[i].unique()):\n",
    "        print(i)"
   ]
  },
  {
   "cell_type": "code",
   "execution_count": 8,
   "id": "micro-facility",
   "metadata": {},
   "outputs": [
    {
     "name": "stdout",
     "output_type": "stream",
     "text": [
      "215 responses have AirTain (SFO) as the first before transfer\n"
     ]
    },
    {
     "data": {
      "text/html": [
       "<div>\n",
       "<style scoped>\n",
       "    .dataframe tbody tr th:only-of-type {\n",
       "        vertical-align: middle;\n",
       "    }\n",
       "\n",
       "    .dataframe tbody tr th {\n",
       "        vertical-align: top;\n",
       "    }\n",
       "\n",
       "    .dataframe thead th {\n",
       "        text-align: right;\n",
       "    }\n",
       "</style>\n",
       "<table border=\"1\" class=\"dataframe\">\n",
       "  <thead>\n",
       "    <tr style=\"text-align: right;\">\n",
       "      <th></th>\n",
       "      <th>ACCESS_MODE</th>\n",
       "      <th>ACCESSTRNSFR_LIST1</th>\n",
       "      <th>ACCESSTRNSFR_LIST2</th>\n",
       "      <th>ACCESSTRSNFR_LIST3</th>\n",
       "    </tr>\n",
       "  </thead>\n",
       "  <tbody>\n",
       "    <tr>\n",
       "      <th>785</th>\n",
       "      <td>Walked (includes wheelchair, skateboard)</td>\n",
       "      <td>AirTrain (SF Airport)</td>\n",
       "      <td>NaN</td>\n",
       "      <td>NaN</td>\n",
       "    </tr>\n",
       "    <tr>\n",
       "      <th>41776</th>\n",
       "      <td>Missing - Question Not Asked</td>\n",
       "      <td>AirTrain (SF Airport)</td>\n",
       "      <td>NaN</td>\n",
       "      <td>NaN</td>\n",
       "    </tr>\n",
       "  </tbody>\n",
       "</table>\n",
       "</div>"
      ],
      "text/plain": [
       "                                    ACCESS_MODE     ACCESSTRNSFR_LIST1  \\\n",
       "785    Walked (includes wheelchair, skateboard)  AirTrain (SF Airport)   \n",
       "41776              Missing - Question Not Asked  AirTrain (SF Airport)   \n",
       "\n",
       "      ACCESSTRNSFR_LIST2 ACCESSTRSNFR_LIST3  \n",
       "785                  NaN                NaN  \n",
       "41776                NaN                NaN  "
      ]
     },
     "metadata": {},
     "output_type": "display_data"
    },
    {
     "data": {
      "text/html": [
       "<div>\n",
       "<style scoped>\n",
       "    .dataframe tbody tr th:only-of-type {\n",
       "        vertical-align: middle;\n",
       "    }\n",
       "\n",
       "    .dataframe tbody tr th {\n",
       "        vertical-align: top;\n",
       "    }\n",
       "\n",
       "    .dataframe thead th {\n",
       "        text-align: right;\n",
       "    }\n",
       "</style>\n",
       "<table border=\"1\" class=\"dataframe\">\n",
       "  <thead>\n",
       "    <tr style=\"text-align: right;\">\n",
       "      <th></th>\n",
       "      <th>ACCESS_MODE</th>\n",
       "      <th>ACCESSTRNSFR_LIST1</th>\n",
       "      <th>ACCESSTRNSFR_LIST2</th>\n",
       "      <th>ACCESSTRSNFR_LIST3</th>\n",
       "    </tr>\n",
       "  </thead>\n",
       "  <tbody>\n",
       "    <tr>\n",
       "      <th>785</th>\n",
       "      <td>Walked (includes wheelchair, skateboard)</td>\n",
       "      <td>NaN</td>\n",
       "      <td>NaN</td>\n",
       "      <td>NaN</td>\n",
       "    </tr>\n",
       "  </tbody>\n",
       "</table>\n",
       "</div>"
      ],
      "text/plain": [
       "                                  ACCESS_MODE ACCESSTRNSFR_LIST1  \\\n",
       "785  Walked (includes wheelchair, skateboard)                NaN   \n",
       "\n",
       "    ACCESSTRNSFR_LIST2 ACCESSTRSNFR_LIST3  \n",
       "785                NaN                NaN  "
      ]
     },
     "metadata": {},
     "output_type": "display_data"
    }
   ],
   "source": [
    "# fix 'AirTrain' in before tansfers\n",
    "bart_idx_1 = df_bart.ACCESSTRNSFR_LIST1 == 'AirTrain (SF Airport)'\n",
    "print('{} responses have AirTain (SFO) as the first before transfer'.format(bart_idx_1.sum()))\n",
    "\n",
    "display(df_bart.loc[bart_idx_1][['ACCESS_MODE',\n",
    "                                 'ACCESSTRNSFR_LIST1','ACCESSTRNSFR_LIST2', 'ACCESSTRSNFR_LIST3']].drop_duplicates())\n",
    "\n",
    "# update access_mode to be 'walk' and remove transfer route\n",
    "df_bart.loc[bart_idx_1, 'ACCESS_MODE'] = 'Walked (includes wheelchair, skateboard)'\n",
    "df_bart.loc[bart_idx_1, 'ACCESSTRNSFR_LIST1'] = df_bart['ACCESSTRNSFR_LIST2']\n",
    "\n",
    "# double check\n",
    "display(df_bart.loc[bart_idx_1][['ACCESS_MODE',\n",
    "                                 'ACCESSTRNSFR_LIST1','ACCESSTRNSFR_LIST2', 'ACCESSTRSNFR_LIST3']].drop_duplicates())"
   ]
  },
  {
   "cell_type": "code",
   "execution_count": 9,
   "id": "collected-hearing",
   "metadata": {},
   "outputs": [
    {
     "name": "stdout",
     "output_type": "stream",
     "text": [
      "541 responses have AirTain (SFO) as the first after transfer\n"
     ]
    },
    {
     "data": {
      "text/html": [
       "<div>\n",
       "<style scoped>\n",
       "    .dataframe tbody tr th:only-of-type {\n",
       "        vertical-align: middle;\n",
       "    }\n",
       "\n",
       "    .dataframe tbody tr th {\n",
       "        vertical-align: top;\n",
       "    }\n",
       "\n",
       "    .dataframe thead th {\n",
       "        text-align: right;\n",
       "    }\n",
       "</style>\n",
       "<table border=\"1\" class=\"dataframe\">\n",
       "  <thead>\n",
       "    <tr style=\"text-align: right;\">\n",
       "      <th></th>\n",
       "      <th>EGRESS_TRNSFR_LIST1</th>\n",
       "      <th>EGRESS_TRNSFR_LIST2</th>\n",
       "      <th>EGRESSTRNSFR_LIST3</th>\n",
       "      <th>EGRESS_MODE</th>\n",
       "    </tr>\n",
       "  </thead>\n",
       "  <tbody>\n",
       "    <tr>\n",
       "      <th>21</th>\n",
       "      <td>AirTrain (SF Airport)</td>\n",
       "      <td>NaN</td>\n",
       "      <td>NaN</td>\n",
       "      <td>Walk (includes wheelchair, skateboard)</td>\n",
       "    </tr>\n",
       "    <tr>\n",
       "      <th>367</th>\n",
       "      <td>AirTrain (SF Airport)</td>\n",
       "      <td>NaN</td>\n",
       "      <td>NaN</td>\n",
       "      <td>Bus, train, or other public transit (includes ...</td>\n",
       "    </tr>\n",
       "    <tr>\n",
       "      <th>7792</th>\n",
       "      <td>AirTrain (SF Airport)</td>\n",
       "      <td>NaN</td>\n",
       "      <td>NaN</td>\n",
       "      <td>A bicycle</td>\n",
       "    </tr>\n",
       "  </tbody>\n",
       "</table>\n",
       "</div>"
      ],
      "text/plain": [
       "        EGRESS_TRNSFR_LIST1 EGRESS_TRNSFR_LIST2 EGRESSTRNSFR_LIST3  \\\n",
       "21    AirTrain (SF Airport)                 NaN                NaN   \n",
       "367   AirTrain (SF Airport)                 NaN                NaN   \n",
       "7792  AirTrain (SF Airport)                 NaN                NaN   \n",
       "\n",
       "                                            EGRESS_MODE  \n",
       "21               Walk (includes wheelchair, skateboard)  \n",
       "367   Bus, train, or other public transit (includes ...  \n",
       "7792                                          A bicycle  "
      ]
     },
     "metadata": {},
     "output_type": "display_data"
    },
    {
     "data": {
      "text/html": [
       "<div>\n",
       "<style scoped>\n",
       "    .dataframe tbody tr th:only-of-type {\n",
       "        vertical-align: middle;\n",
       "    }\n",
       "\n",
       "    .dataframe tbody tr th {\n",
       "        vertical-align: top;\n",
       "    }\n",
       "\n",
       "    .dataframe thead th {\n",
       "        text-align: right;\n",
       "    }\n",
       "</style>\n",
       "<table border=\"1\" class=\"dataframe\">\n",
       "  <thead>\n",
       "    <tr style=\"text-align: right;\">\n",
       "      <th></th>\n",
       "      <th>EGRESS_TRNSFR_LIST1</th>\n",
       "      <th>EGRESS_TRNSFR_LIST2</th>\n",
       "      <th>EGRESSTRNSFR_LIST3</th>\n",
       "      <th>EGRESS_MODE</th>\n",
       "    </tr>\n",
       "  </thead>\n",
       "  <tbody>\n",
       "    <tr>\n",
       "      <th>21</th>\n",
       "      <td>NaN</td>\n",
       "      <td>NaN</td>\n",
       "      <td>NaN</td>\n",
       "      <td>Walk (includes wheelchair, skateboard)</td>\n",
       "    </tr>\n",
       "  </tbody>\n",
       "</table>\n",
       "</div>"
      ],
      "text/plain": [
       "   EGRESS_TRNSFR_LIST1 EGRESS_TRNSFR_LIST2 EGRESSTRNSFR_LIST3  \\\n",
       "21                 NaN                 NaN                NaN   \n",
       "\n",
       "                               EGRESS_MODE  \n",
       "21  Walk (includes wheelchair, skateboard)  "
      ]
     },
     "metadata": {},
     "output_type": "display_data"
    }
   ],
   "source": [
    "# fix 'AirTrain' in after tansfers\n",
    "bart_idx_2 = df_bart.EGRESS_TRNSFR_LIST1 == 'AirTrain (SF Airport)'\n",
    "print('{} responses have AirTain (SFO) as the first after transfer'.format(bart_idx_2.sum()))\n",
    "\n",
    "display(df_bart.loc[bart_idx_2][['EGRESS_TRNSFR_LIST1', 'EGRESS_TRNSFR_LIST2', 'EGRESSTRNSFR_LIST3',\n",
    "                                 'EGRESS_MODE']].drop_duplicates())\n",
    "\n",
    "# update egress_mode to be 'walk' and remove transfer route\n",
    "df_bart.loc[bart_idx_2, 'EGRESS_MODE'] = 'Walk (includes wheelchair, skateboard)'\n",
    "df_bart.loc[bart_idx_2, 'EGRESS_TRNSFR_LIST1'] = df_bart['EGRESS_TRNSFR_LIST2']\n",
    "\n",
    "# double check\n",
    "display(df_bart.loc[bart_idx_2][['EGRESS_TRNSFR_LIST1', 'EGRESS_TRNSFR_LIST2', 'EGRESSTRNSFR_LIST3',\n",
    "                                 'EGRESS_MODE']].drop_duplicates())"
   ]
  },
  {
   "cell_type": "code",
   "execution_count": 10,
   "id": "framed-medium",
   "metadata": {},
   "outputs": [
    {
     "name": "stdout",
     "output_type": "stream",
     "text": [
      "export 46948 rows of BART survey data with 46948 unique IDs\n"
     ]
    }
   ],
   "source": [
    "# export to M\n",
    "print('export {} rows of BART survey data with {} unique IDs'.format(\n",
    "    df_bart.shape[0],\n",
    "    len(df_bart.ID.unique())))\n",
    "df_bart.to_csv(r'M:\\Data\\OnBoard\\Data and Reports\\BART\\As CSV\\BART_Final_Database_Mar18_SUBMITTED_with_station_xy_with_first_board_last_alight_fixColname_modifyTransfer_NO POUND OR SINGLE QUOTE.csv',\n",
    "               index=False)"
   ]
  },
  {
   "cell_type": "markdown",
   "id": "intermediate-business",
   "metadata": {},
   "source": [
    "#### Caltrain (2014) survey contains 'AirTrain (SFO)' as a transfer leg"
   ]
  },
  {
   "cell_type": "code",
   "execution_count": 11,
   "id": "bibliographic-relevance",
   "metadata": {},
   "outputs": [
    {
     "name": "stdout",
     "output_type": "stream",
     "text": [
      "read 6032 rows of Caltrain survey data with 6032 unique IDs\n"
     ]
    },
    {
     "name": "stderr",
     "output_type": "stream",
     "text": [
      "C:\\Users\\ywang\\Anaconda3\\lib\\site-packages\\IPython\\core\\interactiveshell.py:3147: DtypeWarning: Columns (0,55,81,82,83) have mixed types.Specify dtype option on import or set low_memory=False.\n",
      "  interactivity=interactivity, compiler=compiler, result=result)\n"
     ]
    }
   ],
   "source": [
    "df_ct = pd.read_csv(r'M:\\Data\\OnBoard\\Data and Reports\\Caltrain\\As CSV\\Caltrain_Final_Submitted_1_5_2015_TYPE_WEIGHT_DATE NO POUND OR SINGLE QUOTE.csv')\n",
    "print('read {} rows of Caltrain survey data with {} unique IDs'.format(\n",
    "    df_ct.shape[0],\n",
    "    len(df_ct.ID.unique())))"
   ]
  },
  {
   "cell_type": "code",
   "execution_count": 12,
   "id": "comfortable-uganda",
   "metadata": {},
   "outputs": [
    {
     "name": "stdout",
     "output_type": "stream",
     "text": [
      "TRANSFER_FROM_1ST\n"
     ]
    }
   ],
   "source": [
    "# check which leg has 'AirTrain (SFO)'\n",
    "for i in ['TRANSFER_FROM_1ST', 'TRANSFER_FROM_2ND', 'TRANSFER_FROM_3RD',\n",
    "          'TRANSFER_TO_1ST', 'TRANSFER_TO_2ND', 'TRANSFER_TO_3RD']:\n",
    "    if 'AirTrain (SF Airport)' in list(df_ct[i].unique()):\n",
    "        print(i)"
   ]
  },
  {
   "cell_type": "code",
   "execution_count": 13,
   "id": "toxic-yahoo",
   "metadata": {},
   "outputs": [
    {
     "name": "stdout",
     "output_type": "stream",
     "text": [
      "1 responses have AirTain (SFO) as the first before transfer\n"
     ]
    },
    {
     "data": {
      "text/html": [
       "<div>\n",
       "<style scoped>\n",
       "    .dataframe tbody tr th:only-of-type {\n",
       "        vertical-align: middle;\n",
       "    }\n",
       "\n",
       "    .dataframe tbody tr th {\n",
       "        vertical-align: top;\n",
       "    }\n",
       "\n",
       "    .dataframe thead th {\n",
       "        text-align: right;\n",
       "    }\n",
       "</style>\n",
       "<table border=\"1\" class=\"dataframe\">\n",
       "  <thead>\n",
       "    <tr style=\"text-align: right;\">\n",
       "      <th></th>\n",
       "      <th>ACCESS_MODE_CODE</th>\n",
       "      <th>TRANSFERS_FROM_CODE</th>\n",
       "      <th>TRANSFER_FROM_1ST</th>\n",
       "      <th>TRANSFER_FROM_2ND</th>\n",
       "      <th>TRANSFER_FROM_3RD</th>\n",
       "    </tr>\n",
       "  </thead>\n",
       "  <tbody>\n",
       "    <tr>\n",
       "      <th>2818</th>\n",
       "      <td>1.0</td>\n",
       "      <td>2.0</td>\n",
       "      <td>AirTrain (SF Airport)</td>\n",
       "      <td>BART RICH/MILL Richmond to Millbrae</td>\n",
       "      <td>NaN</td>\n",
       "    </tr>\n",
       "  </tbody>\n",
       "</table>\n",
       "</div>"
      ],
      "text/plain": [
       "      ACCESS_MODE_CODE  TRANSFERS_FROM_CODE      TRANSFER_FROM_1ST  \\\n",
       "2818               1.0                  2.0  AirTrain (SF Airport)   \n",
       "\n",
       "                        TRANSFER_FROM_2ND TRANSFER_FROM_3RD  \n",
       "2818  BART RICH/MILL Richmond to Millbrae               NaN  "
      ]
     },
     "metadata": {},
     "output_type": "display_data"
    },
    {
     "data": {
      "text/html": [
       "<div>\n",
       "<style scoped>\n",
       "    .dataframe tbody tr th:only-of-type {\n",
       "        vertical-align: middle;\n",
       "    }\n",
       "\n",
       "    .dataframe tbody tr th {\n",
       "        vertical-align: top;\n",
       "    }\n",
       "\n",
       "    .dataframe thead th {\n",
       "        text-align: right;\n",
       "    }\n",
       "</style>\n",
       "<table border=\"1\" class=\"dataframe\">\n",
       "  <thead>\n",
       "    <tr style=\"text-align: right;\">\n",
       "      <th></th>\n",
       "      <th>ACCESS_MODE_CODE</th>\n",
       "      <th>TRANSFERS_FROM_CODE</th>\n",
       "      <th>TRANSFER_FROM_1ST</th>\n",
       "      <th>TRANSFER_FROM_2ND</th>\n",
       "      <th>TRANSFER_FROM_3RD</th>\n",
       "    </tr>\n",
       "  </thead>\n",
       "  <tbody>\n",
       "    <tr>\n",
       "      <th>2818</th>\n",
       "      <td>1.0</td>\n",
       "      <td>1.0</td>\n",
       "      <td>BART RICH/MILL Richmond to Millbrae</td>\n",
       "      <td>NaN</td>\n",
       "      <td>NaN</td>\n",
       "    </tr>\n",
       "  </tbody>\n",
       "</table>\n",
       "</div>"
      ],
      "text/plain": [
       "      ACCESS_MODE_CODE  TRANSFERS_FROM_CODE  \\\n",
       "2818               1.0                  1.0   \n",
       "\n",
       "                        TRANSFER_FROM_1ST TRANSFER_FROM_2ND TRANSFER_FROM_3RD  \n",
       "2818  BART RICH/MILL Richmond to Millbrae               NaN               NaN  "
      ]
     },
     "metadata": {},
     "output_type": "display_data"
    }
   ],
   "source": [
    "# fix 'AirTrain' in before tansfers\n",
    "ct_idx = df_ct.TRANSFER_FROM_1ST == 'AirTrain (SF Airport)'\n",
    "print('{} responses have AirTain (SFO) as the first before transfer'.format(ct_idx.sum()))\n",
    "\n",
    "display(df_ct.loc[ct_idx][['ACCESS_MODE_CODE', 'TRANSFERS_FROM_CODE',\n",
    "                           'TRANSFER_FROM_1ST', 'TRANSFER_FROM_2ND', 'TRANSFER_FROM_3RD']].drop_duplicates())\n",
    "## note: access_mode 1 = walk\n",
    "\n",
    "# update access_mode to be 'walk', move 2nd transfer route to be the 1st\n",
    "df_ct.loc[ct_idx, 'ACCESS_MODE_CODE'] = 1\n",
    "df_ct.loc[ct_idx, 'TRANSFER_FROM_1ST'] = df_ct['TRANSFER_FROM_2ND']\n",
    "df_ct.loc[ct_idx, 'TRANSFER_FROM_2ND'] = df_ct['TRANSFER_FROM_3RD']\n",
    "df_ct.loc[ct_idx, 'TRANSFERS_FROM_CODE'] = 1\n",
    "\n",
    "# double check\n",
    "display(df_ct.loc[ct_idx][['ACCESS_MODE_CODE', 'TRANSFERS_FROM_CODE',\n",
    "                           'TRANSFER_FROM_1ST', 'TRANSFER_FROM_2ND', 'TRANSFER_FROM_3RD']].drop_duplicates())"
   ]
  },
  {
   "cell_type": "code",
   "execution_count": 14,
   "id": "alike-piece",
   "metadata": {
    "scrolled": true
   },
   "outputs": [
    {
     "name": "stdout",
     "output_type": "stream",
     "text": [
      "San Francisco        1417\n",
      "San Jose              708\n",
      "Palo Alto             554\n",
      "Mountain�View         408\n",
      "Millbrae              298\n",
      "Redwood City          292\n",
      "Hillsdale             262\n",
      "Sunnyvale             260\n",
      "22nd Street           200\n",
      "San Mateo             200\n",
      "Menlo Park            168\n",
      "Santa�Clara           154\n",
      "San Carlos            133\n",
      "Burlingame            130\n",
      "California Ave        127\n",
      "Lawrence              106\n",
      "San Bruno             103\n",
      "So. San Francisco     103\n",
      "Belmont                92\n",
      "San�Antonio            90\n",
      "Tamien                 81\n",
      "Bayshore               47\n",
      "Hayward Park           46\n",
      "College�Park           15\n",
      "Blossom Hill           10\n",
      "Morgan Hill             9\n",
      "Gilroy                  7\n",
      "Capitol                 6\n",
      "San Martin              6\n",
      "Name: ENTER_STATION, dtype: int64\n",
      "San Francisco        1417\n",
      "San Jose              708\n",
      "Palo Alto             554\n",
      "Mountain View         408\n",
      "Millbrae              298\n",
      "Redwood City          292\n",
      "Hillsdale             262\n",
      "Sunnyvale             260\n",
      "22nd Street           200\n",
      "San Mateo             200\n",
      "Menlo Park            168\n",
      "Santa Clara           154\n",
      "San Carlos            133\n",
      "Burlingame            130\n",
      "California Ave        127\n",
      "Lawrence              106\n",
      "San Bruno             103\n",
      "So. San Francisco     103\n",
      "Belmont                92\n",
      "San Antonio            90\n",
      "Tamien                 81\n",
      "Bayshore               47\n",
      "Hayward Park           46\n",
      "College Park           15\n",
      "Blossom Hill           10\n",
      "Morgan Hill             9\n",
      "Gilroy                  7\n",
      "Capitol                 6\n",
      "San Martin              6\n",
      "Name: ENTER_STATION, dtype: int64\n"
     ]
    }
   ],
   "source": [
    "# fix encoding issues with station names\n",
    "\n",
    "print(df_ct.ENTER_STATION.value_counts())\n",
    "\n",
    "df_ct.loc[df_ct.ENTER_STATION == 'College�Park', 'ENTER_STATION'] = 'College Park'\n",
    "df_ct.loc[df_ct.ENTER_STATION == 'Mountain�View', 'ENTER_STATION'] = 'Mountain View'\n",
    "df_ct.loc[df_ct.ENTER_STATION == 'Santa�Clara', 'ENTER_STATION'] = 'Santa Clara'\n",
    "df_ct.loc[df_ct.ENTER_STATION == 'San�Antonio', 'ENTER_STATION'] = 'San Antonio'\n",
    "\n",
    "print(df_ct.ENTER_STATION.value_counts())"
   ]
  },
  {
   "cell_type": "code",
   "execution_count": 15,
   "id": "modular-press",
   "metadata": {
    "scrolled": true
   },
   "outputs": [
    {
     "name": "stdout",
     "output_type": "stream",
     "text": [
      "San Francisco        1207\n",
      "Palo Alto             678\n",
      "San Jose              637\n",
      "Mountain�View         404\n",
      "Redwood City          334\n",
      "Millbrae              301\n",
      "Sunnyvale             259\n",
      "Hillsdale             251\n",
      "Menlo Park            218\n",
      "Santa�Clara           181\n",
      "San Mateo             180\n",
      "San Carlos            174\n",
      "22nd Street           149\n",
      "California Ave        148\n",
      "Burlingame            129\n",
      "Lawrence              111\n",
      "So. San Francisco     108\n",
      "Belmont               105\n",
      "San Bruno             103\n",
      "Tamien                 88\n",
      "San�Antonio            81\n",
      "Bayshore               57\n",
      "Hayward Park           50\n",
      "Morgan Hill            19\n",
      "Gilroy                 16\n",
      "Blossom Hill           16\n",
      "College�Park           13\n",
      "San Martin              9\n",
      "Capitol                 6\n",
      "Name: EXIT_STATION, dtype: int64\n",
      "San Francisco        1207\n",
      "Palo Alto             678\n",
      "San Jose              637\n",
      "Mountain View         404\n",
      "Redwood City          334\n",
      "Millbrae              301\n",
      "Sunnyvale             259\n",
      "Hillsdale             251\n",
      "Menlo Park            218\n",
      "Santa Clara           181\n",
      "San Mateo             180\n",
      "San Carlos            174\n",
      "22nd Street           149\n",
      "California Ave        148\n",
      "Burlingame            129\n",
      "Lawrence              111\n",
      "So. San Francisco     108\n",
      "Belmont               105\n",
      "San Bruno             103\n",
      "Tamien                 88\n",
      "San Antonio            81\n",
      "Bayshore               57\n",
      "Hayward Park           50\n",
      "Morgan Hill            19\n",
      "Gilroy                 16\n",
      "Blossom Hill           16\n",
      "College Park           13\n",
      "San Martin              9\n",
      "Capitol                 6\n",
      "Name: EXIT_STATION, dtype: int64\n"
     ]
    }
   ],
   "source": [
    "print(df_ct.EXIT_STATION.value_counts())\n",
    "\n",
    "df_ct.loc[df_ct.EXIT_STATION == 'College�Park', 'EXIT_STATION'] = 'College Park'\n",
    "df_ct.loc[df_ct.EXIT_STATION == 'Mountain�View', 'EXIT_STATION'] = 'Mountain View'\n",
    "df_ct.loc[df_ct.EXIT_STATION == 'Santa�Clara', 'EXIT_STATION'] = 'Santa Clara'\n",
    "df_ct.loc[df_ct.EXIT_STATION == 'San�Antonio', 'EXIT_STATION'] = 'San Antonio'\n",
    "\n",
    "print(df_ct.EXIT_STATION.value_counts())"
   ]
  },
  {
   "cell_type": "code",
   "execution_count": 16,
   "id": "hazardous-merit",
   "metadata": {},
   "outputs": [
    {
     "name": "stdout",
     "output_type": "stream",
     "text": [
      "export 6032 rows of Caltrain survey data with 6032 unique IDs\n"
     ]
    }
   ],
   "source": [
    "# export to M\n",
    "print('export {} rows of Caltrain survey data with {} unique IDs'.format(\n",
    "    df_ct.shape[0],\n",
    "    len(df_ct.ID.unique())))\n",
    "\n",
    "df_ct.to_csv(r'M:\\Data\\OnBoard\\Data and Reports\\Caltrain\\As CSV\\Caltrain_Final_Submitted_1_5_2015_TYPE_WEIGHT_DATE_modifyTransfer_NO POUND OR SINGLE QUOTE.csv',\n",
    "             index=False)"
   ]
  }
 ],
 "metadata": {
  "kernelspec": {
   "display_name": "Python 3",
   "language": "python",
   "name": "python3"
  },
  "language_info": {
   "codemirror_mode": {
    "name": "ipython",
    "version": 3
   },
   "file_extension": ".py",
   "mimetype": "text/x-python",
   "name": "python",
   "nbconvert_exporter": "python",
   "pygments_lexer": "ipython3",
   "version": "3.7.6"
  }
 },
 "nbformat": 4,
 "nbformat_minor": 5
}
