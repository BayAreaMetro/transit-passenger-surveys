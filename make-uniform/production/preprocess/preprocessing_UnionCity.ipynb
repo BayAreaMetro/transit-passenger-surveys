{
 "cells": [
  {
   "cell_type": "code",
   "execution_count": 1,
   "metadata": {},
   "outputs": [],
   "source": [
    "import pandas as pd\n",
    "import datetime"
   ]
  },
  {
   "cell_type": "code",
   "execution_count": 2,
   "metadata": {},
   "outputs": [],
   "source": [
    "df_raw = pd.read_csv(r'M:\\Data\\OnBoard\\Data and Reports\\Union City\\2017\\Union City Transit_Data File_Final_Standardized.csv')"
   ]
  },
  {
   "cell_type": "code",
   "execution_count": 3,
   "metadata": {},
   "outputs": [],
   "source": [
    "df_raw['first_route_before_survey_board'] = df_raw['1_system_before'] + '___' + df_raw['1_route_before']\n",
    "df_raw['second_route_before_survey_board'] = df_raw['2_system_before'] + '___' + df_raw['2_route_before']\n",
    "df_raw['first_route_after_survey_alight'] = df_raw['1_after_system'] + '___' + df_raw['1_route_after_system']\n",
    "df_raw['second_route_after_survey_alight'] = df_raw['2_after_system'] + '___' + df_raw['2_route_after_system']"
   ]
  },
  {
   "cell_type": "code",
   "execution_count": 4,
   "metadata": {},
   "outputs": [],
   "source": [
    "#import datetime\n",
    "df_raw['survey_starttime'] = df_raw['sys_starttime'].apply(lambda x: x.split(\" - \")[1])\n",
    "df_raw['survey_starttime'] = df_raw['survey_starttime'].apply(lambda x: x.replace(\" PDT\",\"\"))\n",
    "\n",
    "#new_time=datetime.datetime.strptime(time,\"%H:%M:%S%z\")\n",
    "#new_time\n",
    "#df_raw['survey_endtime'] = df_raw['sys_endtime'][0].split(\" - \")[1]"
   ]
  },
  {
   "cell_type": "code",
   "execution_count": 5,
   "metadata": {},
   "outputs": [
    {
     "name": "stdout",
     "output_type": "stream",
     "text": [
      "['id', 'sys_starttime', 'sys_endtime', 'run', 'route', 'rcode', 'day', 'date', 'dtype', 'strata', 'wcode', 'weight', 'alt_weight', 'interview_language', 'orig_purp', 'dest_purp', 'sch', 'school_name', 'college_name', 'access_mode', 'egress_mode', 'startlat', 'startlon', 'first_board_lat ', 'first_board_lon', 'last_alight_lat ', 'last_alight_lon', 'endlat', 'endlon', 'xfers_before', '1_system_before', '1_route_before', '1_before_lat_start', '1_before_long_start', '1_before_lat_end', '1_before_long_end', '2_system_before', '2_route_before', '2_before_lat_start', '2_before_long_start', '2_before_lat_end', '2_before_long_end', 'route.1', 'routeboard_lat', 'routeboard_long', 'routealight_lat', 'routealight_long', 'xfers_after', '1_after_system', '1_route_after_system', '1_after_lat_start', '1_after_long_start', '1_after_lat_end', '1_after_long_end', '2_after_system', '2_route_after_system', '2_after_lat_start', '2_after_long_start', '2_after_lat_end', '2_after_long_end', 'fare', 'farecat', 'cars', 'hh', 'hhwork', 'yearborn', 'hisp', 'race_dmy_asn', 'race_dmy_blk', 'race_dmy_hwi', 'race_dmy_ind', 'race_dmy_wht', 'race_other', 'income', 'language_at_home_binary', 'langhh', 'eng_proficient', 'resident_status_county', 'homelat', 'homelon', 'work_status', 'worklat', 'worklon', 'at_work_after_dest_purp', 'at_work_prior_to_orig_purp', 'school_lat', 'school_lon', 'at_school_after_dest_purp', 'at_school_prior_to_orig_purp', 'depart_hour', 'return_hour', 'gender', 'mode', 'first_route_before_survey_board', 'second_route_before_survey_board', 'first_route_after_survey_alight', 'second_route_after_survey_alight', 'survey_starttime']\n",
      "['id', 'sys_starttime', 'sys_endtime', 'run', 'route', 'rcode', 'day', 'date', 'dtype', 'strata', 'wcode', 'weight', 'alt_weight', 'interview_language', 'orig_purp', 'dest_purp', 'sch', 'school_name', 'college_name', 'access_mode', 'egress_mode', 'startlat', 'startlon', 'first_board_lat', 'first_board_lon', 'last_alight_lat', 'last_alight_lon', 'endlat', 'endlon', 'xfers_before', '1_system_before', '1_route_before', '1_before_lat_start', '1_before_long_start', '1_before_lat_end', '1_before_long_end', '2_system_before', '2_route_before', '2_before_lat_start', '2_before_long_start', '2_before_lat_end', '2_before_long_end', 'route.1', 'routeboard_lat', 'routeboard_long', 'routealight_lat', 'routealight_long', 'xfers_after', '1_after_system', '1_route_after_system', '1_after_lat_start', '1_after_long_start', '1_after_lat_end', '1_after_long_end', '2_after_system', '2_route_after_system', '2_after_lat_start', '2_after_long_start', '2_after_lat_end', '2_after_long_end', 'fare', 'farecat', 'cars', 'hh', 'hhwork', 'yearborn', 'hisp', 'race_dmy_asn', 'race_dmy_blk', 'race_dmy_hwi', 'race_dmy_ind', 'race_dmy_wht', 'race_other', 'income', 'language_at_home_binary', 'langhh', 'eng_proficient', 'resident_status_county', 'homelat', 'homelon', 'work_status', 'worklat', 'worklon', 'at_work_after_dest_purp', 'at_work_prior_to_orig_purp', 'school_lat', 'school_lon', 'at_school_after_dest_purp', 'at_school_prior_to_orig_purp', 'depart_hour', 'return_hour', 'gender', 'mode', 'first_route_before_survey_board', 'second_route_before_survey_board', 'first_route_after_survey_alight', 'second_route_after_survey_alight', 'survey_starttime']\n"
     ]
    }
   ],
   "source": [
    "print(list(df_raw))\n",
    "cols = [x.strip() for x in list(df_raw)]\n",
    "df = df_raw.copy()\n",
    "df.columns = cols\n",
    "print(list(df))\n",
    "df.to_csv(r'M:\\Data\\OnBoard\\Data and Reports\\Union City\\2017\\Union City Transit_fix_error_add_time_route_NO POUND OR SINGLE QUOTE.csv')"
   ]
  },
  {
   "cell_type": "code",
   "execution_count": 6,
   "metadata": {},
   "outputs": [
    {
     "name": "stdout",
     "output_type": "stream",
     "text": [
      "(30, 1)\n"
     ]
    },
    {
     "name": "stderr",
     "output_type": "stream",
     "text": [
      "C:\\Users\\ywang\\Anaconda3\\lib\\site-packages\\ipykernel_launcher.py:9: SettingWithCopyWarning: \n",
      "A value is trying to be set on a copy of a slice from a DataFrame\n",
      "\n",
      "See the caveats in the documentation: https://pandas.pydata.org/pandas-docs/stable/user_guide/indexing.html#returning-a-view-versus-a-copy\n",
      "  if __name__ == '__main__':\n"
     ]
    }
   ],
   "source": [
    "routes = pd.DataFrame(columns = ['route'])\n",
    "for i in ['first_route_before_survey_board', 'second_route_before_survey_board',\n",
    "          'first_route_after_survey_alight', 'second_route_after_survey_alight']:\n",
    "    route_unique = df_raw[[i]]\n",
    "    route_unique.columns = ['route']\n",
    "    routes = pd.concat([routes, route_unique])\n",
    "\n",
    "routes_clean = routes.loc[routes.route.notnull()]\n",
    "routes_clean.drop_duplicates(inplace=True)\n",
    "print(routes_clean.shape)\n",
    "routes_clean.to_csv(r'M:\\Data\\OnBoard\\Data and Reports\\Union City\\2017\\all_routes_raw.csv', index=False)"
   ]
  },
  {
   "cell_type": "code",
   "execution_count": 7,
   "metadata": {},
   "outputs": [
    {
     "name": "stdout",
     "output_type": "stream",
     "text": [
      "Generic_Variable that should not exit:\n",
      "['work_lat' 'work_lon']\n",
      "\n",
      "run\n",
      "rcode\n",
      "day\n",
      "school_name\n",
      "college_name\n",
      "xfers_before\n",
      "1_system_before\n",
      "1_route_before\n",
      "1_before_lat_start\n",
      "1_before_long_start\n",
      "1_before_lat_end\n",
      "1_before_long_end\n",
      "2_system_before\n",
      "2_route_before\n",
      "2_before_lat_start\n",
      "2_before_long_start\n",
      "2_before_lat_end\n",
      "2_before_long_end\n",
      "route.1\n",
      "xfers_after\n",
      "1_after_system\n",
      "1_route_after_system\n",
      "1_after_lat_start\n",
      "1_after_long_start\n",
      "1_after_lat_end\n",
      "1_after_long_end\n",
      "2_after_system\n",
      "2_route_after_system\n",
      "2_after_lat_start\n",
      "2_after_long_start\n",
      "2_after_lat_end\n",
      "2_after_long_end\n",
      "resident_status_county\n"
     ]
    }
   ],
   "source": [
    "# bring in standard dictionary to check field consistency\n",
    "\n",
    "# dictionary for Union City survey\n",
    "var = pd.read_csv(r'M:\\Data\\OnBoard\\Data and Reports\\Union City\\2017\\variable_dictionary.csv',\n",
    "                  encoding = \"ISO-8859-1\", engine='python')\n",
    "\n",
    "# standard dictionary\n",
    "var_standard = pd.read_csv(r'C:\\Users\\ywang\\Documents\\GitHub\\onboard-surveys\\make-uniform\\production\\Dictionary for Standard Database.csv')\n",
    "var_standard.columns = [x+'_s' for x in list(var_standard)]\n",
    "\n",
    "# merge\n",
    "var_merge = var.merge(var_standard, left_on='Generic_Variable', right_on='Generic_Variable_s', how='outer')\n",
    "\n",
    "# check if 'Generic_Variable' in Union City dictionary matches the standard 'Generic_Variable'. chk1 should be empty\n",
    "chk1 = var_merge.loc[(var_merge.Generic_Variable.notnull()) & (var_merge.Generic_Variable_s.isnull())]\n",
    "print('Generic_Variable that should not exit:')\n",
    "print(chk1.Generic_Variable.unique())\n",
    "print()\n",
    "\n",
    "# check if columns names in survey data matches 'Survey_Variable' in Union City dictionary.\n",
    "# the following loops should not include variables that are needed for standardization\n",
    "\n",
    "for i in var.loc[var.Generic_Variable.notnull()]['Survey_Variable']:\n",
    "    if i not in list(df):\n",
    "        print(i)\n",
    "        \n",
    "for i in list(df):\n",
    "    if i not in list(var.Survey_Variable):\n",
    "        print(i)"
   ]
  },
  {
   "cell_type": "code",
   "execution_count": 8,
   "metadata": {},
   "outputs": [
    {
     "name": "stdout",
     "output_type": "stream",
     "text": [
      "access_mode\n",
      "at_school_after_dest_purp\n",
      "[nan]\n",
      "at_school_prior_to_orig_purp\n",
      "[nan]\n",
      "at_work_after_dest_purp\n",
      "[nan]\n",
      "at_work_prior_to_orig_purp\n",
      "[nan]\n",
      "cars\n",
      "depart_hour\n",
      "dest_purp\n",
      "dtype\n",
      "egress_mode\n",
      "eng_proficient\n",
      "[nan]\n",
      "fare\n",
      "farecat\n",
      "gender\n",
      "hh\n",
      "hhwork\n",
      "hisp\n",
      "income\n",
      "interview_language\n",
      "langhh\n",
      "[nan]\n",
      "language_at_home_binary\n",
      "mode\n",
      "orig_purp\n",
      "race_dmy_asn\n",
      "[nan]\n",
      "race_dmy_blk\n",
      "[nan]\n",
      "race_dmy_hwi\n",
      "[nan]\n",
      "race_dmy_ind\n",
      "[nan]\n",
      "race_dmy_wht\n",
      "[nan]\n",
      "race_other\n",
      "[nan]\n",
      "return_hour\n",
      "sch\n",
      "[nan]\n",
      "strata\n",
      "work_status\n"
     ]
    },
    {
     "name": "stderr",
     "output_type": "stream",
     "text": [
      "C:\\Users\\ywang\\Anaconda3\\lib\\site-packages\\pandas\\core\\generic.py:5303: SettingWithCopyWarning: \n",
      "A value is trying to be set on a copy of a slice from a DataFrame.\n",
      "Try using .loc[row_indexer,col_indexer] = value instead\n",
      "\n",
      "See the caveats in the documentation: https://pandas.pydata.org/pandas-docs/stable/user_guide/indexing.html#returning-a-view-versus-a-copy\n",
      "  self[name] = value\n"
     ]
    }
   ],
   "source": [
    "# check if all the values in the survey data are included in TriDelta dictionary\n",
    "# look at non-categorical variables; \"diff\" should be empty or only contains nan\n",
    "\n",
    "var_clean = var[['operator', 'Survey_year', 'Survey_Variable', 'Survey_Response', \n",
    "                 'Generic_Variable', 'Generic_Response']].drop_duplicates()\n",
    "var_clean = var_clean.loc[var_clean.Generic_Variable.notnull()]\n",
    "\n",
    "for i in var_clean.loc[var_clean.Survey_Response != 'NONCATEGORICAL']['Survey_Variable'].unique():\n",
    "    print(i)\n",
    "    df_sub = df[['id', i]]\n",
    "    var_sub = var_clean.loc[var_clean.Survey_Variable == i]\n",
    "\n",
    "    if i in ['race_dmy_asn', 'race_dmy_blk', 'race_dmy_hisp', 'race_dmy_hwi', 'race_dmy_ind', 'race_dmy_wht']:\n",
    "        var_sub.Survey_Response = var_sub.Survey_Response.apply(lambda x: int(x))\n",
    "        \n",
    "    compare = df_sub.merge(var_sub, left_on=i, right_on='Survey_Response', how='left')\n",
    "    diff = compare.loc[compare.Generic_Response.isnull()]\n",
    "    if diff.shape[0] > 0:\n",
    "        print(diff[i].unique())"
   ]
  },
  {
   "cell_type": "code",
   "execution_count": 9,
   "metadata": {},
   "outputs": [
    {
     "name": "stdout",
     "output_type": "stream",
     "text": [
      "['access_mode' 'alt_weight' 'at_school_after_dest_purp'\n",
      " 'at_school_prior_to_orig_purp' 'at_work_after_dest_purp'\n",
      " 'at_work_prior_to_orig_purp' 'vehicles' 'date_string' 'depart_hour'\n",
      " 'dest_purp' 'weekpart' 'egress_mode' 'dest_lat' 'dest_lon'\n",
      " 'eng_proficient' 'fare_medium' 'fare_category' 'first_board_lat '\n",
      " 'first_board_lon' 'first_route_after_survey_alight'\n",
      " 'first_route_before_survey_board' 'gender' 'persons' 'workers' 'hispanic'\n",
      " 'home_lat' 'home_lon' 'ID' 'household_income' 'interview_language'\n",
      " 'language_at_home_detail' 'language_at_home_binary' 'last_alight_lat '\n",
      " 'last_alight_lon' 'survey_type' 'orig_purp' 'race_dmy_asn' 'race_dmy_blk'\n",
      " 'race_dmy_hwi' 'race_dmy_ind' 'race_dmy_wht' 'race_other_string'\n",
      " 'return_hour' 'route' 'survey_alight_lat' 'survey_alight_lon'\n",
      " 'survey_board_lat' 'survey_board_lon' 'student_status' 'school_lat'\n",
      " 'school_lon' 'second_route_after_survey_alight'\n",
      " 'second_route_before_survey_board' 'orig_lat' 'orig_lon' 'strata'\n",
      " 'time_string' 'weight' 'work_status' 'work_lat' 'work_lon'\n",
      " 'year_born_four_digit']\n"
     ]
    }
   ],
   "source": [
    "# finally, check all necessary fields are included, and export\n",
    "print(var_clean.Generic_Variable.unique())\n",
    "var_clean.to_csv(r'M:\\Data\\OnBoard\\Data and Reports\\Union City\\2017\\vars_for_standard_dictionary.csv', index=False)"
   ]
  },
  {
   "cell_type": "code",
   "execution_count": null,
   "metadata": {},
   "outputs": [],
   "source": []
  }
 ],
 "metadata": {
  "kernelspec": {
   "display_name": "Python 3",
   "language": "python",
   "name": "python3"
  },
  "language_info": {
   "codemirror_mode": {
    "name": "ipython",
    "version": 3
   },
   "file_extension": ".py",
   "mimetype": "text/x-python",
   "name": "python",
   "nbconvert_exporter": "python",
   "pygments_lexer": "ipython3",
   "version": "3.7.6"
  }
 },
 "nbformat": 4,
 "nbformat_minor": 4
}
