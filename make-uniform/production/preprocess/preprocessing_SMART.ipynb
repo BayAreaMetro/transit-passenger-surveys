{
 "cells": [
  {
   "cell_type": "code",
   "execution_count": 1,
   "metadata": {},
   "outputs": [],
   "source": [
    "import pandas as pd"
   ]
  },
  {
   "cell_type": "code",
   "execution_count": 2,
   "metadata": {},
   "outputs": [
    {
     "name": "stdout",
     "output_type": "stream",
     "text": [
      "read 411 records, with 411 unique RespNum\n"
     ]
    }
   ],
   "source": [
    "df_raw = pd.read_excel(r'M:\\Data\\OnBoard\\Data and Reports\\SMART\\As CSV\\SMART Standardized Final Data NO POUND NO SINGLE QUOTE.xlsx')\n",
    "print('read {} records, with {} unique RespNum'.format(df_raw.shape[0], len(df_raw.RespNum.unique())))"
   ]
  },
  {
   "cell_type": "code",
   "execution_count": 3,
   "metadata": {},
   "outputs": [],
   "source": [
    "# remove space in field names\n",
    "df = df_raw.copy()\n",
    "df.rename(columns = {'RespNum': 'ID'}, inplace=True)\n",
    "cols = [x.strip().replace(' ','_') for x in list(df)]\n",
    "df.columns = cols"
   ]
  },
  {
   "cell_type": "code",
   "execution_count": 4,
   "metadata": {},
   "outputs": [],
   "source": [
    "# create survey route based on board and alight station names\n",
    "df['survey_route'] = df['Board_Station'] + ' - ' + df['Alight_station']"
   ]
  },
  {
   "cell_type": "code",
   "execution_count": 5,
   "metadata": {},
   "outputs": [],
   "source": [
    "# aggregate access_mode and egress_mode\n",
    "df['access_mode_final'] = df['access_mode_Leg1']\n",
    "df.loc[df.access_mode_final == 'PUBLIC TRANSIT', 'access_mode_final'] = df['access_mode_Leg2']\n",
    "\n",
    "df['egress_mode_final'] = df['egress_mode_Leg1']\n",
    "df.loc[df.egress_mode_final == 'PUBLIC TRANSIT', 'egress_mode_final'] = df['egress_mode_Leg2']"
   ]
  },
  {
   "cell_type": "code",
   "execution_count": 6,
   "metadata": {},
   "outputs": [],
   "source": [
    "# aggregate transfer agency and route info\n",
    "df['first_route_before_survey_board'] = df['1_system_before'] + '___' + df['1_route_before'].astype(str)\n",
    "df['second_route_before_survey_board'] = df['2_system_before'] + '___' + df['2_route_before'].astype(str)\n",
    "df['third_route_before_survey_board'] = df['3_system_before'] + '___' + df['3_route_before'].astype(str)\n",
    "df['first_route_after_survey_alight'] = df['1_after_system'] + '___' + df['1_route_after_system'].astype(str)\n",
    "df['second_route_after_survey_alight'] = df['2_after_system'] + '___' + df['2_route_after_system'].astype(str)\n",
    "df['third_route_after_survey_alight'] = df['3_after_system'] + '___' + df['3_route_after_system'].astype(str)\n",
    "\n",
    "# use interview start time as the \"time_string\"\n",
    "df['time_string'] = df['interview_start_time']\n",
    "\n",
    "df.to_csv(r'M:\\Data\\OnBoard\\Data and Reports\\SMART\\As CSV\\SMART Standardized Final Data_addRouteCols_NO POUND NO SINGLE QUOTE.csv', index=False)"
   ]
  },
  {
   "cell_type": "code",
   "execution_count": 7,
   "metadata": {},
   "outputs": [
    {
     "name": "stdout",
     "output_type": "stream",
     "text": [
      "(52, 3)\n"
     ]
    },
    {
     "name": "stderr",
     "output_type": "stream",
     "text": [
      "C:\\Users\\ywang\\Anaconda3\\lib\\site-packages\\ipykernel_launcher.py:9: SettingWithCopyWarning: \n",
      "A value is trying to be set on a copy of a slice from a DataFrame\n",
      "\n",
      "See the caveats in the documentation: https://pandas.pydata.org/pandas-docs/stable/user_guide/indexing.html#returning-a-view-versus-a-copy\n",
      "  if __name__ == '__main__':\n",
      "C:\\Users\\ywang\\Anaconda3\\lib\\site-packages\\ipykernel_launcher.py:10: SettingWithCopyWarning: \n",
      "A value is trying to be set on a copy of a slice from a DataFrame.\n",
      "Try using .loc[row_indexer,col_indexer] = value instead\n",
      "\n",
      "See the caveats in the documentation: https://pandas.pydata.org/pandas-docs/stable/user_guide/indexing.html#returning-a-view-versus-a-copy\n",
      "  # Remove the CWD from sys.path while we load stuff.\n",
      "C:\\Users\\ywang\\Anaconda3\\lib\\site-packages\\ipykernel_launcher.py:11: SettingWithCopyWarning: \n",
      "A value is trying to be set on a copy of a slice from a DataFrame.\n",
      "Try using .loc[row_indexer,col_indexer] = value instead\n",
      "\n",
      "See the caveats in the documentation: https://pandas.pydata.org/pandas-docs/stable/user_guide/indexing.html#returning-a-view-versus-a-copy\n",
      "  # This is added back by InteractiveShellApp.init_path()\n"
     ]
    }
   ],
   "source": [
    "routes = pd.DataFrame(columns = ['survey_name'])\n",
    "for i in ['first_route_before_survey_board', 'second_route_before_survey_board', 'third_route_before_survey_board',\n",
    "          'first_route_after_survey_alight', 'second_route_after_survey_alight', 'third_route_after_survey_alight']:\n",
    "    route_unique = df[[i]]\n",
    "    route_unique.columns = ['survey_name']\n",
    "    routes = pd.concat([routes, route_unique])\n",
    "\n",
    "routes_clean = routes.loc[routes.survey_name.notnull()]\n",
    "routes_clean.drop_duplicates(inplace=True)\n",
    "routes_clean['survey'] = 'Sonoma-Marin Area Rail Transit'\n",
    "routes_clean['survey_year'] = 2018\n",
    "\n",
    "print(routes_clean.shape)\n",
    "#routes_clean[['survey','survey_year','survey_name']].to_csv(r'M:\\Data\\OnBoard\\Data and Reports\\SMART\\As CSV\\all_routes_raw.csv', index=False)"
   ]
  },
  {
   "cell_type": "code",
   "execution_count": 8,
   "metadata": {},
   "outputs": [
    {
     "name": "stdout",
     "output_type": "stream",
     "text": [
      "Generic_Variable that should not exit:\n",
      "[]\n",
      "\n",
      "CCGID\n",
      "RunID\n",
      "WC\n",
      "sch\n",
      "school_name\n",
      "college_name\n",
      "access_mode\n",
      "access_mode_Leg1\n",
      "access_mode_Leg2\n",
      "access_mode_Leg3\n",
      "access_mode_Leg4\n",
      "egress_mode\n",
      "egress_mode_Leg1\n",
      "egress_mode_Leg2\n",
      "egress_mode_Leg3\n",
      "egress_mode_Leg4\n",
      "1_system_before\n",
      "1_route_before\n",
      "2_system_before\n",
      "2_route_before\n",
      "3_system_before\n",
      "3_route_before\n",
      "route\n",
      "Board_Station\n",
      "Alight_station\n",
      "1_after_system\n",
      "1_route_after_system\n",
      "2_after_system\n",
      "2_route_after_system\n",
      "3_after_system\n",
      "3_route_after_system\n",
      "age\n",
      "race_other\n",
      "livebay\n",
      "ST\n"
     ]
    }
   ],
   "source": [
    "# bring in standard dictionary to check field consistency\n",
    "\n",
    "# dictionary for Smart survey\n",
    "var = pd.read_csv(r'M:\\Data\\OnBoard\\Data and Reports\\SMART\\As CSV\\variables_dictionary.csv',\n",
    "                  encoding = \"ISO-8859-1\", engine='python')\n",
    "\n",
    "# standard dictionary\n",
    "var_standard = pd.read_csv(r'C:\\Users\\ywang\\Documents\\GitHub\\onboard-surveys\\make-uniform\\production\\Dictionary for Standard Database.csv')\n",
    "var_standard.columns = [x+'_s' for x in list(var_standard)]\n",
    "\n",
    "# merge\n",
    "var_merge = var.merge(var_standard, left_on='Generic_Variable', right_on='Generic_Variable_s', how='outer')\n",
    "\n",
    "# check if 'Generic_Variable' in Smart dictionary matches the standard 'Generic_Variable'. chk1 should be empty\n",
    "chk1 = var_merge.loc[(var_merge.Generic_Variable.notnull()) & (var_merge.Generic_Variable_s.isnull())]\n",
    "print('Generic_Variable that should not exit:')\n",
    "print(chk1.Generic_Variable.unique())\n",
    "print()\n",
    "\n",
    "# check if columns names in survey data matches 'Survey_Variable' in Smart dictionary.\n",
    "# the following loops should not include variables that are needed for standardization\n",
    "\n",
    "for i in var.loc[var.Generic_Variable.notnull()]['Survey_Variable']:\n",
    "    if i not in list(df):\n",
    "        print(i)\n",
    "        \n",
    "for i in list(df):\n",
    "    if i not in list(var.Survey_Variable):\n",
    "        print(i)"
   ]
  },
  {
   "cell_type": "code",
   "execution_count": 9,
   "metadata": {},
   "outputs": [
    {
     "name": "stdout",
     "output_type": "stream",
     "text": [
      "access_mode_final\n",
      "at_school_after_dest_purp\n",
      "[nan]\n",
      "at_school_prior_to_orig_purp\n",
      "[nan]\n",
      "at_work_after_dest_purp\n",
      "[nan]\n",
      "at_work_prior_to_orig_purp\n",
      "[nan]\n",
      "cars\n",
      "day_of_week\n",
      "depart_hour\n",
      "['nan']\n",
      "dest_purp\n",
      "DIRECTION\n",
      "DTYPE\n",
      "egress_mode_final\n",
      "engspk\n",
      "[nan]\n",
      "fare\n",
      "farecat\n",
      "gender\n",
      "hh\n",
      "hhwork\n",
      "hisp\n",
      "income\n",
      "language_at_home_binary\n",
      "language_at_home_detail\n",
      "[nan]\n",
      "Mode\n",
      "orig_purp\n",
      "race_dmy_asn\n",
      "race_dmy_blk\n",
      "race_dmy_hwi\n",
      "race_dmy_ind\n",
      "race_dmy_wht\n",
      "return_hour\n",
      "['nan']\n",
      "sch.1\n",
      "STRATA\n",
      "work_status\n",
      "xfers_after\n",
      "[nan]\n",
      "xfers_before\n",
      "[nan]\n"
     ]
    },
    {
     "name": "stderr",
     "output_type": "stream",
     "text": [
      "C:\\Users\\ywang\\Anaconda3\\lib\\site-packages\\ipykernel_launcher.py:18: SettingWithCopyWarning: \n",
      "A value is trying to be set on a copy of a slice from a DataFrame.\n",
      "Try using .loc[row_indexer,col_indexer] = value instead\n",
      "\n",
      "See the caveats in the documentation: https://pandas.pydata.org/pandas-docs/stable/user_guide/indexing.html#returning-a-view-versus-a-copy\n",
      "C:\\Users\\ywang\\Anaconda3\\lib\\site-packages\\pandas\\core\\generic.py:5303: SettingWithCopyWarning: \n",
      "A value is trying to be set on a copy of a slice from a DataFrame.\n",
      "Try using .loc[row_indexer,col_indexer] = value instead\n",
      "\n",
      "See the caveats in the documentation: https://pandas.pydata.org/pandas-docs/stable/user_guide/indexing.html#returning-a-view-versus-a-copy\n",
      "  self[name] = value\n"
     ]
    }
   ],
   "source": [
    "# check if all the values in the survey data are included in Smart dictionary\n",
    "# look at non-categorical variables; \"diff\" should be empty or only contains nan\n",
    "\n",
    "var_clean = var[['operator', 'Survey_year', 'Survey_Variable', 'Survey_Response', \n",
    "                 'Generic_Variable', 'Generic_Response']].drop_duplicates()\n",
    "var_clean = var_clean.loc[var_clean.Generic_Variable.notnull()]\n",
    "\n",
    "for i in var_clean.loc[var_clean.Survey_Response != 'NONCATEGORICAL']['Survey_Variable'].unique():\n",
    "    print(i)\n",
    "    df_sub = df[['ID', i]]\n",
    "    var_sub = var_clean.loc[var_clean.Survey_Variable == i]\n",
    "\n",
    "    if i in ['race_dmy_ind', 'race_dmy_hwi', 'race_dmy_blk', 'race_dmy_wht', 'race_dmy_asn', 'WC', \n",
    "             'xfers_after', 'xfers_before']:\n",
    "        var_sub.Survey_Response = var_sub.Survey_Response.apply(lambda x: int(x))\n",
    "\n",
    "    if i in ['depart_hour', 'return_hour']:\n",
    "        df_sub[i] = df_sub[i].apply(lambda x: str(x))\n",
    "\n",
    "    compare = df_sub.merge(var_sub, left_on=i, right_on='Survey_Response', how='left')\n",
    "    diff = compare.loc[compare.Generic_Response.isnull()]\n",
    "    if diff.shape[0] > 0:\n",
    "        print(diff[i].unique())"
   ]
  },
  {
   "cell_type": "code",
   "execution_count": 10,
   "metadata": {},
   "outputs": [
    {
     "name": "stdout",
     "output_type": "stream",
     "text": [
      "['route' 'access_mode' 'at_school_after_dest_purp'\n",
      " 'at_school_prior_to_orig_purp' 'at_work_after_dest_purp'\n",
      " 'at_work_prior_to_orig_purp' 'year_born_four_digit' 'vehicles'\n",
      " 'date_string' 'day_of_week' 'depart_hour' 'dest_purp' 'direction'\n",
      " 'weekpart' 'egress_mode' 'dest_lat' 'dest_lon' 'eng_proficient'\n",
      " 'fare_medium' 'fare_category' 'first_board_lat' 'first_board_lon'\n",
      " 'gender' 'persons' 'workers' 'hispanic' 'home_lat' 'home_lon' 'ID'\n",
      " 'household_income' 'interview_end_time' 'interview_start_time'\n",
      " 'language_at_home_binary' 'language_at_home_detail' 'last_alight_lat'\n",
      " 'last_alight_lon' 'survey_type' 'orig_purp' 'orig_lat' 'orig_lon'\n",
      " 'race_other_string' 'race_dmy_asn' 'race_dmy_blk' 'race_dmy_hwi'\n",
      " 'race_dmy_ind' 'race_dmy_wht' 'return_hour' 'student_status' 'school_lat'\n",
      " 'school_lon' 'time_period' 'time_string' 'tweight' 'weight'\n",
      " 'workplace_lat' 'workplace_lon' 'work_status'\n",
      " 'number_transfers_alight_dest' 'number_transfers_orig_board'\n",
      " 'first_route_before_survey_board' 'second_route_before_survey_board'\n",
      " 'third_route_before_survey_board' 'first_route_after_survey_alight'\n",
      " 'second_route_after_survey_alight' 'third_route_after_survey_alight'\n",
      " 'survey_board_lat' 'survey_board_lon' 'survey_alight_lat'\n",
      " 'survey_alight_lon']\n"
     ]
    }
   ],
   "source": [
    "# finally, check all necessary fields are included, and export\n",
    "print(var_clean.Generic_Variable.unique())\n",
    "var_clean.to_csv(r'M:\\Data\\OnBoard\\Data and Reports\\SMART\\As CSV\\vars_for_standard_dictionary.csv', index=False)"
   ]
  }
 ],
 "metadata": {
  "kernelspec": {
   "display_name": "Python 3",
   "language": "python",
   "name": "python3"
  },
  "language_info": {
   "codemirror_mode": {
    "name": "ipython",
    "version": 3
   },
   "file_extension": ".py",
   "mimetype": "text/x-python",
   "name": "python",
   "nbconvert_exporter": "python",
   "pygments_lexer": "ipython3",
   "version": "3.7.6"
  }
 },
 "nbformat": 4,
 "nbformat_minor": 4
}
