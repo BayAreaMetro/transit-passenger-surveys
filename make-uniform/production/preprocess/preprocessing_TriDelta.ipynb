{
 "cells": [
  {
   "cell_type": "code",
   "execution_count": 1,
   "metadata": {},
   "outputs": [],
   "source": [
    "import pandas as pd"
   ]
  },
  {
   "cell_type": "code",
   "execution_count": 2,
   "metadata": {},
   "outputs": [],
   "source": [
    "df_raw = pd.read_csv(r'M:\\Data\\OnBoard\\Data and Reports\\Tri Delta\\2019\\TriDelta_ODSurvey_Dataset_Weights_03272019_FinalDeliv.csv')"
   ]
  },
  {
   "cell_type": "code",
   "execution_count": 3,
   "metadata": {},
   "outputs": [],
   "source": [
    "df = df_raw.copy()"
   ]
  },
  {
   "cell_type": "code",
   "execution_count": 4,
   "metadata": {
    "scrolled": true
   },
   "outputs": [
    {
     "name": "stdout",
     "output_type": "stream",
     "text": [
      "742\n",
      "['ID', 'SURVEY_TYPE', 'DOW', 'DATE', 'ROUTE_SURVEYED_CODE', 'ROUTE_SURVEYED', 'change_to_route_surveyed', 'reason_for_change_to_route_surveyed', 'final_route_surveyed_code', 'final_route', 'RESIDENT_OR_VISITOR_Code', 'RESIDENT_OR_VISITOR', 'HOME_ZIP', 'HOME_ADDRESS_ADDR', 'HOME_ADDRESS_CITY', 'HOME_ADDRESS_STATE', 'HOME_ADDRESS_ZIP', 'HOME_ADDRESS_LAT', 'HOME_ADDRESS_LONG', 'HOTEL_ADDRESS_ADDR', 'HOTEL_ADDRESS_CITY', 'HOTEL_ADDRESS_STATE', 'HOTEL_ADDRESS_ZIP', 'HOTEL_ADDRESS_LAT', 'HOTEL_ADDRESS_LONG', 'origin_place_type_code', 'ORIGIN_PLACE_TYPE', 'ORIGIN_PLACE_TYPE_Other', 'change_to_origin_place_type', 'reason_for_change_to_origin_place_type', 'updated_origin_place_type_code', 'updated_origin_place_type', 'updated_origin_place_type_other', 'final_change_to_origin_place_type', 'final_reason_for_change_to_origin_place_type', 'final_origin_place_type_code', 'final_origin_place_type', 'ORIGIN_ADDRESS_ADDR', 'ORIGIN_ADDRESS_CITY', 'ORIGIN_ADDRESS_STATE', 'ORIGIN_ADDRESS_ZIP', 'ORIGIN_ADDRESS_LAT', 'ORIGIN_ADDRESS_LONG', 'change_to_origin_address', 'reason_for_change_to_origin_address', 'FINAL_ORIGIN_ADDRESS_ADDR', 'FINAL_ORIGIN_ADDRESS_CITY', 'FINAL_ORIGIN_ADDRESS_STATE', 'FINAL_ORIGIN_ADDRESS_ZIP', 'FINAL_ORIGIN_ADDRESS_LAT', 'FINAL_ORIGIN_ADDRESS_LONG', 'PREV_TRANSFERS_Code', 'PREV_TRANSFERS', 'change_to_prev_transfers', 'reason_for_change_to_prev_transfers', 'Updated_prev_transfers_code', 'Updated_prev_transfers', 'final_change_to_prev_transfers', 'final_reason_for_change_to_prev_transfers', 'final_prev_transfers_code', 'final_prev_transfers', 'TRIP_FIRST_ROUTE_Code', 'TRIP_FIRST_ROUTE', 'change_to_TRIP_FIRST_ROUTE_Code', 'reason_for_change_to_TRIP_FIRST_ROUTE_Code', 'Final_TRIP_FIRST_ROUTE_Code', 'Final_TRIP_FIRST_ROUTE', 'TRIP_SECOND_ROUTE_Code', 'TRIP_SECOND_ROUTE', 'change_to_TRIP_Second_ROUTE_Code', 'reason_for_change_to_TRIP_Second_ROUTE_Code', 'Final_TRIP_SECOND_ROUTE_Code', 'Final_TRIP_SECOND_ROUTE', 'ORIGIN_TRANSPORT_Code', 'ORIGIN_TRANSPORT', 'ORIGIN_TRANSPORT_Other', 'change_to_ORIGIN_TRANSPORT', 'reason_for_change_to_ORIGIN_TRANSPORT', 'updated_ORIGIN_TRANSPORT_code', 'updated_ORIGIN_TRANSPORT', 'updated_ORIGIN_TRANSPORT_other', 'final_change_to_access_mode', 'final_reason_for_change_to_access_mode', 'Final_ORIGIN_TRANSPORT_code', 'Final_ORIGIN_TRANSPORT', 'Final_ORIGIN_TRANSPORT_other', 'ORIGIN_DROPOFF_ADDR', 'ORIGIN_DROPOFF_CITY', 'ORIGIN_DROPOFF_STATE', 'ORIGIN_DROPOFF_ZIP', 'ORIGIN_DROPOFF_LAT', 'ORIGIN_DROPOFF_LONG', 'ORIGIN_WALK_DIS', 'DESTIN_PLACE_TYPE_Code', 'DESTIN_PLACE_TYPE', 'DESTIN_PLACE_TYPE_Other', 'change_to_Destin_place_type', 'reason_for_change_to_Destin_place_type', 'updated_Destin_place_type_code', 'updated_Destin_place_type', 'updated_Destin_place_type_other', 'final_change_to_Destin_place_type', 'final_reason_for_change_to_Destin_place_type', 'final_Destin_place_type_code', 'final_Destin_place_type', 'final_Destin_place_type_other', 'DESTIN_ADDRESS_ADDR', 'DESTIN_ADDRESS_CITY', 'DESTIN_ADDRESS_STATE', 'DESTIN_ADDRESS_ZIP', 'DESTIN_ADDRESS_LAT', 'DESTIN_ADDRESS_LONG', 'change_to_destin_address', 'reason_for_change_to_destin_address', 'Final_DESTIN_ADDRESS_ADDR', 'Final_DESTIN_ADDRESS_CITY', 'Final_DESTIN_ADDRESS_STATE', 'Final_DESTIN_ADDRESS_ZIP', 'Final_DESTIN_ADDRESS_LAT', 'Final_DESTIN_ADDRESS_LONG', 'next_transfers_code', 'next_transfers', 'change_to_next_transfers', 'reason_for_change_to_next_transfers', 'final_change_to_next_transfers', 'final_reason_for_change_to_next_transfers', 'final_next_transfers_code', 'final_next_transfers', 'TRIP_NEXT_ROUTE_Code', 'TRIP_NEXT_ROUTE', 'change_to_TRIP_NEXT_ROUTE', 'reason_for_change_to_TRIP_NEXT_ROUTE', 'Final_TRIP_NEXT_ROUTE_Code', 'Final_TRIP_NEXT_ROUTE', 'TRIP_AFTER_ROUTE_Code', 'TRIP_AFTER_ROUTE', 'change_to_TRIP_AFTER_ROUTE', 'reason_for_change_to_TRIP_AFTER_ROUTE', 'Final_TRIP_AFTER_ROUTE_Code', 'Final_TRIP_AFTER_ROUTE', 'TRIP_3RD_ROUTE_Code', 'TRIP_3RD_ROUTE', 'change_to_TRIP_3RD_ROUTE', 'reason_for_change_to_TRIP_3RD_ROUTE', 'Final_TRIP_3RD_ROUTE_Code', 'Final_TRIP_3RD_ROUTE', 'DESTIN_TRANSPORT_Code', 'DESTIN_TRANSPORT', 'DESTIN_TRANSPORT_Other', 'change_to_DESTIN_TRANSPORT', 'reason_for_change_to_DESTIN_TRANSPORT', 'updated_DESTIN_TRANSPORT_code', 'updated_DESTIN_TRANSPORT', 'updated_DESTIN_TRANSPORT_other', 'final_change_to_DESTIN_TRANSPORT', 'final_reason_for_change_to_DESTIN_TRANSPORT', 'final_DESTIN_TRANSPORT_code', 'final_DESTIN_TRANSPORT', 'DESTIN_DROPOFF_ADDR', 'DESTIN_DROPOFF_CITY', 'DESTIN_DROPOFF_STATE', 'DESTIN_DROPOFF_ZIP', 'DESTIN_DROPOFF_LAT', 'DESTIN_DROPOFF_LONG', 'DESTIN_WALK_DIS', 'STOP_ON_ADDR', 'STOP_ON_CLNTID', 'STOP_ON_LAT', 'STOP_ON_LONG', 'change_to_Stop_on', 'reason_for_change_to_Stop_on', 'Final_STOP_ON_ADDR', 'Final_STOP_ON_CLNTID', 'Final_STOP_ON_LAT', 'Final_STOP_ON_LONG', 'STOP_OFF_ADDR', 'STOP_OFF_CLNTID', 'STOP_OFF_LAT', 'STOP_OFF_LONG', 'change_to_STOP_OFF', 'reason_for_change_to_STOP_OFF', 'Final_STOP_OFF_ADDR', 'Final_STOP_OFF_CLNTID', 'Final_STOP_OFF_LAT', 'Final_STOP_OFF_LONG', 'PREV_TRAN_1_ON_BUS_LAT', 'PREV_TRAN_1_ON_BUS_LONG', 'change_to_PREV_TRAN_1_ON', 'reason_for_change_to_PREV_TRAN_1_ON', 'Final_PREV_TRAN_1_ON_BUS_LAT', 'Final_PREV_TRAN_1_ON_BUS_LONG', 'PREV_TRAN_1_OFF_BUS_LAT', 'PREV_TRAN_1_OFF_BUS_LONG', 'change_to_PREV_TRAN_1_OFF', 'reason_for_change_to_PREV_TRAN_1_OFF', 'Final_PREV_TRAN_1_OFF_BUS_LAT', 'Final_PREV_TRAN_1_OFF_BUS_LONG', 'PREV_TRAN_2_ON_BUS_LAT', 'PREV_TRAN_2_ON_BUS_LONG', 'change_to_PREV_TRAN_2_ON', 'reason_for_change_to_PREV_TRAN_2_ON', 'Final_PREV_TRAN_2_ON_BUS_LAT', 'Final_PREV_TRAN_2_ON_BUS_LONG', 'PREV_TRAN_2_OFF_BUS_LAT', 'PREV_TRAN_2_OFF_BUS_LONG', 'change_to_PREV_TRAN_2_OF', 'reason_for_change_to_PREV_TRAN_2_OF', 'Final_PREV_TRAN_2_OFF_BUS_LAT', 'Final_\\\\PREV_TRAN_2_OFF_BUS_LONG', 'NEXT_TRAN_1_ON_BUS_LAT', 'NEXT_TRAN_1_ON_BUS_LONG', 'change_to_transfer_to_first_boarding', 'reason_for_change_to_transfer_to_first_boarding', 'Final_NEXT_TRAN_1_ON_BUS_LAT', 'Final_NEXT_TRAN_1_ON_BUS_LONG', 'NEXT_TRAN_1_OFF_BUS_LAT', 'NEXT_TRAN_1_OFF_BUS_LONG', 'change_to_transfer_to_first_alighting', 'reason_for_change_to_transfer_to_first_alighting', 'Final_NEXT_TRAN_1_OFF_BUS_LAT', 'Final_NEXT_TRAN_1_OFF_BUS_LONG', 'NEXT_TRAN_2_ON_BUS_LAT', 'NEXT_TRAN_2_ON_BUS_LONG', 'change_to_transfer_to_second_boarding', 'reason_for_change_to_transfer_to_second_boarding', 'Final_NEXT_TRAN_2_ON_BUS_LAT', 'Final_NEXT_TRAN_2_ON_BUS_LONG', 'NEXT_TRAN_2_OFF_BUS_LAT', 'NEXT_TRAN_2_OFF_BUS_LONG', 'change_to_transfer_to_second_alighting', 'reason_for_change_to_transfer_to_second_alighting', 'Final_NEXT_TRAN_2_OFF_BUS_LAT', 'Final_NEXT_TRAN_2_OFF_BUS_LONG', 'NEXT_TRAN_3_ON_BUS_LAT', 'NEXT_TRAN_3_ON_BUS_LONG', 'change_to_transfer_to_third_boarding', 'reason_for_change_to_transfer_to_third_boarding', 'Final_NEXT_TRAN_3_ON_BUS_LAT', 'Final_NEXT_TRAN_3_ON_BUS_LONG', 'NEXT_TRAN_3_OFF_BUS_LAT', 'NEXT_TRAN_3_OFF_BUS_LONG', 'change_to_transfer_to_third_alighting', 'reason_for_change_to_transfer_to_third_alighting', 'Final_NEXT_TRAN_3_OFF_BUS_LAT', 'Final_NEXT_TRAN_3_OFF_BUS_LONG', 'TIME_LEFT_HOME_Code', 'TIME_LEFT_HOME', 'TIME_ARRIVE_HOME_Code', 'TIME_ARRIVE_HOME', 'TIME_ON_Code', 'TIME_ON', 'TIME_PERIOD', 'TRIP_IN_OPPO_DIR_Code', 'TRIP_IN_OPPO_DIR', 'OPPO_DIR_TRIP_TIME_Code', 'OPPO_DIR_TRIP_TIME', 'FARE_CATEGORY_Code', 'FARE_CATEGORY', 'FARE_CATEGORY_Other', 'KIND_OF_FARE_Code', 'KIND_OF_FARE', 'KIND_OF_FARE_Other', 'BY_CLIPPER_Code', 'BY_CLIPPER', 'BY_CLIPPER_Other', 'CASH_OR_PAPER_Code', 'CASH_OR_PAPER', 'MOBILE_APP_Code', 'MOBILE_APP', 'TRIDELTA_INFO_1', 'TRIDELTA_INFO_4', 'TRIDELTA_INFO_3', 'TRIDELTA_INFO_5', 'TRIDELTA_INFO_2', 'TRIDELTA_INFO_6', 'TRIDELTA_INFO_Other', 'INFO_PREF_1', 'INFO_PREF_4', 'INFO_PREF_3', 'INFO_PREF_5', 'INFO_PREF_2', 'INFO_PREF_6', 'INFO_PREF_Other', 'COUNT_VH_HH_Code', 'COUNT_VH_HH', 'HH_SIZE_Code', 'HH_SIZE', 'EMPLOYED_HH_MEMBERS_Code', 'EMPLOYED_HH_MEMBERS', 'change_to_count_employed_hh', 'reason_for_change_to_count_employed_hh', 'Final_EMPLOYED_HH_MEMBERS_Code', 'Final_EMPLOYED_HH_MEMBERS', 'STATUS_EMPLOYMENT_Code', 'STATUS_EMPLOYMENT', 'YOUR_WORK_ADDR', 'YOUR_WORK_CITY', 'YOUR_WORK_STATE', 'YOUR_WORK_ZIP', 'YOUR_WORK_LAT', 'YOUR_WORK_LONG', 'WORKED_BEFORE_TRIP_Code', 'WORKED_BEFORE_TRIP', 'WORK_AFTER_TRIP_Code', 'WORK_AFTER_TRIP', 'STUDENT_STATUS_Code', 'STUDENT_STATUS', 'SCHOOL_TYPE_Code', 'SCHOOL_TYPE', 'YOUR_SCHOOL_ADDR', 'YOUR_SCHOOL_CITY', 'YOUR_SCHOOL_STATE', 'YOUR_SCHOOL_ZIP', 'YOUR_SCHOOL_LAT', 'YOUR_SCHOOL_LONG', 'WENT_TO_SCHL_Code', 'WENT_TO_SCHL', 'GOING_TO_SCHL_Code', 'GOING_TO_SCHL', 'AGE', 'ETHNIC_BACKGROUND_1', 'ETHNIC_BACKGROUND_2', 'ETHNIC_BACKGROUND_3', 'ETHNIC_BACKGROUND_6', 'ETHNIC_BACKGROUND_5', 'ETHNIC_BACKGROUND_8', 'ETHNIC_BACKGROUND_Other', 'GENDER_Code', 'GENDER', 'INCOME_Code', 'INCOME', 'HOME_LANG_OTHER_Code', 'HOME_LANG_OTHER', 'HOME_OTHER_LANG_Code', 'HOME_OTHER_LANG', 'ENGLISH_ABILITY_Code', 'ENGLISH_ABILITY', 'REGISTER_TO_WIN_Y_N_Code', 'REGISTER_TO_WIN_Y_N', 'SURVEY_LANGUAGE_Code', 'SURVEY_LANGUAGE', 'UNLINKED_WGHT_FCTR', 'SYSTEM_TRANSFERS', 'LINKED_WGHT_FCTR', 'Final_ORIGIN_TRANSPORT_combine', 'final_Destin_place_type_combine']\n"
     ]
    }
   ],
   "source": [
    "df['Final_ORIGIN_TRANSPORT_combine'] = df['Final_ORIGIN_TRANSPORT']\n",
    "df.loc[df.Final_ORIGIN_TRANSPORT == 'Other', 'Final_ORIGIN_TRANSPORT_combine'] = df['Final_ORIGIN_TRANSPORT_other']\n",
    "\n",
    "df['final_Destin_place_type_combine'] = df['final_Destin_place_type']\n",
    "df.loc[df.final_Destin_place_type == 'Other', 'final_Destin_place_type_combine'] = df['final_Destin_place_type_other']\n",
    "\n",
    "print(df.shape[0])\n",
    "print(list(df))\n",
    "\n",
    "df.to_csv(r'M:\\Data\\OnBoard\\Data and Reports\\Tri Delta\\2019\\TriDelta_ODSurvey_Dataset_Weights_03272019_FinalDeliv_addCols_NO POUND OR SINGLE QUOTE.csv', index=False)"
   ]
  },
  {
   "cell_type": "code",
   "execution_count": 5,
   "metadata": {},
   "outputs": [
    {
     "name": "stdout",
     "output_type": "stream",
     "text": [
      "(53, 3)\n"
     ]
    },
    {
     "name": "stderr",
     "output_type": "stream",
     "text": [
      "C:\\Users\\ywang\\Anaconda3\\lib\\site-packages\\ipykernel_launcher.py:10: SettingWithCopyWarning: \n",
      "A value is trying to be set on a copy of a slice from a DataFrame\n",
      "\n",
      "See the caveats in the documentation: https://pandas.pydata.org/pandas-docs/stable/user_guide/indexing.html#returning-a-view-versus-a-copy\n",
      "  # Remove the CWD from sys.path while we load stuff.\n",
      "C:\\Users\\ywang\\Anaconda3\\lib\\site-packages\\ipykernel_launcher.py:11: SettingWithCopyWarning: \n",
      "A value is trying to be set on a copy of a slice from a DataFrame.\n",
      "Try using .loc[row_indexer,col_indexer] = value instead\n",
      "\n",
      "See the caveats in the documentation: https://pandas.pydata.org/pandas-docs/stable/user_guide/indexing.html#returning-a-view-versus-a-copy\n",
      "  # This is added back by InteractiveShellApp.init_path()\n",
      "C:\\Users\\ywang\\Anaconda3\\lib\\site-packages\\ipykernel_launcher.py:12: SettingWithCopyWarning: \n",
      "A value is trying to be set on a copy of a slice from a DataFrame.\n",
      "Try using .loc[row_indexer,col_indexer] = value instead\n",
      "\n",
      "See the caveats in the documentation: https://pandas.pydata.org/pandas-docs/stable/user_guide/indexing.html#returning-a-view-versus-a-copy\n",
      "  if sys.path[0] == '':\n"
     ]
    }
   ],
   "source": [
    "routes = pd.DataFrame(columns = ['survey_name'])\n",
    "for i in ['Final_TRIP_FIRST_ROUTE', 'Final_TRIP_SECOND_ROUTE',\n",
    "          'Final_TRIP_NEXT_ROUTE', 'Final_TRIP_AFTER_ROUTE', \n",
    "          'Final_TRIP_3RD_ROUTE']:\n",
    "    route_unique = df[[i]]\n",
    "    route_unique.columns = ['survey_name']\n",
    "    routes = pd.concat([routes, route_unique])\n",
    "\n",
    "routes_clean = routes.loc[routes.survey_name.notnull()]\n",
    "routes_clean.drop_duplicates(inplace=True)\n",
    "routes_clean['survey'] = 'TriDelta'\n",
    "routes_clean['survey_year'] = 2019\n",
    "\n",
    "print(routes_clean.shape)\n",
    "routes_clean[['survey','survey_year','survey_name']].to_csv(r'M:\\Data\\OnBoard\\Data and Reports\\Tri Delta\\2019\\all_routes_raw.csv', index=False)"
   ]
  },
  {
   "cell_type": "code",
   "execution_count": 6,
   "metadata": {},
   "outputs": [
    {
     "name": "stdout",
     "output_type": "stream",
     "text": [
      "Generic_Variable that should not exit:\n",
      "[]\n",
      "\n"
     ]
    }
   ],
   "source": [
    "# bring in standard dictionary to check field consistency\n",
    "\n",
    "# dictionary for TriDelta survey\n",
    "var = pd.read_csv(r'M:\\Data\\OnBoard\\Data and Reports\\Tri Delta\\2019\\variable_dictionary.csv',\n",
    "                  encoding = \"ISO-8859-1\", engine='python')\n",
    "\n",
    "# standard dictionary\n",
    "var_standard = pd.read_csv(r'C:\\Users\\ywang\\Documents\\GitHub\\onboard-surveys\\make-uniform\\production\\Dictionary for Standard Database.csv')\n",
    "var_standard.columns = [x+'_s' for x in list(var_standard)]\n",
    "\n",
    "# merge\n",
    "var_merge = var.merge(var_standard, left_on='Generic_Variable', right_on='Generic_Variable_s', how='outer')\n",
    "\n",
    "# check if 'Generic_Variable' in TriDelta dictionary matches the standard 'Generic_Variable'. chk1 should be empty\n",
    "chk1 = var_merge.loc[(var_merge.Generic_Variable.notnull()) & (var_merge.Generic_Variable_s.isnull())]\n",
    "print('Generic_Variable that should not exit:')\n",
    "print(chk1.Generic_Variable.unique())\n",
    "print()\n",
    "\n",
    "# check if columns names in survey data matches 'Survey_Variable' in TriDelta dictionary.\n",
    "# the following loops should not include variables that are needed for standardization\n",
    "\n",
    "for i in var.loc[var.Generic_Variable.notnull()]['Survey_Variable']:\n",
    "    if i not in list(df):\n",
    "        print(i)\n",
    "        \n",
    "for i in list(df):\n",
    "    if i not in list(var.Survey_Variable):\n",
    "        print(i)"
   ]
  },
  {
   "cell_type": "code",
   "execution_count": 7,
   "metadata": {},
   "outputs": [
    {
     "name": "stdout",
     "output_type": "stream",
     "text": [
      "final_origin_place_type\n",
      "Final_ORIGIN_TRANSPORT_combine\n",
      "final_Destin_place_type_combine\n",
      "final_DESTIN_TRANSPORT\n",
      "TIME_LEFT_HOME\n",
      "TIME_ARRIVE_HOME\n",
      "TIME_ON\n",
      "TIME_PERIOD\n",
      "FARE_CATEGORY\n",
      "KIND_OF_FARE\n",
      "COUNT_VH_HH\n",
      "HH_SIZE\n",
      "Final_EMPLOYED_HH_MEMBERS\n",
      "STATUS_EMPLOYMENT\n",
      "[nan]\n",
      "WORKED_BEFORE_TRIP\n",
      "[nan]\n",
      "WORK_AFTER_TRIP\n",
      "[nan]\n",
      "STUDENT_STATUS\n",
      "WENT_TO_SCHL\n",
      "[nan]\n",
      "GOING_TO_SCHL\n",
      "[nan]\n",
      "ETHNIC_BACKGROUND_1\n",
      "ETHNIC_BACKGROUND_2\n",
      "ETHNIC_BACKGROUND_3\n",
      "ETHNIC_BACKGROUND_6\n",
      "ETHNIC_BACKGROUND_5\n",
      "ETHNIC_BACKGROUND_8\n",
      "GENDER\n",
      "INCOME\n",
      "HOME_LANG_OTHER\n",
      "HOME_OTHER_LANG\n",
      "[nan]\n",
      "ENGLISH_ABILITY\n",
      "[nan]\n"
     ]
    }
   ],
   "source": [
    "# check if all the values in the survey data are included in TriDelta dictionary\n",
    "# look at non-categorical variables; \"diff\" should be empty or only contains nan\n",
    "\n",
    "var_clean = var[['operator', 'Survey_year', 'Survey_Variable', 'Survey_Response', \n",
    "                 'Generic_Variable', 'Generic_Response']].drop_duplicates()\n",
    "var_clean = var_clean.loc[var_clean.Generic_Variable.notnull()]\n",
    "\n",
    "for i in var_clean.loc[var_clean.Survey_Response != 'NONCATEGORICAL']['Survey_Variable'].unique():\n",
    "    print(i)\n",
    "    df_sub = df[['ID', i]]\n",
    "    var_sub = var_clean.loc[var_clean.Survey_Variable == i]\n",
    "    \n",
    "    compare = df_sub.merge(var_sub, left_on=i, right_on='Survey_Response', how='left')\n",
    "    diff = compare.loc[compare.Generic_Response.isnull()]\n",
    "    if diff.shape[0] > 0:\n",
    "        print(diff[i].unique())"
   ]
  },
  {
   "cell_type": "code",
   "execution_count": 8,
   "metadata": {},
   "outputs": [
    {
     "name": "stdout",
     "output_type": "stream",
     "text": [
      "['ID' 'date_string' 'route' 'home_lat' 'home_lon' 'orig_purp' 'orig_lat'\n",
      " 'orig_lon' 'number_transfers_orig_board'\n",
      " 'first_route_before_survey_board' 'second_route_before_survey_board'\n",
      " 'access_mode' 'dest_purp' 'dest_lat' 'dest_lon'\n",
      " 'number_transfers_alight_dest' 'first_route_after_survey_alight'\n",
      " 'second_route_after_survey_alight' 'third_route_after_survey_alight'\n",
      " 'egress_mode' 'survey_board_lat' 'survey_board_lon' 'survey_alight_lat'\n",
      " 'survey_alight_lon' 'first_board_lat' 'first_board_lon' 'last_alight_lat'\n",
      " 'last_alight_lon' 'depart_hour' 'return_hour' 'time_string' 'time_period'\n",
      " 'fare_category' 'fare_medium' 'vehicles' 'persons' 'workers'\n",
      " 'work_status' 'workplace_lat' 'workplace_lon'\n",
      " 'at_work_prior_to_orig_purp' 'at_work_after_dest_purp' 'student_status'\n",
      " 'school_lat' 'school_lon' 'at_school_prior_to_orig_purp'\n",
      " 'at_school_after_dest_purp' 'year_born_four_digit' 'hispanic'\n",
      " 'race_dmy_blk' 'race_dmy_asn' 'race_dmy_ind' 'race_dmy_hwi'\n",
      " 'race_dmy_wht' 'race_other_string' 'gender' 'household_income'\n",
      " 'language_at_home_binary' 'language_at_home_detail' 'eng_proficient'\n",
      " 'weight']\n"
     ]
    }
   ],
   "source": [
    "# finally, check all necessary fields are included, and export\n",
    "print(var_clean.Generic_Variable.unique())\n",
    "var_clean.to_csv(r'M:\\Data\\OnBoard\\Data and Reports\\Tri Delta\\2019\\vars_for_standard_dictionary.csv', index=False)"
   ]
  },
  {
   "cell_type": "code",
   "execution_count": null,
   "metadata": {},
   "outputs": [],
   "source": []
  }
 ],
 "metadata": {
  "kernelspec": {
   "display_name": "Python 3",
   "language": "python",
   "name": "python3"
  },
  "language_info": {
   "codemirror_mode": {
    "name": "ipython",
    "version": 3
   },
   "file_extension": ".py",
   "mimetype": "text/x-python",
   "name": "python",
   "nbconvert_exporter": "python",
   "pygments_lexer": "ipython3",
   "version": "3.7.6"
  }
 },
 "nbformat": 4,
 "nbformat_minor": 4
}
