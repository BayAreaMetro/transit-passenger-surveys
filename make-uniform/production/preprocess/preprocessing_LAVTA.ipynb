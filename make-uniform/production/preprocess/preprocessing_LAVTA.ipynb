{
 "cells": [
  {
   "cell_type": "code",
   "execution_count": 1,
   "metadata": {},
   "outputs": [],
   "source": [
    "import pandas as pd"
   ]
  },
  {
   "cell_type": "code",
   "execution_count": 2,
   "metadata": {},
   "outputs": [],
   "source": [
    "df_raw = pd.read_csv(r'M:\\Data\\OnBoard\\Data and Reports\\LAVTA\\2018\\OD_20181207_LAVTA_Submittal_FINAL.csv')"
   ]
  },
  {
   "cell_type": "code",
   "execution_count": 3,
   "metadata": {
    "scrolled": false
   },
   "outputs": [],
   "source": [
    "#print(list(df_raw))\n",
    "df = df_raw.copy()"
   ]
  },
  {
   "cell_type": "code",
   "execution_count": 4,
   "metadata": {
    "scrolled": true
   },
   "outputs": [
    {
     "name": "stdout",
     "output_type": "stream",
     "text": [
      "554\n",
      "['id', 'survey_type', 'day_type', 'completed_date', 'route_surveyed_code', 'route', 'change_to_route_surveyed', 'reason_for_change_to_route_surveyed', 'final_route_surveyed_code', 'final_route', 'resident_or_visitor_code', 'resident_or_visitor', 'home_zip', 'home_address', 'home_city', 'home_state', 'home_zip.1', 'home_lat', 'home_lon', 'hotel_address', 'hotel_city', 'hotel_state', 'hotel_zip', 'hotel_lat', 'hotel_lon', 'origin_place_type_code', 'origin_place_type', 'origin_place_type _other', 'change_to_origin_place_type', 'reason_for_change_to_origin_place_type', 'updated_origin_place_type_code', 'updated_origin_place_type', 'updated_origin_place_type_other', 'final_change_to_origin_place_type', 'final_reason_for_change_to_origin_place_type', 'final_origin_place_type_code', 'final_origin_place_type', 'origin_address', 'origin_city', 'origin_state', 'origin_zip', 'orig_lat', 'orig_lon', 'change_to_origin_address', 'reason_for_change_to_origin_address', 'final_origin_address', 'final_origin_city', 'final_origin_state', 'final_origin_zip', 'final_orig_lat', 'final_orig_lon', 'transfer_before_code', 'transfer_before', 'change_to_transfer_before', 'reason_for_change_to_transfer_before', 'final_transfer_before_code', 'final_transfer_before', 'prev_transfers_code', 'prev_transfers', 'change_to_prev_transfers', 'reason_for_change_to_prev_transfers', 'final_change_to_prev_transfers', 'final_reason_for_change_to_prev_transfers', 'final_prev_transfers_code', 'final_prev_transfers', 'transfer_from_first_code', 'first_route_before_survey_board', 'first_route_before_survey_board_other', 'change_to_transfer_from_first', 'reason_for_change_to_transfer_from_first', 'final_transfer_from_first_code', 'final_first_route_before_survey_board', 'final_first_route_before_survey_board_other', 'transfer_from_second_code', 'second_route_before_survey_board', 'second_route_before_survey_board_other', 'change_to_transfer_from_second_code', 'reason_for_change_to_transfer_from_second_code', 'final_transfer_from_second_code', 'final_second_route_before_survey_board', 'final_second_route_before_survey_board_other', 'transfer_from_third_code', 'third_route_before_survey_board', 'third_route_before_survey_board_other', 'change_to_transfer_from_third_code', 'reason_for_change_to_transfer_from_third_code', 'final_transfer_from_third_code', 'final_third_route_before_survey_board', 'final_third_route_before_survey_board_other', 'transfer_from_fourth_code', 'fourth_route_before_survey_board', 'fourth_route_before_survey_board_other', 'change_to_transfer_from_fourth_code', 'reason_for_change_to_transfer_from_fourth_code', 'final_transfer_from_fourth_code', 'final_fourth_route_before_survey_board', 'final_fourth_route_before_survey_board_other', 'access_mode_code', 'access_mode', 'access_mode_other', 'change_to_access_mode', 'reason_for_change_to_access_mode', 'updated_access_mode_code', 'updated_access_mode', 'updated_access_mode_other', 'final_change_to_access_mode', 'final_reason_for_change_to_access_mode', 'final_access_mode_code', 'final_access_mode', 'origin_dropoff_address', 'origin_dropoff_city', 'origin_dropoff_state', 'origin_dropoff_zip', 'orign_dropoff_lat', 'origin_dropoff_lon', 'origin_walk_dist_code', 'origin_walk_dist', 'destin_place_type_code', 'destin_place_type', 'destin_place_type _other', 'change_to_destin_place_type', 'reason_for_change_to_destin_place_type', 'updated_destin_place_type_code', 'updated_destin_place_type', 'updated_destin_place_type_other', 'final_change_to_destin_place_type', 'final_reason_for_change_to_destin_place_type', 'final_destin_place_type_code', 'final_destin_place_type', 'destin_address', 'destin_city', 'destin_state', 'destin_zip', 'dest_lat', 'dest_lon', 'change_to_destin_address', 'reason_for_change_to_destin_address', 'final_destin_address', 'final_destin_city', 'final_destin_state', 'final_destin_zip', 'final_dest_lat', 'final_dest_lon', 'transfer_after_code', 'transfer_after', 'change_to_transfer_after', 'reason_for_change_to_transfer_after', 'final_transfer_after_code', 'final_transfer_after', 'next_transfers_code', 'next_transfers', 'change_to_next_transfers', 'reason_for_change_to_next_transfers', 'final_change_to_next_transfers', 'final_reason_for_change_to_next_transfers', 'final_next_transfers_code', 'final_next_transfers', 'transfer_to_first_code', 'first_route_after_survey_alight', 'first_route_after_survey_alight_other', 'change_to_transfer_to_first', 'reason_for_change_to_transfer_to_first', 'final_transfer_to_first_code', 'final_first_route_after_survey_alight', 'final_first_route_after_survey_alight_other', 'transfer_to_second_code', 'second_route_after_survey_alight', 'second_route_after_survey_alight_other', 'change_to_transfer_to_second', 'reason_for_change_to_transfer_to_second', 'final_transfer_to_second_code', 'final_second_route_after_survey_alight', 'final_second_route_after_survey_alight_other', 'transfer_to_third_code', 'third_route_after_survey_alight', 'third_route_after_survey_alight_other', 'change_to_transfer_to_third', 'reason_for_change_to_transfer_to_third', 'final_transfer_to_third_code', 'final_third_route_after_survey_alight', 'transfer_to_fourth_code', 'fourth_route_after_survey_alight', 'fourth_route_after_survey_alight_other', 'change_to_transfer_to_fourth', 'reason_for_change_to_transfer_to_fourth', 'final_transfer_to_fourth_code', 'final_fourth_route_after_survey_alight', 'egress_mode_code', 'egress_mode', 'egress_mode_other', 'change_to_egress_mode', 'reason_for_change_to_egress_mode', 'updated_egress_mode_code', 'updated_egress_mode', 'updated_egress_mode_other', 'final_change_to_egress_mode', 'final_reason_for_change_to_egress_mode', 'final_egress_mode_code', 'final_egress_mode', 'destin_dropoff_address', 'destin_dropoff_city', 'destin_dropoff_state', 'destin_dropoff_zip', 'orign_dropoff_lat.1', 'destin_dropoff_lon', 'destin_walk_dist_code', 'destin_walk_dist', 'boarding_location', 'boarding_client_stop_id', 'survey_board_lat', 'survey_board_lon', 'change_to_boarding_location', 'reason_for_change_to_boarding_location', 'final_boarding_location', 'final_boarding_client_stop_id', 'final_survey_board_lat', 'final_survey_board_lon', 'alighting_location', 'alighting_client_stop_id', 'survey_alight_lat', 'survey_alight_lon', 'change_to_alighting_location', 'reason_for_change_to_alighting_location', 'final_alighting_location', 'final_alighting_client_stop_id', 'final_survey_alight_lat', 'final_survey_alight_lon', 'transfer_from_first_boarding_stopid', 'transfer_from_first_boarding_lat', 'transfer_from_first_boarding_lon', 'change_to_transfer_from_first_boarding', 'reason_for_change_to_transfer_from_first_boarding', 'final_transfer_from_first_boarding_stopid', 'final_transfer_from_first_boarding_lat', 'final_transfer_from_first_boarding_lon', 'transfer_from_first_alighting_stopid', 'transfer_from_first_alighting_lat', 'transfer_from_first_alighting_lon', 'change_to_transfer_from_first_alighting', 'reason_for_change_to_transfer_from_first_alighting', 'final_transfer_from_first_alighting_stopid', 'final_transfer_from_first_alighting_lat', 'final_transfer_from_first_alighting_lon', 'transfer_from_second_boarding_stopid', 'transfer_from_second_boarding_lat', 'transfer_from_second_boarding_lon', 'change_to_transfer_from_second_boarding', 'reason_for_change_to_transfer_from_second_boarding', 'final_transfer_from_second_boarding_stopid', 'final_transfer_from_second_boarding_lat', 'final_transfer_from_second_boarding_lon', 'transfer_from_second_alighting_stopid', 'transfer_from_second_alighting_lat', 'transfer_from_second_alighting_lon', 'change_to_transfer_from_second_alighting', 'reason_for_change_to_transfer_from_second_alighting', 'final_transfer_from_second_alighting_stopid', 'final_transfer_from_second_alighting_lat', 'final_transfer_from_second_alighting_lon', 'transfer_from_third_boarding_stopid', 'transfer_from_third_boarding_lat', 'transfer_from_third_boarding_lon', 'change_to_transfer_from_third_boarding', 'reason_for_change_to_transfer_from_third_boarding', 'final_transfer_from_third_boarding_stopid', 'final_transfer_from_third_boarding_lat', 'final_transfer_from_third_boarding_lon', 'transfer_from_third_alighting_stopid', 'transfer_from_third_alighting_lat', 'transfer_from_third_alighting_lon', 'change_to_transfer_from_third_alighting', 'reason_for_change_to_transfer_from_third_alighting', 'final_transfer_from_third_alighting_stopid', 'final_transfer_from_third_alighting_lat', 'final_transfer_from_third_alighting_lon', 'transfer_from_fourth_boarding_stopid', 'transfer_from_fourth_boarding_lat', 'transfer_from_fourth_boarding_lon', 'change_to_transfer_from_fourth_boarding', 'reason_for_change_to_transfer_from_fourth_boarding', 'final_transfer_from_fourth_boarding_stopid', 'final_transfer_from_fourth_boarding_lat', 'final_transfer_from_fourth_boarding_lon', 'transfer_from_fourth_alighting_stopid', 'transfer_from_fourth_alighting_lat', 'transfer_from_fourth_alighting_lon', 'change_to_transfer_from_fourth_alighting', 'reason_for_change_to_transfer_from_fourth_alighting', 'final_transfer_from_fourth_alighting_stopid', 'final_transfer_from_fourth_alighting_lat', 'final_transfer_from_fourth_alighting_lon', 'transfer_to_first_boarding_stopid', 'transfer_to_first_boarding_lat', 'transfer_to_first_boarding_lon', 'change_to_transfer_to_first_boarding', 'reason_for_change_to_transfer_to_first_boarding', 'final_transfer_to_first_boarding_stopid', 'final_transfer_to_first_boarding_lat', 'final_transfer_to_first_boarding_lon', 'transfer_to_first_alighting_stopid', 'transfer_to_first_alighting_lat', 'transfer_to_first_alighting_lon', 'change_to_transfer_to_first_alighting', 'reason_for_change_to_transfer_to_first_alighting', 'final_transfer_to_first_alighting_stopid', 'final_transfer_to_first_alighting_lat', 'final_transfer_to_first_alighting_lon', 'transfer_to_second_boarding_stopid', 'transfer_to_second_boarding_lat', 'transfer_to_second_boarding_lon', 'change_to_transfer_to_second_boarding', 'reason_for_change_to_transfer_to_second_boarding', 'final_transfer_to_second_boarding_stopid', 'final_transfer_to_second_boarding_lat', 'final_transfer_to_second_boarding_lon', 'transfer_to_second_alighting_stopid', 'transfer_to_second_alighting_lat', 'transfer_to_second_alighting_lon', 'change_to_transfer_to_second_alighting', 'reason_for_change_to_transfer_to_second_alighting', 'final_transfer_to_second_alighting_stopid', 'final_transfer_to_second_alighting_lat', 'final_transfer_to_second_alighting_lon', 'transfer_to_third_boarding_stopid', 'transfer_to_third_boarding_lat', 'transfer_to_third_boarding_lon', 'change_to_transfer_to_third_boarding', 'reason_for_change_to_transfer_to_third_boarding', 'final_transfer_to_third_boarding_stopid', 'final_transfer_to_third_boarding_lat', 'final_transfer_to_third_boarding_lon', 'transfer_to_third_alighting_stopid', 'transfer_to_third_alighting_lat', 'transfer_to_third_alighting_lon', 'change_to_transfer_to_third_alighting', 'reason_for_change_to_transfer_to_third_alighting', 'final_transfer_to_third_alighting_stopid', 'final_transfer_to_third_alighting_lat', 'final_transfer_to_third_alighting_lon', 'transfer_to_fourth_boarding_stopid', 'transfer_to_fourth_boarding_lat', 'transfer_to_fourth_boarding_lon', 'change_to_transfer_to_fourth_boarding', 'reason_for_change_to_transfer_to_fourth_boarding', 'final_transfer_to_fourth_boarding_stopid', 'final_transfer_to_fourth_boarding_lat', 'final_transfer_to_fourth_boarding_lon', 'transfer_to_fourth_alighting_stopid', 'transfer_to_fourth_alighting_lat', 'transfer_to_fourth_alighting_lon', 'change_to_transfer_to_fourth_alighting', 'reason_for_change_to_transfer_to_fourth_alighting', 'final_transfer_to_fourth_alighting_stopid', 'final_transfer_to_fourth_alighting_lat', 'final_transfer_to_fourth_alighting_lon', 'time_left_home_code', 'time_left_home', 'time_arrive_home_code', 'time_arrive_home', 'time_on_code', 'time_on', 'time_period', 'trip_in_oppo_dir_code', 'trip_in_oppo_dir', 'oppo_dir_trip_time_code', 'oppo_dir_trip_time', 'fare_category_code', 'fare_category', 'fare_category _other', 'how_paid_for_trip_code', 'fare_medium', 'fare_medium_other', 'other_fare_code', 'other_fare', 'other_fare_other', 'pm1_clipper_code', 'pm1_clipper', 'pm1_clipper_other', 'pm2_cash_or_paper_code', 'pm2_cash_or_paper', 'pm2_cash_or_paper _other', 'count_vh_hh_code', 'vehicles', 'used_veh_code', 'used_veh', 'count_member_hh_code', 'persons', 'count_employed_hh_code', 'count_employed_hh', 'change_to_count_employed_hh', 'reason_for_change_to_count_employed_hh', 'final_count_employed_hh_code', 'final_count_employed_hh', 'status_employment_code', 'work_status', 'your_work_address', 'your_work_city', 'your_work_state', 'your_work_zip', 'workplace_lat', 'workplace_lon', 'worked_before_trip_code', 'at_work_prior_to_orig_purp', 'work_after_trip_code', 'at_work_after_dest_purp', 'student_status_code', 'student_status', 'school_type_code', 'school_type', 'your_school_address', 'your_school_city', 'your_school_state', 'your_school_zip', 'school_lat', 'school_lon', 'went2schl_b4_trip_code', 'at_school_prior_to_orig_purp', 'go2schl_aftr_trip_code', 'at_school_after_dest_purp', 'year_born_four_digit', 'race_dmy_ltn', 'race_dmy_blk', 'race_dmy_asn', 'race_dmy_amcn_ind', 'race_dmy_hwi', 'race_dmy_whi', 'race_other_string', 'gender_code', 'gender', 'gender_other', 'income_code', 'household_income', 'home_lang_other_code', 'language_at_home_binary', 'home_other_lang_code', 'language_at_home_detail', 'home_other_lang _other', 'english_ability_code', 'eng_proficient', 'register_to_win_y_n_code', 'register_to_win_y_n', 'survey_language[code]', 'survey_language', 'first_boarding_lat', 'first_boarding_lon', 'last_alighting_lat', 'last_alighting_lon', 'final_boarding_lat', 'final_boarding_lon', 'final_alighting_lat', 'final_alighting_lon', 'Unlinked_Weight_Factor', 'total_transfers', 'Linked_Wght_Fctr_Mltp', 'Linked_Weight_Factor', 'final_first_route_before_survey_board_comb', 'final_second_route_before_survey_board_comb', 'final_third_route_before_survey_board_comb', 'final_first_route_after_survey_alight_comb', 'final_second_route_after_survey_alight_comb']\n"
     ]
    },
    {
     "name": "stderr",
     "output_type": "stream",
     "text": [
      "C:\\Users\\ywang\\Anaconda3\\lib\\site-packages\\pandas\\core\\ops\\array_ops.py:253: FutureWarning: elementwise comparison failed; returning scalar instead, but in the future will perform elementwise comparison\n",
      "  res_values = method(rvalues)\n"
     ]
    }
   ],
   "source": [
    "df['final_first_route_before_survey_board_comb'] = df['final_first_route_before_survey_board']\n",
    "df.loc[df.final_first_route_before_survey_board == 'Other',\n",
    "       'final_first_route_before_survey_board_comb'] = df['final_first_route_before_survey_board_other']\n",
    "\n",
    "df['final_second_route_before_survey_board_comb'] = df['final_second_route_before_survey_board']\n",
    "df.loc[df.final_second_route_before_survey_board == 'Other',\n",
    "       'final_second_route_before_survey_board_comb'] = df['final_second_route_before_survey_board_other']\n",
    "\n",
    "df['final_third_route_before_survey_board_comb'] = df['final_third_route_before_survey_board']\n",
    "df.loc[df.final_third_route_before_survey_board == 'Other',\n",
    "       'final_third_route_before_survey_board_comb'] = df['final_third_route_before_survey_board_other']\n",
    "\n",
    "df['final_first_route_after_survey_alight_comb'] = df['final_first_route_after_survey_alight']\n",
    "df.loc[df.final_first_route_after_survey_alight == 'Other',\n",
    "       'final_first_route_after_survey_alight_comb'] = df['final_first_route_after_survey_alight_other']\n",
    "\n",
    "df['final_second_route_after_survey_alight_comb'] = df['final_second_route_after_survey_alight']\n",
    "df.loc[df.final_second_route_after_survey_alight == 'Other',\n",
    "       'final_second_route_after_survey_alight_comb'] = df['final_second_route_after_survey_alight_other']\n",
    "\n",
    "print(df.shape[0])\n",
    "print(list(df))\n",
    "\n",
    "df.to_csv(r'M:\\Data\\OnBoard\\Data and Reports\\LAVTA\\2018\\OD_20181207_LAVTA_Submittal_FINAL_addCols_NO POUND OR SINGLE QUOTE.csv', index=False)"
   ]
  },
  {
   "cell_type": "code",
   "execution_count": 5,
   "metadata": {},
   "outputs": [
    {
     "name": "stdout",
     "output_type": "stream",
     "text": [
      "(33, 3)\n"
     ]
    },
    {
     "name": "stderr",
     "output_type": "stream",
     "text": [
      "C:\\Users\\ywang\\Anaconda3\\lib\\site-packages\\ipykernel_launcher.py:10: SettingWithCopyWarning: \n",
      "A value is trying to be set on a copy of a slice from a DataFrame\n",
      "\n",
      "See the caveats in the documentation: https://pandas.pydata.org/pandas-docs/stable/user_guide/indexing.html#returning-a-view-versus-a-copy\n",
      "  # Remove the CWD from sys.path while we load stuff.\n",
      "C:\\Users\\ywang\\Anaconda3\\lib\\site-packages\\ipykernel_launcher.py:11: SettingWithCopyWarning: \n",
      "A value is trying to be set on a copy of a slice from a DataFrame.\n",
      "Try using .loc[row_indexer,col_indexer] = value instead\n",
      "\n",
      "See the caveats in the documentation: https://pandas.pydata.org/pandas-docs/stable/user_guide/indexing.html#returning-a-view-versus-a-copy\n",
      "  # This is added back by InteractiveShellApp.init_path()\n",
      "C:\\Users\\ywang\\Anaconda3\\lib\\site-packages\\ipykernel_launcher.py:12: SettingWithCopyWarning: \n",
      "A value is trying to be set on a copy of a slice from a DataFrame.\n",
      "Try using .loc[row_indexer,col_indexer] = value instead\n",
      "\n",
      "See the caveats in the documentation: https://pandas.pydata.org/pandas-docs/stable/user_guide/indexing.html#returning-a-view-versus-a-copy\n",
      "  if sys.path[0] == '':\n"
     ]
    }
   ],
   "source": [
    "routes = pd.DataFrame(columns = ['survey_name'])\n",
    "for i in ['final_first_route_before_survey_board_comb', 'final_second_route_before_survey_board_comb',\n",
    "          'final_third_route_before_survey_board_comb', 'final_first_route_after_survey_alight_comb', \n",
    "          'final_second_route_after_survey_alight_comb', 'final_third_route_after_survey_alight']:\n",
    "    route_unique = df[[i]]\n",
    "    route_unique.columns = ['survey_name']\n",
    "    routes = pd.concat([routes, route_unique])\n",
    "\n",
    "routes_clean = routes.loc[routes.survey_name.notnull()]\n",
    "routes_clean.drop_duplicates(inplace=True)\n",
    "routes_clean['survey'] = 'LAVTA'\n",
    "routes_clean['survey_year'] = 2018\n",
    "\n",
    "print(routes_clean.shape)\n",
    "routes_clean[['survey','survey_year','survey_name']].to_csv(r'M:\\Data\\OnBoard\\Data and Reports\\LAVTA\\2018\\all_routes_raw.csv', index=False)"
   ]
  },
  {
   "cell_type": "code",
   "execution_count": 6,
   "metadata": {},
   "outputs": [
    {
     "name": "stdout",
     "output_type": "stream",
     "text": [
      "Generic_Variable that should not exit:\n",
      "[]\n",
      "\n",
      "home_zip.1\n",
      "orign_dropoff_lat.1\n"
     ]
    }
   ],
   "source": [
    "# bring in standard dictionary to check field consistency\n",
    "\n",
    "# dictionary for LAVTA survey\n",
    "var = pd.read_csv(r'M:\\Data\\OnBoard\\Data and Reports\\LAVTA\\2018\\variables_dictionary.csv',\n",
    "                  encoding = \"ISO-8859-1\", engine='python')\n",
    "\n",
    "# standard dictionary\n",
    "var_standard = pd.read_csv(r'C:\\Users\\ywang\\Documents\\GitHub\\onboard-surveys\\make-uniform\\production\\Dictionary for Standard Database.csv')\n",
    "var_standard.columns = [x+'_s' for x in list(var_standard)]\n",
    "\n",
    "# merge\n",
    "var_merge = var.merge(var_standard, left_on='Generic_Variable', right_on='Generic_Variable_s', how='outer')\n",
    "\n",
    "# check if 'Generic_Variable' in LAVTA dictionary matches the standard 'Generic_Variable'. chk1 should be empty\n",
    "chk1 = var_merge.loc[(var_merge.Generic_Variable.notnull()) & (var_merge.Generic_Variable_s.isnull())]\n",
    "print('Generic_Variable that should not exit:')\n",
    "print(chk1.Generic_Variable.unique())\n",
    "print()\n",
    "\n",
    "# check if columns names in survey data matches 'Survey_Variable' in LAVTA dictionary.\n",
    "# the following loops should not include variables that are needed for standardization\n",
    "\n",
    "for i in var.loc[var.Generic_Variable.notnull()]['Survey_Variable']:\n",
    "    if i not in list(df):\n",
    "        print(i)\n",
    "        \n",
    "for i in list(df):\n",
    "    if i not in list(var.Survey_Variable):\n",
    "        print(i)"
   ]
  },
  {
   "cell_type": "code",
   "execution_count": 7,
   "metadata": {},
   "outputs": [
    {
     "name": "stdout",
     "output_type": "stream",
     "text": [
      "final_origin_place_type\n",
      "final_access_mode\n",
      "final_destin_place_type\n",
      "final_egress_mode\n",
      "time_left_home\n",
      "time_arrive_home\n",
      "time_on\n",
      "time_period\n",
      "fare_category\n",
      "fare_medium\n",
      "vehicles\n",
      "persons\n",
      "final_count_employed_hh\n",
      "work_status\n",
      "at_work_prior_to_orig_purp\n",
      "[nan]\n",
      "at_work_after_dest_purp\n",
      "[nan]\n",
      "student_status\n",
      "at_school_prior_to_orig_purp\n",
      "[nan]\n",
      "at_school_after_dest_purp\n",
      "[nan]\n",
      "race_dmy_ltn\n",
      "race_dmy_blk\n",
      "race_dmy_asn\n",
      "race_dmy_amcn_ind\n",
      "race_dmy_hwi\n",
      "race_dmy_whi\n",
      "gender\n",
      "household_income\n",
      "language_at_home_binary\n",
      "language_at_home_detail\n",
      "[nan]\n",
      "eng_proficient\n",
      "[nan]\n"
     ]
    }
   ],
   "source": [
    "# check if all the values in the survey data are included in LAVTA dictionary\n",
    "# look at non-categorical variables; \"diff\" should be empty or only contains nan\n",
    "\n",
    "var_clean = var[['operator', 'Survey_year', 'Survey_Variable', 'Survey_Response', \n",
    "                 'Generic_Variable', 'Generic_Response']].drop_duplicates()\n",
    "var_clean = var_clean.loc[var_clean.Generic_Variable.notnull()]\n",
    "\n",
    "for i in var_clean.loc[var_clean.Survey_Response != 'NONCATEGORICAL']['Survey_Variable'].unique():\n",
    "    print(i)\n",
    "    df_sub = df[['id', i]]\n",
    "    var_sub = var_clean.loc[var_clean.Survey_Variable == i]\n",
    "    \n",
    "    compare = df_sub.merge(var_sub, left_on=i, right_on='Survey_Response', how='left')\n",
    "    diff = compare.loc[compare.Generic_Response.isnull()]\n",
    "    if diff.shape[0] > 0:\n",
    "        print(diff[i].unique())"
   ]
  },
  {
   "cell_type": "code",
   "execution_count": 8,
   "metadata": {},
   "outputs": [
    {
     "name": "stdout",
     "output_type": "stream",
     "text": [
      "['ID' 'date_string' 'route' 'home_lat' 'home_lon' 'orig_purp' 'orig_lat'\n",
      " 'orig_lon' 'number_transfers_orig_board'\n",
      " 'first_route_before_survey_board' 'second_route_before_survey_board'\n",
      " 'third_route_before_survey_board' 'access_mode' 'dest_purp' 'dest_lat'\n",
      " 'dest_lon' 'number_transfers_alight_dest'\n",
      " 'first_route_after_survey_alight' 'second_route_after_survey_alight'\n",
      " 'third_route_after_survey_alight' 'egress_mode' 'survey_board_lat'\n",
      " 'survey_board_lon' 'survey_alight_lat' 'survey_alight_lon' 'depart_hour'\n",
      " 'return_hour' 'time_string' 'time_period' 'fare_category' 'fare_medium'\n",
      " 'vehicles' 'persons' 'workers' 'work_status' 'workplace_lat'\n",
      " 'workplace_lon' 'at_work_prior_to_orig_purp' 'at_work_after_dest_purp'\n",
      " 'student_status' 'school_lat' 'school_lon' 'at_school_prior_to_orig_purp'\n",
      " 'at_school_after_dest_purp' 'year_born_four_digit' 'hispanic'\n",
      " 'race_dmy_blk' 'race_dmy_asn' 'race_dmy_ind' 'race_dmy_hwi'\n",
      " 'race_dmy_wht' 'race_other_string' 'gender' 'household_income'\n",
      " 'language_at_home_binary' 'language_at_home_detail' 'eng_proficient'\n",
      " 'interview_language' 'first_board_lat' 'first_board_lon'\n",
      " 'last_alight_lat' 'last_alight_lon' 'weight']\n"
     ]
    }
   ],
   "source": [
    "# finally, check all necessary fields are included, and export\n",
    "print(var_clean.Generic_Variable.unique())\n",
    "var_clean.to_csv(r'M:\\Data\\OnBoard\\Data and Reports\\LAVTA\\2018\\vars_for_standard_dictionary.csv', index=False)"
   ]
  }
 ],
 "metadata": {
  "kernelspec": {
   "display_name": "Python 3",
   "language": "python",
   "name": "python3"
  },
  "language_info": {
   "codemirror_mode": {
    "name": "ipython",
    "version": 3
   },
   "file_extension": ".py",
   "mimetype": "text/x-python",
   "name": "python",
   "nbconvert_exporter": "python",
   "pygments_lexer": "ipython3",
   "version": "3.7.6"
  }
 },
 "nbformat": 4,
 "nbformat_minor": 4
}
