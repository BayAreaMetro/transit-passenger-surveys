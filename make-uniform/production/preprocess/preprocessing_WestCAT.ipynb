{
 "cells": [
  {
   "cell_type": "code",
   "execution_count": 1,
   "metadata": {},
   "outputs": [],
   "source": [
    "import pandas as pd"
   ]
  },
  {
   "cell_type": "code",
   "execution_count": 2,
   "metadata": {},
   "outputs": [],
   "source": [
    "df_raw = pd.read_csv(r'M:\\Data\\OnBoard\\Data and Reports\\WestCAT\\As CSV\\WestCAT - Raw Survey Data.csv')"
   ]
  },
  {
   "cell_type": "code",
   "execution_count": 3,
   "metadata": {},
   "outputs": [
    {
     "name": "stdout",
     "output_type": "stream",
     "text": [
      "['ID', 'Survey_route', 'Survey_route_other', 'Daypart', 'Direction', 'Number_of_riders', 'Origin', 'Origin_other', 'Origin_lat', 'Origin_lon', 'Origin_address', 'Destination', 'Destination_other', 'Destination_lat', 'Destination_lon', 'Destination_address', 'Explanation_not_round_trip', 'Access_mode', 'Access_mode_other', 'Access_minutes', 'Access_miles', 'Transfer_from_amount', 'Transfer_from_1st', 'Agency_transfer_from_1st', 'Agency_transfer_from_1st_other', 'Route_transfer_from_1st', 'Route_transfer_from_1st_other', 'Transfer_from_1st_lat', 'Transfer_from_1st_lon', 'Transfer_from_1st_address', 'Transfer_from_2nd', 'Agency_transfer_from_2nd', 'Agency_transfer_from_2nd_other', 'Route_transfer_from_2nd', 'Route_transfer_from_2nd_other', 'Transfer_from_2nd_lat', 'Transfer_from_2nd_lon', 'Transfer_from_2nd_address', 'Transfer_from_3rd', 'Agency_transfer_from_3rd', 'Agency_transfer_from_3rd_other', 'Route_transfer_from_3rd', 'Route_transfer_from_3rd_other', 'Transfer_from_3rd_lat', 'Transfer_from_3rd_lon', 'Transfer_from_3rd_address', 'Survey_route_boarding_lat', 'Survey_route_boarding_lon', 'Survey_route_boarding_address', 'Survey_route_alighting_lat', 'Survey_route_alighting_lon', 'Survey_route_alighting_address', 'Transfer_to_amount', 'Transfer_to_1st', 'Agency_transfer_to_1st', 'Agency_transfer_to_1st_other', 'Route_transfer_to_1st', 'Route_transfer_to_1st_other', 'Transfer_to_1st_lat', 'Transfer_to_1st_lon', 'Transfer_to_1st_address', 'Transfer_to_2nd', 'Agency_transfer_to_2nd', 'Agency_transfer_to_2nd_other', 'Route_transfer_to_2nd', 'Route_transfer_to_2nd_other', 'Transfer_to_2nd_lat', 'Transfer_to_2nd_lon', 'Transfer_to_2nd_address', 'Transfer_to_3rd', 'Agency_transfer_to_3rd', 'Agency_transfer_to_3rd_other', 'Route_transfer_to_3rd', 'Route_transfer_to_3rd_other', 'Transfer_to_3rd_lat', 'Transfer_to_3rd_lon', 'Transfer_to_3rd_address', 'Egress_mode', 'Egress_mode_other', 'Egress_minutes', 'Egress_miles', 'Employment_status', 'Work_before_trip', 'Work_after_trip', 'Work_lat', 'Work_lon', 'Work_address', 'Student_status', 'Been_2school_today', 'Will_go2school_today', 'School_type', 'School_lat', 'School_lon', 'School_address', 'Home_lat', 'Home_lon', 'Home_address', 'Time_left_home', 'Time_return_home', 'Same_trip_opposite_direction', 'Time_same_trip_opposite_direction', 'Pay_mode', 'Pay_mode_other', 'Fare_type', 'Fare_type_other', 'Weekday_frequency_or_distance', 'Weekday_later_service_or_frequency', 'Weekend_service_alternatives', 'License_status', 'Persons_HH', 'Persons_HH_Other', 'Workers_HH', 'Workers_HH_other', 'Vehicles_HH', 'Vehicles_HH_other', 'Year_born', 'Hispanic', 'Race', 'Race_other', 'Lang_other_than_english', 'Other_lang_spoken_at_home', 'Other_lang_spoken_at_home_other', 'English_fluency', 'HH_income', 'Gender', 'Day', 'Survey_language', 'Survey_type', 'Survey_date', 'Survey_time', 'First_board_lat', 'First_board_lon', 'Last_alight_lat', 'Last_alight_lon', 'Home_based_trip_purp_recode', 'Home_based_trip_purp_recode_selected', 'Home_based_trip_purp_recode_top_four', 'Age_group_recode', 'Income_HH_recode', 'Race_dmy_recode', 'Lang_at_home_detail_recode_top_chosen', 'Number_transfer_legs', 'Transit_type', 'Access_walk_time', 'Access_distance', 'Egress_walk_time', 'Egress_distance', 'Weight', 'Pay_mode_recode']\n"
     ]
    }
   ],
   "source": [
    "print(list(df_raw))"
   ]
  },
  {
   "cell_type": "code",
   "execution_count": 4,
   "metadata": {},
   "outputs": [],
   "source": [
    "df = df_raw.copy()\n",
    "df.rename(columns={'Persons_HH_Other': 'Persons_HH_other'}, inplace=True)"
   ]
  },
  {
   "cell_type": "code",
   "execution_count": 5,
   "metadata": {},
   "outputs": [],
   "source": [
    "agency_dict = {1: 'TRI DELTA',\n",
    "               2: 'AC TRANSIT',\n",
    "               3: 'EMERY GO ROUND',\n",
    "               4: 'BART',\n",
    "               5: 'COUNTY CNCTN',\n",
    "               6: 'FAST',\n",
    "               7: 'GOLDEN GATE',\n",
    "               8: 'MUNI',\n",
    "               9: 'SAMTRANS',\n",
    "               10: 'SOLTRANS',\n",
    "               11: 'NAPA',\n",
    "               12: 'WESTCAT',\n",
    "               13: 'OTHER'}\n",
    "\n",
    "for i in ['Agency_transfer_from_1st', 'Agency_transfer_from_2nd', 'Agency_transfer_from_3rd',\n",
    "          'Agency_transfer_to_1st', 'Agency_transfer_to_2nd', 'Agency_transfer_to_3rd']:\n",
    "    df[i] = df[i].fillna(0)\n",
    "    df[i].replace(to_replace = ' ', value = 0, inplace=True)\n",
    "    df[i] = df[i].apply(lambda x: int(x))\n",
    "    df[i+'_temp'] = df[i].map(agency_dict)\n",
    "\n",
    "df['first_route_before_survey_board'] = df['Agency_transfer_from_1st_temp'] + '___' + df['Route_transfer_from_1st'].astype(str)\n",
    "df['second_route_before_survey_board'] = df['Agency_transfer_from_2nd_temp'] + '___' + df['Route_transfer_from_2nd'].astype(str)\n",
    "df['third_route_before_survey_board'] = df['Agency_transfer_from_3rd_temp'] + '___' + df['Route_transfer_from_3rd'].astype(str)\n",
    "df['first_route_after_survey_alight'] = df['Agency_transfer_to_1st_temp'] + '___' + df['Route_transfer_to_1st'].astype(str)\n",
    "df['second_route_after_survey_alight'] = df['Agency_transfer_to_2nd_temp'] + '___' + df['Route_transfer_to_2nd'].astype(str)\n",
    "df['third_route_after_survey_alight'] = df['Agency_transfer_to_3rd_temp'] + '___' + df['Route_transfer_to_3rd'].astype(str)\n",
    "\n",
    "\n",
    "df.loc[(df.Agency_transfer_from_1st_temp == 'OTHER') & (df.Agency_transfer_from_1st_other.isnull()),\n",
    "       'Agency_transfer_from_1st_other'] = 'NA'\n",
    "df.loc[(df.Agency_transfer_from_2nd_temp == 'OTHER') & (df.Agency_transfer_from_2nd_other.isnull()),\n",
    "       'Agency_transfer_from_2nd_other'] = 'NA'\n",
    "df.loc[(df.Agency_transfer_from_3rd_temp == 'OTHER') & (df.Agency_transfer_from_3rd_other.isnull()),\n",
    "       'Agency_transfer_from_3rd_other'] = 'NA'\n",
    "df.loc[(df.Agency_transfer_to_1st_temp == 'OTHER') & (df.Agency_transfer_to_1st_other.isnull()),\n",
    "       'Agency_transfer_to_1st_other'] = 'NA'\n",
    "df.loc[(df.Agency_transfer_to_2nd_temp == 'OTHER') & (df.Agency_transfer_to_2nd_other.isnull()),\n",
    "       'Agency_transfer_to_2nd_other'] = 'NA'\n",
    "df.loc[(df.Agency_transfer_to_3rd_temp == 'OTHER') & (df.Agency_transfer_to_3rd_other.isnull()),\n",
    "       'Agency_transfer_to_3rd_other'] = 'NA'\n",
    "\n",
    "\n",
    "df.loc[df.Agency_transfer_from_1st_temp == 'OTHER','first_route_before_survey_board'] = \\\n",
    "    df['Agency_transfer_from_1st_other'] + '___' + df['Route_transfer_from_1st_other'].astype(str)\n",
    "df.loc[df.Agency_transfer_from_2nd_temp == 'OTHER','second_route_before_survey_board'] = \\\n",
    "    df['Agency_transfer_from_2nd_other'] + '___' + df['Route_transfer_from_2nd_other'].astype(str)\n",
    "df.loc[df.Agency_transfer_from_3rd_temp == 'OTHER','third_route_before_survey_board'] = \\\n",
    "    df['Agency_transfer_from_3rd_other'] + '___' + df['Route_transfer_from_3rd_other'].astype(str)\n",
    "\n",
    "df.loc[df.Agency_transfer_to_1st_temp == 'OTHER','first_route_after_survey_alight'] = \\\n",
    "    df['Agency_transfer_to_1st_other'] + '___' + df['Route_transfer_to_1st_other'].astype(str)\n",
    "df.loc[df.Agency_transfer_to_2nd_temp == 'OTHER','second_route_after_survey_alight'] = \\\n",
    "    df['Agency_transfer_to_2nd_other'] + '___' + df['Route_transfer_to_2nd_other'].astype(str)\n",
    "df.loc[df.Agency_transfer_to_3rd_temp == 'OTHER','third_route_after_survey_alight'] = \\\n",
    "    df['Agency_transfer_to_3rd_other'] + '___' + df['Route_transfer_to_3rd_other'].astype(str)\n",
    "\n",
    "\n",
    "df.loc[df.Route_transfer_from_1st == 'Other','first_route_before_survey_board'] = \\\n",
    "    df['Agency_transfer_from_1st_temp'] + '___' + df['Route_transfer_from_1st_other'].astype(str)\n",
    "df.loc[df.Route_transfer_from_2nd == 'Other','second_route_before_survey_board'] = \\\n",
    "    df['Agency_transfer_from_2nd_temp'] + '___' + df['Route_transfer_from_2nd_other'].astype(str)\n",
    "df.loc[df.Route_transfer_from_3rd == 'Other','third_route_before_survey_board'] = \\\n",
    "    df['Agency_transfer_from_3rd_temp'] + '___' + df['Route_transfer_from_3rd_other'].astype(str)\n",
    "\n",
    "df.loc[df.Route_transfer_to_1st == 'Other','first_route_after_survey_alight'] = \\\n",
    "    df['Agency_transfer_to_1st_temp'] + '___' + df['Route_transfer_to_1st_other'].astype(str)\n",
    "df.loc[df.Route_transfer_to_2nd == 'Other','second_route_after_survey_alight'] = \\\n",
    "    df['Agency_transfer_to_2nd_temp'] + '___' + df['Route_transfer_to_2nd_other'].astype(str)\n",
    "df.loc[df.Route_transfer_to_3rd == 'Other','third_route_after_survey_alight'] = \\\n",
    "    df['Agency_transfer_to_3rd_temp'] + '___' + df['Route_transfer_to_3rd_other'].astype(str)\n",
    "\n",
    "df.drop(columns = ['Agency_transfer_from_1st_temp', 'Agency_transfer_from_2nd_temp',\n",
    "                  'Agency_transfer_from_3rd_temp', 'Agency_transfer_to_1st_temp',\n",
    "                  'Agency_transfer_to_2nd_temp', 'Agency_transfer_to_3rd_temp'], inplace=True)\n"
   ]
  },
  {
   "cell_type": "code",
   "execution_count": 6,
   "metadata": {},
   "outputs": [],
   "source": [
    "# consolidate 'access_mode'/'access_mode_other' and 'egress_mode'/'egress_mode_other'\n",
    "\n",
    "df['Access_mode_final'] = df['Access_mode']\n",
    "df.loc[df.Access_mode == 9, 'Access_mode_final'] = df['Access_mode_other']\n",
    "\n",
    "df['Egress_mode_final'] = df['Egress_mode']\n",
    "df.loc[df.Egress_mode == 9, 'Egress_mode_final'] = df['Egress_mode_other']"
   ]
  },
  {
   "cell_type": "code",
   "execution_count": 7,
   "metadata": {},
   "outputs": [
    {
     "name": "stdout",
     "output_type": "stream",
     "text": [
      "[ 2 14 15 11 12 10  3  4  8  7  5  9  1 13  6]\n",
      "['11' 'JPX' 'LYNX' 'JR' 'JL' 'C3' '12' '15' '19' '18' '16' '30Z' '10' 'JX'\n",
      " '17']\n"
     ]
    }
   ],
   "source": [
    "# map 'survey_route' to actual values (so that it is a noncategorical variable)\n",
    "\n",
    "route_dict = {'1': '10',\n",
    "              '2': '11',\n",
    "              '3': '12',\n",
    "              '4': '15',\n",
    "              '5': '16',\n",
    "              '6': '17',\n",
    "              '7': '18',\n",
    "              '8': '19',\n",
    "              '9': '30Z',\n",
    "              '10': 'C3',\n",
    "              '11': 'JR',\n",
    "              '12': 'JL',\n",
    "              '13': 'JX',\n",
    "              '14': 'JPX',\n",
    "              '15': 'LYNX'}\n",
    "\n",
    "print(df.Survey_route.unique())\n",
    "df['Survey_route'] = df['Survey_route'].apply(lambda x: str(x))\n",
    "df['Survey_route_recode'] = df['Survey_route'].map(route_dict)\n",
    "print(df.Survey_route_recode.unique())"
   ]
  },
  {
   "cell_type": "code",
   "execution_count": 8,
   "metadata": {},
   "outputs": [],
   "source": [
    "df.to_csv(r'M:\\Data\\OnBoard\\Data and Reports\\WestCAT\\As CSV\\WestCAT_addCols_recodeRoute_NO POUND OR SINGLE QUOTE.csv', index=False)"
   ]
  },
  {
   "cell_type": "code",
   "execution_count": 9,
   "metadata": {},
   "outputs": [
    {
     "name": "stdout",
     "output_type": "stream",
     "text": [
      "Generic_Variable that should not exit:\n",
      "['orig_purp_other' 'dest_purp_other' 'access_mode_other' 'race_dmy']\n",
      "\n",
      "variables not in standard dictionary\n",
      "variables in df but not in the current Marin Transit dictionary\n",
      "Access_mode\n",
      "Access_mode_other\n",
      "Egress_mode\n",
      "Egress_mode_other\n"
     ]
    }
   ],
   "source": [
    "# bring in standard dictionary to check field consistency\n",
    "\n",
    "# dictionary for WestCAT survey\n",
    "var = pd.read_csv(r'M:\\Data\\OnBoard\\Data and Reports\\WestCAT\\As CSV\\variables_dictionary.csv',\n",
    "                  encoding = \"ISO-8859-1\", engine='python')\n",
    "\n",
    "# standard dictionary\n",
    "var_standard = pd.read_csv(r'C:\\Users\\ywang\\Documents\\GitHub\\onboard-surveys\\make-uniform\\production\\Dictionary for Standard Database.csv')\n",
    "var_standard.columns = [x+'_s' for x in list(var_standard)]\n",
    "\n",
    "# merge\n",
    "var_merge = var.merge(var_standard, left_on='Generic_Variable', right_on='Generic_Variable_s', how='outer')\n",
    "\n",
    "# check if 'Generic_Variable' in WestCAT dictionary matches the standard 'Generic_Variable'. chk1 should be empty\n",
    "chk1 = var_merge.loc[(var_merge.Generic_Variable.notnull()) & (var_merge.Generic_Variable_s.isnull())]\n",
    "print('Generic_Variable that should not exit:')\n",
    "print(chk1.Generic_Variable.unique())\n",
    "print()\n",
    "\n",
    "# check if columns names in survey data matches 'Survey_Variable' in WestCAT dictionary.\n",
    "# the following loops should not include variables that are needed for standardization\n",
    "\n",
    "print('variables not in standard dictionary')\n",
    "for i in var.loc[var.Generic_Variable.notnull()]['Survey_Variable']:\n",
    "    if i not in list(df):\n",
    "        print(i)\n",
    "\n",
    "print('variables in df but not in the current Marin Transit dictionary')        \n",
    "for i in list(df):\n",
    "    if i not in list(var.Survey_Variable):\n",
    "        print(i)"
   ]
  },
  {
   "cell_type": "code",
   "execution_count": 10,
   "metadata": {},
   "outputs": [
    {
     "name": "stdout",
     "output_type": "stream",
     "text": [
      "Direction\n",
      "Origin\n",
      "Destination\n",
      "Access_mode_final\n",
      "Transfer_from_amount\n",
      "Transfer_to_amount\n",
      "Egress_mode_final\n",
      "Employment_status\n",
      "[nan]\n",
      "Work_before_trip\n",
      "[nan]\n",
      "Work_after_trip\n",
      "[nan]\n",
      "Student_status\n",
      "[nan]\n",
      "Been_2school_today\n",
      "[nan]\n",
      "Will_go2school_today\n",
      "[nan]\n",
      "Time_left_home\n",
      "Time_return_home\n",
      "Pay_mode\n",
      "[nan]\n",
      "Fare_type\n",
      "[nan]\n",
      "Persons_HH\n",
      "Workers_HH\n",
      "Vehicles_HH\n",
      "Hispanic\n",
      "[nan]\n",
      "Race\n",
      "Lang_other_than_english\n",
      "Other_lang_spoken_at_home\n",
      "[nan]\n",
      "English_fluency\n",
      "[nan]\n",
      "HH_income\n",
      "[nan]\n",
      "Gender\n",
      "Survey_language\n"
     ]
    },
    {
     "name": "stderr",
     "output_type": "stream",
     "text": [
      "C:\\Users\\ywang\\Anaconda3\\lib\\site-packages\\pandas\\core\\generic.py:5491: SettingWithCopyWarning: \n",
      "A value is trying to be set on a copy of a slice from a DataFrame.\n",
      "Try using .loc[row_indexer,col_indexer] = value instead\n",
      "\n",
      "See the caveats in the documentation: https://pandas.pydata.org/pandas-docs/stable/user_guide/indexing.html#returning-a-view-versus-a-copy\n",
      "  self[name] = value\n",
      "C:\\Users\\ywang\\Anaconda3\\lib\\site-packages\\ipykernel_launcher.py:22: SettingWithCopyWarning: \n",
      "A value is trying to be set on a copy of a slice from a DataFrame.\n",
      "Try using .loc[row_indexer,col_indexer] = value instead\n",
      "\n",
      "See the caveats in the documentation: https://pandas.pydata.org/pandas-docs/stable/user_guide/indexing.html#returning-a-view-versus-a-copy\n"
     ]
    }
   ],
   "source": [
    "# check if all the values in the survey data are included in WestCAT dictionary\n",
    "# look at non-categorical variables; \"diff\" should be empty or only contains nan\n",
    "\n",
    "var_clean = var[['operator', 'Survey_year', 'Survey_Variable', 'Survey_Response', \n",
    "                 'Generic_Variable', 'Generic_Response']].drop_duplicates()\n",
    "var_clean = var_clean.loc[var_clean.Generic_Variable.notnull()]\n",
    "\n",
    "for i in var_clean.loc[var_clean.Survey_Response != 'NONCATEGORICAL']['Survey_Variable'].unique():\n",
    "    print(i)\n",
    "    df_sub = df[['ID', i]]\n",
    "    var_sub = var_clean.loc[var_clean.Survey_Variable == i]\n",
    "    \n",
    "    if i in ['Survey_route', 'Direction', 'Origin', 'Destination', 'Access_mode', 'Transfer_from_amount', \n",
    "             'Transfer_to_amount', 'Egress_mode', 'Employment_status', 'Work_before_trip', 'Work_after_trip',\n",
    "             'Student_status', 'Been_2school_today', 'Will_go2school_today', 'Time_left_home', 'Time_return_home',\n",
    "             'Pay_mode', 'Fare_type', 'Persons_HH', 'Workers_HH', 'Vehicles_HH', 'Hispanic', 'Race',\n",
    "             'Lang_other_than_english', 'Other_lang_spoken_at_home', 'English_fluency', 'HH_income', 'Gender',\n",
    "             'Survey_language']:\n",
    "        var_sub.Survey_Response = var_sub.Survey_Response.apply(lambda x: int(x))\n",
    "\n",
    "    if i in ['Access_mode_final', 'Egress_mode_final']:\n",
    "        df_sub[i] = df_sub[i].apply(lambda x: str(x))   \n",
    "        \n",
    "    compare = df_sub.merge(var_sub, left_on=i, right_on='Survey_Response', how='left')\n",
    "    diff = compare.loc[compare.Generic_Response.isnull()]\n",
    "    if diff.shape[0] > 0:\n",
    "        print(diff[i].unique())"
   ]
  },
  {
   "cell_type": "code",
   "execution_count": 11,
   "metadata": {},
   "outputs": [
    {
     "name": "stdout",
     "output_type": "stream",
     "text": [
      "['ID' 'route' 'direction' 'orig_purp' 'orig_purp_other' 'orig_lat'\n",
      " 'orig_lon' 'dest_purp' 'dest_purp_other' 'dest_lat' 'dest_lon'\n",
      " 'access_mode' 'access_mode_other' 'number_transfers_orig_board'\n",
      " 'first_route_before_survey_board' 'second_route_before_survey_board'\n",
      " 'third_route_before_survey_board' 'first_route_after_survey_alight'\n",
      " 'second_route_after_survey_alight' 'third_route_after_survey_alight'\n",
      " 'survey_board_lat' 'survey_board_lon' 'survey_alight_lat'\n",
      " 'survey_alight_lon' 'number_transfers_alight_dest' 'egress_mode'\n",
      " 'work_status' 'at_work_prior_to_orig_purp' 'at_work_after_dest_purp'\n",
      " 'workplace_lat' 'workplace_lon' 'student_status'\n",
      " 'at_school_prior_to_orig_purp' 'at_school_after_dest_purp' 'school_lat'\n",
      " 'school_lon' 'home_lat' 'home_lon' 'depart_hour' 'return_hour'\n",
      " 'fare_medium' 'fare_medium_other' 'fare_category' 'fare_category_other'\n",
      " 'persons' 'persons_other' 'workers' 'workers_other' 'vehicles'\n",
      " 'vehicles_other' 'year_born_four_digit' 'hispanic' 'race_dmy'\n",
      " 'race_other_string' 'language_at_home_binary' 'language_at_home_detail'\n",
      " 'language_at_home_detail_other' 'eng_proficient' 'household_income'\n",
      " 'gender' 'interview_language' 'date_string' 'time_string'\n",
      " 'first_board_lat' 'first_board_lon' 'last_alight_lat' 'last_alight_lon'\n",
      " 'weight']\n"
     ]
    }
   ],
   "source": [
    "# finally, check all necessary fields are included, and export\n",
    "print(var_clean.Generic_Variable.unique())\n",
    "var_clean.to_csv(r'M:\\Data\\OnBoard\\Data and Reports\\WestCAT\\As CSV\\vars_for_standard_dictionary.csv', index=False)"
   ]
  },
  {
   "cell_type": "code",
   "execution_count": 12,
   "metadata": {},
   "outputs": [
    {
     "name": "stdout",
     "output_type": "stream",
     "text": [
      "(102, 3)\n"
     ]
    },
    {
     "name": "stderr",
     "output_type": "stream",
     "text": [
      "C:\\Users\\ywang\\Anaconda3\\lib\\site-packages\\ipykernel_launcher.py:11: SettingWithCopyWarning: \n",
      "A value is trying to be set on a copy of a slice from a DataFrame\n",
      "\n",
      "See the caveats in the documentation: https://pandas.pydata.org/pandas-docs/stable/user_guide/indexing.html#returning-a-view-versus-a-copy\n",
      "  # This is added back by InteractiveShellApp.init_path()\n",
      "C:\\Users\\ywang\\Anaconda3\\lib\\site-packages\\ipykernel_launcher.py:12: SettingWithCopyWarning: \n",
      "A value is trying to be set on a copy of a slice from a DataFrame.\n",
      "Try using .loc[row_indexer,col_indexer] = value instead\n",
      "\n",
      "See the caveats in the documentation: https://pandas.pydata.org/pandas-docs/stable/user_guide/indexing.html#returning-a-view-versus-a-copy\n",
      "  if sys.path[0] == '':\n",
      "C:\\Users\\ywang\\Anaconda3\\lib\\site-packages\\ipykernel_launcher.py:13: SettingWithCopyWarning: \n",
      "A value is trying to be set on a copy of a slice from a DataFrame.\n",
      "Try using .loc[row_indexer,col_indexer] = value instead\n",
      "\n",
      "See the caveats in the documentation: https://pandas.pydata.org/pandas-docs/stable/user_guide/indexing.html#returning-a-view-versus-a-copy\n",
      "  del sys.path[0]\n"
     ]
    }
   ],
   "source": [
    "# create raw transfer routes file\n",
    "routes = pd.DataFrame(columns = ['survey_name'])\n",
    "for i in ['first_route_before_survey_board', 'second_route_before_survey_board',\n",
    "          'third_route_before_survey_board', 'first_route_after_survey_alight', \n",
    "          'second_route_after_survey_alight', 'third_route_after_survey_alight']:\n",
    "    route_unique = df[[i]]\n",
    "    route_unique.columns = ['survey_name']\n",
    "    routes = pd.concat([routes, route_unique])\n",
    "\n",
    "routes_clean = routes.loc[routes.survey_name.notnull()]\n",
    "routes_clean.drop_duplicates(inplace=True)\n",
    "routes_clean['survey'] = 'WestCAT'\n",
    "routes_clean['survey_year'] = 2017\n",
    "\n",
    "print(routes_clean.shape)\n",
    "routes_clean[['survey','survey_year','survey_name']].to_csv(r'M:\\Data\\OnBoard\\Data and Reports\\WestCAT\\As CSV\\all_routes_raw.csv', index=False)"
   ]
  }
 ],
 "metadata": {
  "kernelspec": {
   "display_name": "Python 3",
   "language": "python",
   "name": "python3"
  },
  "language_info": {
   "codemirror_mode": {
    "name": "ipython",
    "version": 3
   },
   "file_extension": ".py",
   "mimetype": "text/x-python",
   "name": "python",
   "nbconvert_exporter": "python",
   "pygments_lexer": "ipython3",
   "version": "3.7.6"
  }
 },
 "nbformat": 4,
 "nbformat_minor": 4
}
