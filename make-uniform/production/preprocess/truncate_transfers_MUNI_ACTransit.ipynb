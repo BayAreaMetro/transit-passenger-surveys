{
 "cells": [
  {
   "cell_type": "code",
   "execution_count": 1,
   "id": "simplified-proceeding",
   "metadata": {},
   "outputs": [],
   "source": [
    "import pandas as pd"
   ]
  },
  {
   "cell_type": "code",
   "execution_count": 2,
   "id": "bigger-introduction",
   "metadata": {},
   "outputs": [
    {
     "name": "stderr",
     "output_type": "stream",
     "text": [
      "C:\\Users\\ywang\\Anaconda3\\lib\\site-packages\\IPython\\core\\interactiveshell.py:3147: DtypeWarning: Columns (0,8,13,14,15,19,20,21,25,26,31,32,33,34,38,41,42,43,44,45,47,52,53,54,55,59,62,63,64,65,66,67,68,69,74,78,79,80,81,82,83,84,85,86,87,88,89,90,91,92,93,94,95,96,97,98,99,100,101,102,103,104,105,106,107,108,109,110,111,113,115,117,118,119,120,121,123,128,143,145,147,149,157,159,161,163,164,169,170,171,172,174,176,178,192,193,194,202,204,206,208,210,213,215,216,217,218,219,221,224,225,226,228,229,230,231,232,233,238) have mixed types.Specify dtype option on import or set low_memory=False.\n",
      "  interactivity=interactivity, compiler=compiler, result=result)\n"
     ]
    }
   ],
   "source": [
    "muni_df = pd.read_csv(r'M:\\Data\\OnBoard\\Data and Reports\\Muni\\As CSV\\MUNI_DRAFTFINAL_20171114 NO POUND OR SINGLE QUOTE.csv')"
   ]
  },
  {
   "cell_type": "code",
   "execution_count": 3,
   "id": "retained-ownership",
   "metadata": {},
   "outputs": [
    {
     "data": {
      "text/plain": [
       "0                         39645\n",
       "1                          5020\n",
       "0                          2860\n",
       "2                           380\n",
       "1                           369\n",
       "Missing - Dummy Record       27\n",
       "2                            21\n",
       "3                            11\n",
       "3                             1\n",
       "Name: number_transfers_orig_board, dtype: int64"
      ]
     },
     "metadata": {},
     "output_type": "display_data"
    },
    {
     "data": {
      "text/plain": [
       "0                         39025\n",
       "1                          5619\n",
       "0                          2773\n",
       "1                           455\n",
       "2                           388\n",
       "Missing - Dummy Record       27\n",
       "2                            23\n",
       "3                            22\n",
       "4                             2\n",
       "Name: number_transfers_alight_dest, dtype: int64"
      ]
     },
     "metadata": {},
     "output_type": "display_data"
    },
    {
     "data": {
      "text/html": [
       "<div>\n",
       "<style scoped>\n",
       "    .dataframe tbody tr th:only-of-type {\n",
       "        vertical-align: middle;\n",
       "    }\n",
       "\n",
       "    .dataframe tbody tr th {\n",
       "        vertical-align: top;\n",
       "    }\n",
       "\n",
       "    .dataframe thead th {\n",
       "        text-align: right;\n",
       "    }\n",
       "</style>\n",
       "<table border=\"1\" class=\"dataframe\">\n",
       "  <thead>\n",
       "    <tr style=\"text-align: right;\">\n",
       "      <th></th>\n",
       "      <th>final_trip_first_route</th>\n",
       "      <th>final_trip_second_route</th>\n",
       "      <th>final_trip_third_route</th>\n",
       "      <th>number_transfers_orig_board</th>\n",
       "      <th>final_trip_to_first_route</th>\n",
       "      <th>final_trip_to_second_route</th>\n",
       "      <th>final_trip_to_third_route</th>\n",
       "      <th>final_trip_to_fourth_route</th>\n",
       "      <th>number_transfers_alight_dest</th>\n",
       "    </tr>\n",
       "  </thead>\n",
       "  <tbody>\n",
       "    <tr>\n",
       "      <th>25954</th>\n",
       "      <td>NaN</td>\n",
       "      <td>NaN</td>\n",
       "      <td>NaN</td>\n",
       "      <td>0</td>\n",
       "      <td>MUNI 14R-Mission Rapid</td>\n",
       "      <td>Golden Gate Ferry Larkspur Ferry</td>\n",
       "      <td>Marin 228 College of Marin/Indian Valley Campus</td>\n",
       "      <td>Golden Gate 29 San Rafael - Larkspur Landing -...</td>\n",
       "      <td>4</td>\n",
       "    </tr>\n",
       "    <tr>\n",
       "      <th>31362</th>\n",
       "      <td>NaN</td>\n",
       "      <td>NaN</td>\n",
       "      <td>NaN</td>\n",
       "      <td>0</td>\n",
       "      <td>MUNI 8-Bayshore</td>\n",
       "      <td>MUNI 14R-Mission Rapid</td>\n",
       "      <td>SamTrans ECR Palo Alto - Daly City</td>\n",
       "      <td>SamTrans 250 Downtown San Mateo College of San...</td>\n",
       "      <td>4</td>\n",
       "    </tr>\n",
       "  </tbody>\n",
       "</table>\n",
       "</div>"
      ],
      "text/plain": [
       "      final_trip_first_route final_trip_second_route final_trip_third_route  \\\n",
       "25954                    NaN                     NaN                    NaN   \n",
       "31362                    NaN                     NaN                    NaN   \n",
       "\n",
       "      number_transfers_orig_board final_trip_to_first_route  \\\n",
       "25954                           0    MUNI 14R-Mission Rapid   \n",
       "31362                           0           MUNI 8-Bayshore   \n",
       "\n",
       "             final_trip_to_second_route  \\\n",
       "25954  Golden Gate Ferry Larkspur Ferry   \n",
       "31362            MUNI 14R-Mission Rapid   \n",
       "\n",
       "                             final_trip_to_third_route  \\\n",
       "25954  Marin 228 College of Marin/Indian Valley Campus   \n",
       "31362               SamTrans ECR Palo Alto - Daly City   \n",
       "\n",
       "                              final_trip_to_fourth_route  \\\n",
       "25954  Golden Gate 29 San Rafael - Larkspur Landing -...   \n",
       "31362  SamTrans 250 Downtown San Mateo College of San...   \n",
       "\n",
       "      number_transfers_alight_dest  \n",
       "25954                            4  \n",
       "31362                            4  "
      ]
     },
     "metadata": {},
     "output_type": "display_data"
    },
    {
     "data": {
      "text/plain": [
       "0                         39645\n",
       "1                          5020\n",
       "0                          2860\n",
       "2                           380\n",
       "1                           369\n",
       "Missing - Dummy Record       27\n",
       "2                            21\n",
       "3                            11\n",
       "3                             1\n",
       "Name: number_transfers_orig_board, dtype: int64"
      ]
     },
     "metadata": {},
     "output_type": "display_data"
    },
    {
     "data": {
      "text/plain": [
       "0                         39025\n",
       "1                          5619\n",
       "0                          2773\n",
       "1                           455\n",
       "2                           388\n",
       "Missing - Dummy Record       27\n",
       "3                            24\n",
       "2                            23\n",
       "Name: number_transfers_alight_dest, dtype: int64"
      ]
     },
     "metadata": {},
     "output_type": "display_data"
    }
   ],
   "source": [
    "# find out and inspect survey responses with more than 3 transfers before or after the surveyed route\n",
    "\n",
    "display(muni_df.number_transfers_orig_board.value_counts())\n",
    "display(muni_df.number_transfers_alight_dest.value_counts())\n",
    "\n",
    "muni_df_modify = muni_df.loc[muni_df.number_transfers_alight_dest == 4][[\n",
    "    'final_trip_first_route', 'final_trip_second_route', 'final_trip_third_route',\n",
    "    'number_transfers_orig_board',\n",
    "    'final_trip_to_first_route', 'final_trip_to_second_route', 'final_trip_to_third_route', 'final_trip_to_fourth_route',\n",
    "    'number_transfers_alight_dest']]\n",
    "\n",
    "display(muni_df_modify)\n",
    "\n",
    "# change \"number_transfers_alight_dest\" from 4 to 3 and keep the initial transfer routes\n",
    "muni_df.loc[muni_df.number_transfers_alight_dest == 4, 'number_transfers_alight_dest'] = 3\n",
    "\n",
    "display(muni_df.number_transfers_orig_board.value_counts())\n",
    "display(muni_df.number_transfers_alight_dest.value_counts())\n",
    "\n",
    "# export the new file\n",
    "muni_df.to_csv(r'M:\\Data\\OnBoard\\Data and Reports\\Muni\\As CSV\\MUNI_DRAFTFINAL_20171114_fixedTransferNum_NO POUND OR SINGLE QUOTE.csv', index=False)"
   ]
  },
  {
   "cell_type": "code",
   "execution_count": 4,
   "id": "indie-clerk",
   "metadata": {},
   "outputs": [
    {
     "name": "stderr",
     "output_type": "stream",
     "text": [
      "C:\\Users\\ywang\\Anaconda3\\lib\\site-packages\\IPython\\core\\interactiveshell.py:3147: DtypeWarning: Columns (15,18,19,20,26,28,31,33,53,60,65,68,74,75,78,136,143,148,151,153,157,158,159,161,162,163,164,165,169,170,190,200,201,202,209,217,224,225,233,241,245,246,249,253,254,273,281,289,294,297,302,309,310,317,318,326,334,361,366,369,390,410,411,412,419,421,424,430,437,474,476,477) have mixed types.Specify dtype option on import or set low_memory=False.\n",
      "  interactivity=interactivity, compiler=compiler, result=result)\n"
     ]
    }
   ],
   "source": [
    "actransit_df = pd.read_csv(r'M:\\Data\\OnBoard\\Data and Reports\\AC Transit\\2018\\OD_20180703_ACTransit_DraftFinal_Income_Imputation (EasyPassRecode) NO POUND OR SINGLE QUOTE.csv')"
   ]
  },
  {
   "cell_type": "code",
   "execution_count": 5,
   "id": "moved-hunger",
   "metadata": {},
   "outputs": [
    {
     "data": {
      "text/plain": [
       "0    12173\n",
       "1     2205\n",
       "2      285\n",
       "3       15\n",
       "Name: number_transfers_orig_board, dtype: int64"
      ]
     },
     "metadata": {},
     "output_type": "display_data"
    },
    {
     "data": {
      "text/plain": [
       "0    12162\n",
       "1     2280\n",
       "2      231\n",
       "3        4\n",
       "4        1\n",
       "Name: number_transfers_alight_dest, dtype: int64"
      ]
     },
     "metadata": {},
     "output_type": "display_data"
    },
    {
     "data": {
      "text/html": [
       "<div>\n",
       "<style scoped>\n",
       "    .dataframe tbody tr th:only-of-type {\n",
       "        vertical-align: middle;\n",
       "    }\n",
       "\n",
       "    .dataframe tbody tr th {\n",
       "        vertical-align: top;\n",
       "    }\n",
       "\n",
       "    .dataframe thead th {\n",
       "        text-align: right;\n",
       "    }\n",
       "</style>\n",
       "<table border=\"1\" class=\"dataframe\">\n",
       "  <thead>\n",
       "    <tr style=\"text-align: right;\">\n",
       "      <th></th>\n",
       "      <th>final_trip_first_route</th>\n",
       "      <th>final_trip_second_route</th>\n",
       "      <th>final_trip_third_route</th>\n",
       "      <th>number_transfers_orig_board</th>\n",
       "      <th>final_trip_to_first_route</th>\n",
       "      <th>final_trip_to_second_route</th>\n",
       "      <th>final_trip_to_third_route</th>\n",
       "      <th>final_trip_to_fourth_route</th>\n",
       "      <th>number_transfers_alight_dest</th>\n",
       "    </tr>\n",
       "  </thead>\n",
       "  <tbody>\n",
       "    <tr>\n",
       "      <th>958</th>\n",
       "      <td>NaN</td>\n",
       "      <td>NaN</td>\n",
       "      <td>NaN</td>\n",
       "      <td>0</td>\n",
       "      <td>BART</td>\n",
       "      <td>VTA 181 Express</td>\n",
       "      <td>VTA 901 Light Rail</td>\n",
       "      <td>VTA 10 Airport Service</td>\n",
       "      <td>4</td>\n",
       "    </tr>\n",
       "  </tbody>\n",
       "</table>\n",
       "</div>"
      ],
      "text/plain": [
       "    final_trip_first_route final_trip_second_route final_trip_third_route  \\\n",
       "958                    NaN                     NaN                    NaN   \n",
       "\n",
       "     number_transfers_orig_board final_trip_to_first_route  \\\n",
       "958                            0                      BART   \n",
       "\n",
       "    final_trip_to_second_route final_trip_to_third_route  \\\n",
       "958            VTA 181 Express        VTA 901 Light Rail   \n",
       "\n",
       "    final_trip_to_fourth_route  number_transfers_alight_dest  \n",
       "958     VTA 10 Airport Service                             4  "
      ]
     },
     "metadata": {},
     "output_type": "display_data"
    },
    {
     "data": {
      "text/plain": [
       "0    12173\n",
       "1     2205\n",
       "2      285\n",
       "3       15\n",
       "Name: number_transfers_orig_board, dtype: int64"
      ]
     },
     "metadata": {},
     "output_type": "display_data"
    },
    {
     "data": {
      "text/plain": [
       "0    12162\n",
       "1     2280\n",
       "2      231\n",
       "3        5\n",
       "Name: number_transfers_alight_dest, dtype: int64"
      ]
     },
     "metadata": {},
     "output_type": "display_data"
    }
   ],
   "source": [
    "# find out and inspect survey responses with more than 3 transfers before or after the surveyed route\n",
    "\n",
    "display(actransit_df.number_transfers_orig_board.value_counts())\n",
    "display(actransit_df.number_transfers_alight_dest.value_counts())\n",
    "\n",
    "actransit_df_modify = actransit_df.loc[actransit_df.number_transfers_alight_dest == 4][[\n",
    "    'final_trip_first_route', 'final_trip_second_route', 'final_trip_third_route',\n",
    "    'number_transfers_orig_board',\n",
    "    'final_trip_to_first_route', 'final_trip_to_second_route', 'final_trip_to_third_route', 'final_trip_to_fourth_route',\n",
    "    'number_transfers_alight_dest']]\n",
    "\n",
    "display(actransit_df_modify)\n",
    "\n",
    "# change \"number_transfers_alight_dest\" from 4 to 3 and keep the initial transfer routes\n",
    "actransit_df.loc[actransit_df.number_transfers_alight_dest == 4, 'number_transfers_alight_dest'] = 3\n",
    "\n",
    "display(actransit_df.number_transfers_orig_board.value_counts())\n",
    "display(actransit_df.number_transfers_alight_dest.value_counts())"
   ]
  },
  {
   "cell_type": "code",
   "execution_count": 6,
   "id": "israeli-villa",
   "metadata": {},
   "outputs": [],
   "source": [
    "# export the new file\n",
    "actransit_df.to_csv(r'M:\\Data\\OnBoard\\Data and Reports\\AC Transit\\2018\\OD_20180703_ACTransit_DraftFinal_Income_Imputation (EasyPassRecode)_fixTransfers_NO POUND OR SINGLE QUOTE.csv',\n",
    "                    index=False)"
   ]
  }
 ],
 "metadata": {
  "kernelspec": {
   "display_name": "Python 3",
   "language": "python",
   "name": "python3"
  },
  "language_info": {
   "codemirror_mode": {
    "name": "ipython",
    "version": 3
   },
   "file_extension": ".py",
   "mimetype": "text/x-python",
   "name": "python",
   "nbconvert_exporter": "python",
   "pygments_lexer": "ipython3",
   "version": "3.7.6"
  }
 },
 "nbformat": 4,
 "nbformat_minor": 5
}
