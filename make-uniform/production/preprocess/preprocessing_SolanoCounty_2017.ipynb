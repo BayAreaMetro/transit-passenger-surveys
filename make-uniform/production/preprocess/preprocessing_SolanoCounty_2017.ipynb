{
 "cells": [
  {
   "cell_type": "code",
   "execution_count": 19,
   "metadata": {},
   "outputs": [],
   "source": [
    "import pandas as pd\n",
    "import numpy as np"
   ]
  },
  {
   "cell_type": "code",
   "execution_count": 2,
   "metadata": {},
   "outputs": [
    {
     "data": {
      "text/html": [
       "<div>\n",
       "<style scoped>\n",
       "    .dataframe tbody tr th:only-of-type {\n",
       "        vertical-align: middle;\n",
       "    }\n",
       "\n",
       "    .dataframe tbody tr th {\n",
       "        vertical-align: top;\n",
       "    }\n",
       "\n",
       "    .dataframe thead th {\n",
       "        text-align: right;\n",
       "    }\n",
       "</style>\n",
       "<table border=\"1\" class=\"dataframe\">\n",
       "  <thead>\n",
       "    <tr style=\"text-align: right;\">\n",
       "      <th></th>\n",
       "      <th>ID</th>\n",
       "      <th>Agency</th>\n",
       "      <th>Survey_route_fast</th>\n",
       "      <th>Survey_route_other_fast</th>\n",
       "      <th>Survey_route_rvdb</th>\n",
       "      <th>Survey_route_other_rvdb</th>\n",
       "      <th>Survey_route_soltrans</th>\n",
       "      <th>Survey_route_other_soltrans</th>\n",
       "      <th>Survey_route_vcc</th>\n",
       "      <th>Survey_route_other_vcc</th>\n",
       "      <th>...</th>\n",
       "      <th>Egress_distance</th>\n",
       "      <th>Weight</th>\n",
       "      <th>First_board_lat</th>\n",
       "      <th>First_board_lon</th>\n",
       "      <th>Last_alight_lat</th>\n",
       "      <th>Last_alight_lon</th>\n",
       "      <th>Survey_language</th>\n",
       "      <th>Survey_type</th>\n",
       "      <th>Survey_date</th>\n",
       "      <th>Survey_time</th>\n",
       "    </tr>\n",
       "  </thead>\n",
       "  <tbody>\n",
       "    <tr>\n",
       "      <th>0</th>\n",
       "      <td>1025</td>\n",
       "      <td>FAST</td>\n",
       "      <td>1.0</td>\n",
       "      <td></td>\n",
       "      <td>NaN</td>\n",
       "      <td></td>\n",
       "      <td>NaN</td>\n",
       "      <td></td>\n",
       "      <td>NaN</td>\n",
       "      <td></td>\n",
       "      <td>...</td>\n",
       "      <td>NaN</td>\n",
       "      <td>20.29</td>\n",
       "      <td>38.274642</td>\n",
       "      <td>-122.033977</td>\n",
       "      <td>38.254711</td>\n",
       "      <td>-122.034323</td>\n",
       "      <td>English</td>\n",
       "      <td>Onboard</td>\n",
       "      <td>5/15/2017</td>\n",
       "      <td>12:05</td>\n",
       "    </tr>\n",
       "    <tr>\n",
       "      <th>1</th>\n",
       "      <td>1027</td>\n",
       "      <td>FAST</td>\n",
       "      <td>1.0</td>\n",
       "      <td></td>\n",
       "      <td>NaN</td>\n",
       "      <td></td>\n",
       "      <td>NaN</td>\n",
       "      <td></td>\n",
       "      <td>NaN</td>\n",
       "      <td></td>\n",
       "      <td>...</td>\n",
       "      <td>NaN</td>\n",
       "      <td>20.29</td>\n",
       "      <td>38.250062</td>\n",
       "      <td>-122.039056</td>\n",
       "      <td>38.248292</td>\n",
       "      <td>-122.068693</td>\n",
       "      <td>English</td>\n",
       "      <td>Onboard</td>\n",
       "      <td>5/15/2017</td>\n",
       "      <td>12:17</td>\n",
       "    </tr>\n",
       "    <tr>\n",
       "      <th>2</th>\n",
       "      <td>1049</td>\n",
       "      <td>FAST</td>\n",
       "      <td>1.0</td>\n",
       "      <td></td>\n",
       "      <td>NaN</td>\n",
       "      <td></td>\n",
       "      <td>NaN</td>\n",
       "      <td></td>\n",
       "      <td>NaN</td>\n",
       "      <td></td>\n",
       "      <td>...</td>\n",
       "      <td>NaN</td>\n",
       "      <td>20.29</td>\n",
       "      <td>37.733054</td>\n",
       "      <td>-122.433819</td>\n",
       "      <td>38.259118</td>\n",
       "      <td>-122.034062</td>\n",
       "      <td>English</td>\n",
       "      <td>Onboard</td>\n",
       "      <td>5/15/2017</td>\n",
       "      <td>15:36</td>\n",
       "    </tr>\n",
       "    <tr>\n",
       "      <th>3</th>\n",
       "      <td>1069</td>\n",
       "      <td>FAST</td>\n",
       "      <td>1.0</td>\n",
       "      <td></td>\n",
       "      <td>NaN</td>\n",
       "      <td></td>\n",
       "      <td>NaN</td>\n",
       "      <td></td>\n",
       "      <td>NaN</td>\n",
       "      <td></td>\n",
       "      <td>...</td>\n",
       "      <td>NaN</td>\n",
       "      <td>20.29</td>\n",
       "      <td>38.279086</td>\n",
       "      <td>-122.035275</td>\n",
       "      <td>38.199994</td>\n",
       "      <td>-122.148743</td>\n",
       "      <td>English</td>\n",
       "      <td>Onboard</td>\n",
       "      <td>5/3/2017</td>\n",
       "      <td>8:34</td>\n",
       "    </tr>\n",
       "    <tr>\n",
       "      <th>4</th>\n",
       "      <td>1076</td>\n",
       "      <td>FAST</td>\n",
       "      <td>1.0</td>\n",
       "      <td></td>\n",
       "      <td>NaN</td>\n",
       "      <td></td>\n",
       "      <td>NaN</td>\n",
       "      <td></td>\n",
       "      <td>NaN</td>\n",
       "      <td></td>\n",
       "      <td>...</td>\n",
       "      <td>NaN</td>\n",
       "      <td>20.29</td>\n",
       "      <td>38.279945</td>\n",
       "      <td>-122.025554</td>\n",
       "      <td>38.297550</td>\n",
       "      <td>-122.280433</td>\n",
       "      <td>English</td>\n",
       "      <td>Onboard</td>\n",
       "      <td>5/3/2017</td>\n",
       "      <td>14:33</td>\n",
       "    </tr>\n",
       "  </tbody>\n",
       "</table>\n",
       "<p>5 rows × 173 columns</p>\n",
       "</div>"
      ],
      "text/plain": [
       "     ID Agency  Survey_route_fast  Survey_route_other_fast  Survey_route_rvdb  \\\n",
       "0  1025   FAST                1.0                                         NaN   \n",
       "1  1027   FAST                1.0                                         NaN   \n",
       "2  1049   FAST                1.0                                         NaN   \n",
       "3  1069   FAST                1.0                                         NaN   \n",
       "4  1076   FAST                1.0                                         NaN   \n",
       "\n",
       "   Survey_route_other_rvdb  Survey_route_soltrans  \\\n",
       "0                                             NaN   \n",
       "1                                             NaN   \n",
       "2                                             NaN   \n",
       "3                                             NaN   \n",
       "4                                             NaN   \n",
       "\n",
       "   Survey_route_other_soltrans  Survey_route_vcc  Survey_route_other_vcc  ...  \\\n",
       "0                                            NaN                          ...   \n",
       "1                                            NaN                          ...   \n",
       "2                                            NaN                          ...   \n",
       "3                                            NaN                          ...   \n",
       "4                                            NaN                          ...   \n",
       "\n",
       "  Egress_distance Weight First_board_lat First_board_lon Last_alight_lat  \\\n",
       "0             NaN  20.29       38.274642     -122.033977       38.254711   \n",
       "1             NaN  20.29       38.250062     -122.039056       38.248292   \n",
       "2             NaN  20.29       37.733054     -122.433819       38.259118   \n",
       "3             NaN  20.29       38.279086     -122.035275       38.199994   \n",
       "4             NaN  20.29       38.279945     -122.025554       38.297550   \n",
       "\n",
       "   Last_alight_lon  Survey_language Survey_type Survey_date Survey_time  \n",
       "0      -122.034323          English     Onboard   5/15/2017       12:05  \n",
       "1      -122.068693          English     Onboard   5/15/2017       12:17  \n",
       "2      -122.034062          English     Onboard   5/15/2017       15:36  \n",
       "3      -122.148743          English     Onboard    5/3/2017        8:34  \n",
       "4      -122.280433          English     Onboard    5/3/2017       14:33  \n",
       "\n",
       "[5 rows x 173 columns]"
      ]
     },
     "metadata": {},
     "output_type": "display_data"
    },
    {
     "name": "stdout",
     "output_type": "stream",
     "text": [
      "(705, 173)\n"
     ]
    }
   ],
   "source": [
    "df_raw = pd.read_csv(r'M:\\Data\\OnBoard\\Data and Reports\\Solano County\\As CSV\\All Solano Data.csv',\n",
    "                     encoding = \"ISO-8859-1\", engine='python')\n",
    "df_raw.rename(columns = {'Agency_to_transfer_to_1st_other': 'Agency_transfer_to_1st_other',\n",
    "                         'Route_tranfer_from_1st_other': 'Route_transfer_from_1st_other'}, inplace=True)\n",
    "df = df_raw.copy()\n",
    "display(df.head())\n",
    "print(df.shape)"
   ]
  },
  {
   "cell_type": "code",
   "execution_count": 3,
   "metadata": {},
   "outputs": [],
   "source": [
    "for i in ['Agency_transfer_from_1st', 'Agency_transfer_from_2nd', 'Agency_transfer_from_3rd',\n",
    "          'Agency_transfer_to_1st', 'Agency_transfer_to_2nd', 'Agency_transfer_to_3rd',\n",
    "          'Route_transfer_from_1st', 'Route_transfer_from_2nd', 'Route_transfer_from_3rd',\n",
    "          'Route_transfer_to_1st', 'Route_transfer_to_2nd', 'Route_transfer_to_3rd']:\n",
    "    df[i+'_temp'] = df[i]\n",
    "    df.loc[df[i+'_temp'] == 'Other', i+'_temp'] = df.loc[df[i+'_temp'] == 'Other', i+'_other']\n",
    "\n",
    "df['Agency_route_transfer_from_1st'] = df['Agency_transfer_from_1st_temp'] + '___' + df['Route_transfer_from_1st_temp']\n",
    "df['Agency_route_transfer_from_2nd'] = df['Agency_transfer_from_2nd_temp'] + '___' + df['Route_transfer_from_2nd_temp']\n",
    "df['Agency_route_transfer_from_3rd'] = df['Agency_transfer_from_3rd_temp'] + '___' + df['Route_transfer_from_3rd_temp']\n",
    "df['Agency_route_transfer_to_1st'] = df['Agency_transfer_to_1st_temp'] + '___' + df['Route_transfer_to_1st_temp']\n",
    "df['Agency_route_transfer_to_2nd'] = df['Agency_transfer_to_2nd_temp'] + '___' + df['Route_transfer_to_2nd_temp']\n",
    "df['Agency_route_transfer_to_3rd'] = df['Agency_transfer_to_3rd_temp'] + '___' + df['Route_transfer_to_3rd_temp']\n",
    "\n",
    "df['Daypart_hour'] = df['Daypart']\n",
    "df['Time_left_home_hour'] = df['Time_left_home']\n",
    "df['Time_return_home_hour'] = df['Time_return_home']\n",
    "\n",
    "df_new = df[list(df_raw) + ['Agency_route_transfer_from_1st', 'Agency_route_transfer_from_2nd',\n",
    "                            'Agency_route_transfer_from_3rd',\n",
    "                            'Agency_route_transfer_to_1st','Agency_route_transfer_to_2nd',\n",
    "                            'Agency_route_transfer_to_3rd',\n",
    "                            'Daypart_hour',\n",
    "                            'Time_left_home_hour',\n",
    "                            'Time_return_home_hour']]\n"
   ]
  },
  {
   "cell_type": "code",
   "execution_count": 4,
   "metadata": {},
   "outputs": [
    {
     "name": "stderr",
     "output_type": "stream",
     "text": [
      "C:\\Users\\ywang\\Anaconda3\\lib\\site-packages\\ipykernel_launcher.py:4: SettingWithCopyWarning: \n",
      "A value is trying to be set on a copy of a slice from a DataFrame.\n",
      "Try using .loc[row_indexer,col_indexer] = value instead\n",
      "\n",
      "See the caveats in the documentation: https://pandas.pydata.org/pandas-docs/stable/user_guide/indexing.html#returning-a-view-versus-a-copy\n",
      "  after removing the cwd from sys.path.\n",
      "C:\\Users\\ywang\\Anaconda3\\lib\\site-packages\\ipykernel_launcher.py:6: SettingWithCopyWarning: \n",
      "A value is trying to be set on a copy of a slice from a DataFrame.\n",
      "Try using .loc[row_indexer,col_indexer] = value instead\n",
      "\n",
      "See the caveats in the documentation: https://pandas.pydata.org/pandas-docs/stable/user_guide/indexing.html#returning-a-view-versus-a-copy\n",
      "  \n",
      "C:\\Users\\ywang\\Anaconda3\\lib\\site-packages\\pandas\\core\\indexing.py:1676: SettingWithCopyWarning: \n",
      "A value is trying to be set on a copy of a slice from a DataFrame.\n",
      "Try using .loc[row_indexer,col_indexer] = value instead\n",
      "\n",
      "See the caveats in the documentation: https://pandas.pydata.org/pandas-docs/stable/user_guide/indexing.html#returning-a-view-versus-a-copy\n",
      "  self._setitem_single_column(ilocs[0], value, pi)\n",
      "C:\\Users\\ywang\\Anaconda3\\lib\\site-packages\\ipykernel_launcher.py:9: SettingWithCopyWarning: \n",
      "A value is trying to be set on a copy of a slice from a DataFrame.\n",
      "Try using .loc[row_indexer,col_indexer] = value instead\n",
      "\n",
      "See the caveats in the documentation: https://pandas.pydata.org/pandas-docs/stable/user_guide/indexing.html#returning-a-view-versus-a-copy\n",
      "  if __name__ == '__main__':\n"
     ]
    }
   ],
   "source": [
    "# consolidate 'access_mode'/'access_mode_other' and 'egress_mode'/'egress_mode_other'\n",
    "\n",
    "for i in ['Access_mode_other', 'Egress_mode_other']:\n",
    "    df_new[i] = df_new[i].apply(lambda x: x.strip())\n",
    "\n",
    "df_new['Access_mode_final'] = df_new['Access_mode']\n",
    "df_new.loc[df_new.Access_mode_final == 'Other', 'Access_mode_final'] = df_new['Access_mode_other']\n",
    "\n",
    "df_new['Egress_mode_final'] = df_new['Egress_mode']\n",
    "df_new.loc[df_new.Egress_mode_final == 'Other', 'Egress_mode_final'] = df_new['Egress_mode_other']"
   ]
  },
  {
   "cell_type": "code",
   "execution_count": 5,
   "metadata": {},
   "outputs": [
    {
     "name": "stdout",
     "output_type": "stream",
     "text": [
      "['ID', 'Agency', 'Survey_route_fast', 'Survey_route_other_fast', 'Survey_route_rvdb', 'Survey_route_other_rvdb', 'Survey_route_soltrans', 'Survey_route_other_soltrans', 'Survey_route_vcc', 'Survey_route_other_vcc', 'Daypart', 'Direction', 'Number_of_riders', 'Origin', 'Origin_other', 'Origin_lat', 'Origin_lon', 'Origin_address', 'Destination', 'Destination_other', 'Destination_lat', 'Destination_lon', 'Destination_address', 'Explanation_not_round_trip', 'Access_mode', 'Access_mode_other', 'Access_minutes', 'Access_miles', 'Transfer_from_amount', 'Transfer_from_1st', 'Agency_transfer_from_1st', 'Agency_transfer_from_1st_other', 'Route_transfer_from_1st', 'Route_transfer_from_1st_other', 'Transfer_from_1st_lat', 'Transfer_from_1st_lon', 'Transfer_from_1st_address', 'Tranfer_from_2nd', 'Agency_transfer_from_2nd', 'Agency_transfer_from_2nd_other', 'Route_transfer_from_2nd', 'Route_transfer_from_2nd_other', 'Transfer_from_2nd_lat', 'Transfer_from_2nd_lon', 'Transfer_from_2nd_address', 'Transfer_from_3rd', 'Agency_transfer_from_3rd', 'Agency_transfer_from_3rd_other', 'Route_transfer_from_3rd', 'Route_transfer_from_3rd_other', 'Transfer_from_3rd_lat', 'Transfer_from_3rd_lon', 'Transfer_from_3rd_address', 'Survey_route_boarding_lat', 'Survey_route_boarding_lon', 'Survey_route_boarding_address', 'Survey_route_alighting_lat', 'Survey_route_alighting_lon', 'Survey_route_alighting_address', 'Transfer_to_amount', 'Transfer_to_1st', 'Agency_transfer_to_1st', 'Agency_transfer_to_1st_other', 'Route_transfer_to_1st', 'Route_transfer_to_1st_other', 'Transfer_to_1st_lat', 'Transfer_to_1st_lon', 'Transfer_to_1st_address', 'Transfer_to_2nd', 'Agency_transfer_to_2nd', 'Agency_transfer_to_2nd_other', 'Route_transfer_to_2nd', 'Route_transfer_to_2nd_other', 'Transfer_to_2nd_lat', 'Transfer_to_2nd_lon', 'Transfer_to_2nd_address', 'Transfer_to_3rd', 'Agency_transfer_to_3rd', 'Agency_transfer_to_3rd_other', 'Route_transfer_to_3rd', 'Route_transfer_to_3rd_other', 'Transfer_to_3rd_lat', 'Transfer_to_3rd_lon', 'Transfer_to_3rd_address', 'Egress_mode', 'Egress_mode_other', 'Egress_minutes', 'Egress_miles', 'Employment_status', 'Work_before_trip', 'Work_after_trip', 'Work_lat', 'Work_lon', 'Work_address', 'Student_status', 'Been_2school_today', 'Will_go2school_today', 'School_type', 'School_lat', 'School_lon', 'School_address', 'Home_lat', 'Home_lon', 'Home_address', 'Time_left_home', 'Time_return_home', 'Same_trip_opposite_direction', 'Time_same_trip_opposite_direction', 'Pay_mode_fast', 'Pay_mode_other_fast', 'Fare_type_fast', 'Fare_type_other_fast', 'Pay_mode_rvdb', 'Pay_mode_other_rvdb', 'Fare_type_rvdb', 'Fare_type_other_rvdb', 'Pay_mode_soltrans', 'Pay_mode_other_soltrans', 'Fare_type_soltrans', 'Fare_type_other_soltrans', 'Pay_mode_vcc', 'Pay_mode_other_vcc', 'Fare_type_vcc', 'Fare_type_other_vcc', 'Trip_mode_alternate', 'Trip_mode_alternate_other', 'Transit_ridership_length', 'Express_on_time_rating', 'Express_freqency_rating', 'Express_driver_courtesy_rating', 'Express_intercity_connection_rating', 'License_status', 'Persons_HH', 'Persons_HH_other', 'Workers_HH', 'Workers_HH_other', 'Vehicles_HH', 'Vehicles_HH_other', 'Year_born', 'Hispanic', 'Race', 'Race_other', 'Lang_other_than_english', 'Other_lang_spoken_at_home', 'Other_lang_spoken_at_home_other', 'English_Fluency', 'HH_income', 'Gender', 'Day', 'Home_based_trip_purp_recode', 'Home_based_trip_purp_recode_selected', 'Home_based_trip_purp_recode_top_four', 'Age_group_recode', 'Income_HH_recode', 'Race_dmy_recode', 'Lang_at_home_detail_recode_top_chosen', 'Number_transfer_legs', 'Transit_type', 'Persons_HH_recode', 'Vehicles_HH_recode', 'Access_walk_time', 'Access_distance', 'Egress_walk_time', 'Egress_distance', 'Weight', 'First_board_lat', 'First_board_lon', 'Last_alight_lat', 'Last_alight_lon', 'Survey_language', 'Survey_type', 'Survey_date', 'Survey_time', 'Agency_route_transfer_from_1st', 'Agency_route_transfer_from_2nd', 'Agency_route_transfer_from_3rd', 'Agency_route_transfer_to_1st', 'Agency_route_transfer_to_2nd', 'Agency_route_transfer_to_3rd', 'Daypart_hour', 'Time_left_home_hour', 'Time_return_home_hour', 'Access_mode_final', 'Egress_mode_final']\n"
     ]
    }
   ],
   "source": [
    "print(list(df_new))"
   ]
  },
  {
   "cell_type": "code",
   "execution_count": null,
   "metadata": {},
   "outputs": [],
   "source": [
    "'Survey_route_fast', 'Survey_route_other_fast', 'Survey_route_rvdb', 'Survey_route_other_rvdb', 'Survey_route_soltrans', 'Survey_route_other_soltrans', 'Survey_route_vcc', 'Survey_route_other_vcc'"
   ]
  },
  {
   "cell_type": "code",
   "execution_count": 6,
   "metadata": {},
   "outputs": [
    {
     "data": {
      "text/plain": [
       "array([ 1.,  2.,  3.,  4.,  5.,  6.,  7.,  8.,  9., 20., 30., 40., 90.,\n",
       "       nan])"
      ]
     },
     "execution_count": 6,
     "metadata": {},
     "output_type": "execute_result"
    }
   ],
   "source": []
  },
  {
   "cell_type": "code",
   "execution_count": 21,
   "metadata": {},
   "outputs": [
    {
     "name": "stdout",
     "output_type": "stream",
     "text": [
      "[ 1.  2.  3.  4.  5.  6.  7.  8.  9. 20. 30. 40. 90. nan]\n",
      "['                       ']\n"
     ]
    },
    {
     "name": "stderr",
     "output_type": "stream",
     "text": [
      "C:\\Users\\ywang\\Anaconda3\\lib\\site-packages\\ipykernel_launcher.py:3: SettingWithCopyWarning: \n",
      "A value is trying to be set on a copy of a slice from a DataFrame.\n",
      "Try using .loc[row_indexer,col_indexer] = value instead\n",
      "\n",
      "See the caveats in the documentation: https://pandas.pydata.org/pandas-docs/stable/user_guide/indexing.html#returning-a-view-versus-a-copy\n",
      "  This is separate from the ipykernel package so we can avoid doing imports until\n",
      "C:\\Users\\ywang\\Anaconda3\\lib\\site-packages\\ipykernel_launcher.py:4: SettingWithCopyWarning: \n",
      "A value is trying to be set on a copy of a slice from a DataFrame.\n",
      "Try using .loc[row_indexer,col_indexer] = value instead\n",
      "\n",
      "See the caveats in the documentation: https://pandas.pydata.org/pandas-docs/stable/user_guide/indexing.html#returning-a-view-versus-a-copy\n",
      "  after removing the cwd from sys.path.\n"
     ]
    },
    {
     "data": {
      "text/plain": [
       "array(['1', '2', '3', '4', '5', '6', '7', '8', '9', '20', '30', '40',\n",
       "       '90', ''], dtype=object)"
      ]
     },
     "execution_count": 21,
     "metadata": {},
     "output_type": "execute_result"
    }
   ],
   "source": [
    "print(df_new.Survey_route_fast.unique())\n",
    "print(df_new.Survey_route_other_fast.unique())\n",
    "df_new['Survey_route_fast_recode'] = df_new['Survey_route_fast'].fillna(0)\n",
    "df_new['Survey_route_fast_recode'] = df_new['Survey_route_fast_recode'].apply(lambda x: str(int(x)))\n",
    "df_new.loc[df_new.Survey_route_fast_recode == '0', 'Survey_route_fast_recode'] = ''\n",
    "df_new.Survey_route_fast_recode.unique()"
   ]
  },
  {
   "cell_type": "code",
   "execution_count": 16,
   "metadata": {},
   "outputs": [
    {
     "name": "stdout",
     "output_type": "stream",
     "text": [
      "[nan 50. 52.]\n",
      "['                       ']\n"
     ]
    },
    {
     "name": "stderr",
     "output_type": "stream",
     "text": [
      "C:\\Users\\ywang\\Anaconda3\\lib\\site-packages\\ipykernel_launcher.py:3: SettingWithCopyWarning: \n",
      "A value is trying to be set on a copy of a slice from a DataFrame.\n",
      "Try using .loc[row_indexer,col_indexer] = value instead\n",
      "\n",
      "See the caveats in the documentation: https://pandas.pydata.org/pandas-docs/stable/user_guide/indexing.html#returning-a-view-versus-a-copy\n",
      "  This is separate from the ipykernel package so we can avoid doing imports until\n",
      "C:\\Users\\ywang\\Anaconda3\\lib\\site-packages\\ipykernel_launcher.py:4: SettingWithCopyWarning: \n",
      "A value is trying to be set on a copy of a slice from a DataFrame.\n",
      "Try using .loc[row_indexer,col_indexer] = value instead\n",
      "\n",
      "See the caveats in the documentation: https://pandas.pydata.org/pandas-docs/stable/user_guide/indexing.html#returning-a-view-versus-a-copy\n",
      "  after removing the cwd from sys.path.\n"
     ]
    },
    {
     "data": {
      "text/plain": [
       "array(['', '50', '52'], dtype=object)"
      ]
     },
     "execution_count": 16,
     "metadata": {},
     "output_type": "execute_result"
    }
   ],
   "source": [
    "print(df_new.Survey_route_rvdb.unique())\n",
    "print(df_new.Survey_route_other_rvdb.unique())\n",
    "df_new['Survey_route_rvdb_recode'] = df_new['Survey_route_rvdb'].fillna(0)\n",
    "df_new['Survey_route_rvdb_recode'] = df_new['Survey_route_rvdb_recode'].apply(lambda x: str(int(x)))\n",
    "df_new.loc[df_new.Survey_route_rvdb_recode == '0', 'Survey_route_rvdb_recode'] = ''\n",
    "df_new.Survey_route_rvdb_recode.unique()"
   ]
  },
  {
   "cell_type": "code",
   "execution_count": 18,
   "metadata": {},
   "outputs": [
    {
     "name": "stdout",
     "output_type": "stream",
     "text": [
      "[nan  1.  2.  3.  4.  5.  6.  7.  8. 20. 78. 80. 85.]\n",
      "['                           ']\n"
     ]
    },
    {
     "name": "stderr",
     "output_type": "stream",
     "text": [
      "C:\\Users\\ywang\\Anaconda3\\lib\\site-packages\\ipykernel_launcher.py:3: SettingWithCopyWarning: \n",
      "A value is trying to be set on a copy of a slice from a DataFrame.\n",
      "Try using .loc[row_indexer,col_indexer] = value instead\n",
      "\n",
      "See the caveats in the documentation: https://pandas.pydata.org/pandas-docs/stable/user_guide/indexing.html#returning-a-view-versus-a-copy\n",
      "  This is separate from the ipykernel package so we can avoid doing imports until\n",
      "C:\\Users\\ywang\\Anaconda3\\lib\\site-packages\\ipykernel_launcher.py:4: SettingWithCopyWarning: \n",
      "A value is trying to be set on a copy of a slice from a DataFrame.\n",
      "Try using .loc[row_indexer,col_indexer] = value instead\n",
      "\n",
      "See the caveats in the documentation: https://pandas.pydata.org/pandas-docs/stable/user_guide/indexing.html#returning-a-view-versus-a-copy\n",
      "  after removing the cwd from sys.path.\n"
     ]
    },
    {
     "data": {
      "text/plain": [
       "array(['', '1', '2', '3', '4', '5', '6', '7', '8', '20', '78', '80', '85'],\n",
       "      dtype=object)"
      ]
     },
     "execution_count": 18,
     "metadata": {},
     "output_type": "execute_result"
    }
   ],
   "source": [
    "print(df_new.Survey_route_soltrans.unique())\n",
    "print(df_new.Survey_route_other_soltrans.unique())\n",
    "df_new['Survey_route_soltrans_recode'] = df_new['Survey_route_soltrans'].fillna(0)\n",
    "df_new['Survey_route_soltrans_recode'] = df_new['Survey_route_soltrans_recode'].apply(lambda x: str(int(x)))\n",
    "df_new.loc[df_new.Survey_route_soltrans_recode == '0', 'Survey_route_soltrans_recode'] = ''\n",
    "df_new.Survey_route_soltrans_recode.unique()"
   ]
  },
  {
   "cell_type": "code",
   "execution_count": 22,
   "metadata": {},
   "outputs": [
    {
     "name": "stdout",
     "output_type": "stream",
     "text": [
      "[nan  1.  2.  4.  5.  6.  8.]\n",
      "['                      ']\n"
     ]
    }
   ],
   "source": [
    "print(df_new.Survey_route_vcc.unique())\n",
    "print(df_new.Survey_route_other_vcc.unique())"
   ]
  },
  {
   "cell_type": "code",
   "execution_count": 23,
   "metadata": {},
   "outputs": [],
   "source": [
    "df = pd.read_csv(r'M:\\Data\\OnBoard\\Data and Reports\\Solano County\\As CSV\\FAST_removeTypos_add_route_time_NO POUND OR SINGLE QUOTE.csv')"
   ]
  },
  {
   "cell_type": "code",
   "execution_count": 24,
   "metadata": {},
   "outputs": [
    {
     "data": {
      "text/plain": [
       "array([ 1,  2,  3,  4,  5,  6,  7,  8,  9, 20, 30, 40, 90], dtype=int64)"
      ]
     },
     "execution_count": 24,
     "metadata": {},
     "output_type": "execute_result"
    }
   ],
   "source": [
    "df.Survey_route_fast.unique()"
   ]
  },
  {
   "cell_type": "code",
   "execution_count": null,
   "metadata": {},
   "outputs": [],
   "source": []
  },
  {
   "cell_type": "code",
   "execution_count": null,
   "metadata": {},
   "outputs": [],
   "source": []
  },
  {
   "cell_type": "code",
   "execution_count": 5,
   "metadata": {},
   "outputs": [],
   "source": [
    "df_new.to_csv(r'M:\\Data\\OnBoard\\Data and Reports\\Solano County\\As CSV\\All Solano Data_removeTypos_add_route_time.csv', index=False)"
   ]
  },
  {
   "cell_type": "code",
   "execution_count": 6,
   "metadata": {},
   "outputs": [
    {
     "name": "stderr",
     "output_type": "stream",
     "text": [
      "C:\\Users\\ywang\\Anaconda3\\lib\\site-packages\\ipykernel_launcher.py:9: SettingWithCopyWarning: \n",
      "A value is trying to be set on a copy of a slice from a DataFrame\n",
      "\n",
      "See the caveats in the documentation: https://pandas.pydata.org/pandas-docs/stable/user_guide/indexing.html#returning-a-view-versus-a-copy\n",
      "  if __name__ == '__main__':\n"
     ]
    },
    {
     "name": "stdout",
     "output_type": "stream",
     "text": [
      "(167, 2)\n"
     ]
    }
   ],
   "source": [
    "routes = pd.DataFrame(columns = ['Agency','route'])\n",
    "for i in ['Agency_route_transfer_from_1st', 'Agency_route_transfer_from_2nd', 'Agency_route_transfer_from_3rd',\n",
    "          'Agency_route_transfer_to_1st', 'Agency_route_transfer_to_2nd', 'Agency_route_transfer_to_3rd']:\n",
    "    route_unique = df[['Agency', i]]\n",
    "    route_unique.columns = ['Agency','route']\n",
    "    routes = pd.concat([routes, route_unique])\n",
    "\n",
    "routes_clean = routes.loc[routes.route.notnull()]\n",
    "routes_clean.drop_duplicates(inplace=True)\n",
    "print(routes_clean.shape)\n",
    "routes_clean.to_csv(r'M:\\Data\\OnBoard\\Data and Reports\\Solano County\\As CSV\\all_routes_raw.csv', index=False)"
   ]
  },
  {
   "cell_type": "code",
   "execution_count": null,
   "metadata": {},
   "outputs": [],
   "source": []
  }
 ],
 "metadata": {
  "kernelspec": {
   "display_name": "Python 3",
   "language": "python",
   "name": "python3"
  },
  "language_info": {
   "codemirror_mode": {
    "name": "ipython",
    "version": 3
   },
   "file_extension": ".py",
   "mimetype": "text/x-python",
   "name": "python",
   "nbconvert_exporter": "python",
   "pygments_lexer": "ipython3",
   "version": "3.7.6"
  }
 },
 "nbformat": 4,
 "nbformat_minor": 4
}
